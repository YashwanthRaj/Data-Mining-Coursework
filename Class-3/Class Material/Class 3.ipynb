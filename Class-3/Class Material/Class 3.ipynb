{
 "cells": [
  {
   "cell_type": "code",
   "execution_count": 2,
   "id": "7aac3c57-b14d-4e84-bf4f-e9a3ec62951c",
   "metadata": {},
   "outputs": [],
   "source": [
    "import duckdb\n",
    "import pandas as pd\n",
    "import re\n",
    "from collections import Counter\n",
    "from matplotlib import pyplot as plt\n",
    "from sklearn.metrics.pairwise import cosine_similarity\n",
    "\n",
    "pd.set_option('display.max_rows', 500)\n",
    "pd.set_option('display.max_columns', 500)"
   ]
  },
  {
   "cell_type": "code",
   "execution_count": 3,
   "id": "e40999e4-5f12-45c8-8b9a-3627b344497e",
   "metadata": {},
   "outputs": [
    {
     "data": {
      "text/plain": [
       "┌──────────────┐\n",
       "│     name     │\n",
       "│   varchar    │\n",
       "├──────────────┤\n",
       "│ date_dim     │\n",
       "│ driver       │\n",
       "│ driver2      │\n",
       "│ genre_dim    │\n",
       "│ links        │\n",
       "│ movie_dim    │\n",
       "│ movies       │\n",
       "│ ratings      │\n",
       "│ ratings_fact │\n",
       "│ tags         │\n",
       "│ user_dim     │\n",
       "│ user_matrix  │\n",
       "├──────────────┤\n",
       "│   12 rows    │\n",
       "└──────────────┘"
      ]
     },
     "execution_count": 3,
     "metadata": {},
     "output_type": "execute_result"
    }
   ],
   "source": [
    "path_to_export = \"/Users/yashwanth/Documents/GWU/Sem 3/Data Mining/Class 2/Class Material/MovieLensExport\" \n",
    "duckdb.sql(f'''IMPORT DATABASE '{path_to_export}' ''')\n",
    "duckdb.sql('SHOW TABLES')"
   ]
  },
  {
   "cell_type": "markdown",
   "id": "21faa4ae-cafb-40cb-8890-5184c539246c",
   "metadata": {},
   "source": [
    "# Most frequently reviewed movies"
   ]
  },
  {
   "cell_type": "code",
   "execution_count": 20,
   "id": "f3f196ce-c1af-401d-9641-7bdf6d3d192e",
   "metadata": {},
   "outputs": [
    {
     "data": {
      "text/html": [
       "<div>\n",
       "<style scoped>\n",
       "    .dataframe tbody tr th:only-of-type {\n",
       "        vertical-align: middle;\n",
       "    }\n",
       "\n",
       "    .dataframe tbody tr th {\n",
       "        vertical-align: top;\n",
       "    }\n",
       "\n",
       "    .dataframe thead th {\n",
       "        text-align: right;\n",
       "    }\n",
       "</style>\n",
       "<table border=\"1\" class=\"dataframe\">\n",
       "  <thead>\n",
       "    <tr style=\"text-align: right;\">\n",
       "      <th></th>\n",
       "      <th>movieId</th>\n",
       "      <th>title</th>\n",
       "      <th>num_reviews</th>\n",
       "    </tr>\n",
       "  </thead>\n",
       "  <tbody>\n",
       "    <tr>\n",
       "      <th>0</th>\n",
       "      <td>356</td>\n",
       "      <td>Forrest Gump (1994)</td>\n",
       "      <td>329</td>\n",
       "    </tr>\n",
       "    <tr>\n",
       "      <th>1</th>\n",
       "      <td>318</td>\n",
       "      <td>Shawshank Redemption, The (1994)</td>\n",
       "      <td>317</td>\n",
       "    </tr>\n",
       "    <tr>\n",
       "      <th>2</th>\n",
       "      <td>296</td>\n",
       "      <td>Pulp Fiction (1994)</td>\n",
       "      <td>307</td>\n",
       "    </tr>\n",
       "    <tr>\n",
       "      <th>3</th>\n",
       "      <td>593</td>\n",
       "      <td>Silence of the Lambs, The (1991)</td>\n",
       "      <td>279</td>\n",
       "    </tr>\n",
       "    <tr>\n",
       "      <th>4</th>\n",
       "      <td>2571</td>\n",
       "      <td>Matrix, The (1999)</td>\n",
       "      <td>278</td>\n",
       "    </tr>\n",
       "    <tr>\n",
       "      <th>5</th>\n",
       "      <td>260</td>\n",
       "      <td>Star Wars: Episode IV - A New Hope (1977)</td>\n",
       "      <td>251</td>\n",
       "    </tr>\n",
       "    <tr>\n",
       "      <th>6</th>\n",
       "      <td>480</td>\n",
       "      <td>Jurassic Park (1993)</td>\n",
       "      <td>238</td>\n",
       "    </tr>\n",
       "    <tr>\n",
       "      <th>7</th>\n",
       "      <td>110</td>\n",
       "      <td>Braveheart (1995)</td>\n",
       "      <td>237</td>\n",
       "    </tr>\n",
       "    <tr>\n",
       "      <th>8</th>\n",
       "      <td>589</td>\n",
       "      <td>Terminator 2: Judgment Day (1991)</td>\n",
       "      <td>224</td>\n",
       "    </tr>\n",
       "    <tr>\n",
       "      <th>9</th>\n",
       "      <td>527</td>\n",
       "      <td>Schindler's List (1993)</td>\n",
       "      <td>220</td>\n",
       "    </tr>\n",
       "  </tbody>\n",
       "</table>\n",
       "</div>"
      ],
      "text/plain": [
       "   movieId                                      title  num_reviews\n",
       "0      356                        Forrest Gump (1994)          329\n",
       "1      318           Shawshank Redemption, The (1994)          317\n",
       "2      296                        Pulp Fiction (1994)          307\n",
       "3      593           Silence of the Lambs, The (1991)          279\n",
       "4     2571                         Matrix, The (1999)          278\n",
       "5      260  Star Wars: Episode IV - A New Hope (1977)          251\n",
       "6      480                       Jurassic Park (1993)          238\n",
       "7      110                          Braveheart (1995)          237\n",
       "8      589          Terminator 2: Judgment Day (1991)          224\n",
       "9      527                    Schindler's List (1993)          220"
      ]
     },
     "execution_count": 20,
     "metadata": {},
     "output_type": "execute_result"
    }
   ],
   "source": [
    "query = '''\n",
    "WITH rating_count AS\n",
    "( SELECT movieId, COUNT(*) AS num_reviews FROM ratings_fact GROUP BY movieId)\n",
    "\n",
    "SELECT\n",
    "    m.movieId\n",
    "    ,m.title\n",
    "    , r.num_reviews\n",
    "FROM\n",
    "    rating_count r\n",
    "INNER JOIN\n",
    "    movie_dim m\n",
    "USING (movieId)\n",
    "ORDER BY \n",
    "    num_reviews DESC\n",
    "LIMIT 10'''\n",
    "\n",
    "duckdb.sql(query).df()"
   ]
  },
  {
   "cell_type": "markdown",
   "id": "2145a434-fc86-4c66-93f6-46d86d8705ff",
   "metadata": {},
   "source": [
    "So, lots of blockbusters from the 90s.\n",
    "\n",
    "# How many total movies are there in this data set?"
   ]
  },
  {
   "cell_type": "code",
   "execution_count": 23,
   "id": "b527a52a-5423-41ee-8398-74c89b4484f0",
   "metadata": {},
   "outputs": [
    {
     "data": {
      "text/plain": [
       "┌───────────┐\n",
       "│ num_movie │\n",
       "│   int64   │\n",
       "├───────────┤\n",
       "│      9742 │\n",
       "└───────────┘"
      ]
     },
     "execution_count": 23,
     "metadata": {},
     "output_type": "execute_result"
    }
   ],
   "source": [
    "duckdb.sql('SELECT COUNT(*) AS num_movie FROM movie_dim')"
   ]
  },
  {
   "cell_type": "markdown",
   "id": "021d5eab-1202-4a34-bc4f-bb8c6abf8717",
   "metadata": {},
   "source": [
    "How many are rated at least 5 times?"
   ]
  },
  {
   "cell_type": "code",
   "execution_count": 26,
   "id": "6acea77a-ff0d-4634-b7ea-825dc0d0c0bd",
   "metadata": {},
   "outputs": [
    {
     "data": {
      "text/plain": [
       "┌──────────────┐\n",
       "│ count_star() │\n",
       "│    int64     │\n",
       "├──────────────┤\n",
       "│         3650 │\n",
       "└──────────────┘"
      ]
     },
     "execution_count": 26,
     "metadata": {},
     "output_type": "execute_result"
    }
   ],
   "source": [
    "query = '''\n",
    "WITH ratings_count AS\n",
    "    (\n",
    "    SELECT \n",
    "        COUNT(*) AS num_ratings \n",
    "        , movieId\n",
    "    FROM \n",
    "        ratings_fact\n",
    "    GROUP BY movieId\n",
    "    HAVING num_ratings >=5\n",
    ")\n",
    "SELECT COUNT(*) FROM ratings_count\n",
    "'''\n",
    "duckdb.sql(query)\n"
   ]
  },
  {
   "cell_type": "markdown",
   "id": "0c9bd86c-ff3b-4a84-a11b-9e17c09716e9",
   "metadata": {},
   "source": [
    "Looking at length of 2"
   ]
  },
  {
   "cell_type": "code",
   "execution_count": 29,
   "id": "186cb399-8a34-4955-b253-c9c975ef0c5e",
   "metadata": {},
   "outputs": [
    {
     "data": {
      "text/html": [
       "<div>\n",
       "<style scoped>\n",
       "    .dataframe tbody tr th:only-of-type {\n",
       "        vertical-align: middle;\n",
       "    }\n",
       "\n",
       "    .dataframe tbody tr th {\n",
       "        vertical-align: top;\n",
       "    }\n",
       "\n",
       "    .dataframe thead th {\n",
       "        text-align: right;\n",
       "    }\n",
       "</style>\n",
       "<table border=\"1\" class=\"dataframe\">\n",
       "  <thead>\n",
       "    <tr style=\"text-align: right;\">\n",
       "      <th></th>\n",
       "      <th>movieId</th>\n",
       "      <th>title</th>\n",
       "      <th>movieId_1</th>\n",
       "      <th>title_1</th>\n",
       "      <th>num_both</th>\n",
       "    </tr>\n",
       "  </thead>\n",
       "  <tbody>\n",
       "    <tr>\n",
       "      <th>0</th>\n",
       "      <td>318</td>\n",
       "      <td>Shawshank Redemption, The (1994)</td>\n",
       "      <td>356</td>\n",
       "      <td>Forrest Gump (1994)</td>\n",
       "      <td>231</td>\n",
       "    </tr>\n",
       "    <tr>\n",
       "      <th>1</th>\n",
       "      <td>296</td>\n",
       "      <td>Pulp Fiction (1994)</td>\n",
       "      <td>356</td>\n",
       "      <td>Forrest Gump (1994)</td>\n",
       "      <td>230</td>\n",
       "    </tr>\n",
       "    <tr>\n",
       "      <th>2</th>\n",
       "      <td>296</td>\n",
       "      <td>Pulp Fiction (1994)</td>\n",
       "      <td>318</td>\n",
       "      <td>Shawshank Redemption, The (1994)</td>\n",
       "      <td>222</td>\n",
       "    </tr>\n",
       "    <tr>\n",
       "      <th>3</th>\n",
       "      <td>296</td>\n",
       "      <td>Pulp Fiction (1994)</td>\n",
       "      <td>593</td>\n",
       "      <td>Silence of the Lambs, The (1991)</td>\n",
       "      <td>207</td>\n",
       "    </tr>\n",
       "    <tr>\n",
       "      <th>4</th>\n",
       "      <td>318</td>\n",
       "      <td>Shawshank Redemption, The (1994)</td>\n",
       "      <td>593</td>\n",
       "      <td>Silence of the Lambs, The (1991)</td>\n",
       "      <td>199</td>\n",
       "    </tr>\n",
       "    <tr>\n",
       "      <th>5</th>\n",
       "      <td>356</td>\n",
       "      <td>Forrest Gump (1994)</td>\n",
       "      <td>593</td>\n",
       "      <td>Silence of the Lambs, The (1991)</td>\n",
       "      <td>199</td>\n",
       "    </tr>\n",
       "    <tr>\n",
       "      <th>6</th>\n",
       "      <td>356</td>\n",
       "      <td>Forrest Gump (1994)</td>\n",
       "      <td>480</td>\n",
       "      <td>Jurassic Park (1993)</td>\n",
       "      <td>198</td>\n",
       "    </tr>\n",
       "    <tr>\n",
       "      <th>7</th>\n",
       "      <td>356</td>\n",
       "      <td>Forrest Gump (1994)</td>\n",
       "      <td>2571</td>\n",
       "      <td>Matrix, The (1999)</td>\n",
       "      <td>194</td>\n",
       "    </tr>\n",
       "    <tr>\n",
       "      <th>8</th>\n",
       "      <td>260</td>\n",
       "      <td>Star Wars: Episode IV - A New Hope (1977)</td>\n",
       "      <td>1196</td>\n",
       "      <td>Star Wars: Episode V - The Empire Strikes Back...</td>\n",
       "      <td>190</td>\n",
       "    </tr>\n",
       "    <tr>\n",
       "      <th>9</th>\n",
       "      <td>260</td>\n",
       "      <td>Star Wars: Episode IV - A New Hope (1977)</td>\n",
       "      <td>2571</td>\n",
       "      <td>Matrix, The (1999)</td>\n",
       "      <td>183</td>\n",
       "    </tr>\n",
       "  </tbody>\n",
       "</table>\n",
       "</div>"
      ],
      "text/plain": [
       "   movieId                                      title  movieId_1  \\\n",
       "0      318           Shawshank Redemption, The (1994)        356   \n",
       "1      296                        Pulp Fiction (1994)        356   \n",
       "2      296                        Pulp Fiction (1994)        318   \n",
       "3      296                        Pulp Fiction (1994)        593   \n",
       "4      318           Shawshank Redemption, The (1994)        593   \n",
       "5      356                        Forrest Gump (1994)        593   \n",
       "6      356                        Forrest Gump (1994)        480   \n",
       "7      356                        Forrest Gump (1994)       2571   \n",
       "8      260  Star Wars: Episode IV - A New Hope (1977)       1196   \n",
       "9      260  Star Wars: Episode IV - A New Hope (1977)       2571   \n",
       "\n",
       "                                             title_1  num_both  \n",
       "0                                Forrest Gump (1994)       231  \n",
       "1                                Forrest Gump (1994)       230  \n",
       "2                   Shawshank Redemption, The (1994)       222  \n",
       "3                   Silence of the Lambs, The (1991)       207  \n",
       "4                   Silence of the Lambs, The (1991)       199  \n",
       "5                   Silence of the Lambs, The (1991)       199  \n",
       "6                               Jurassic Park (1993)       198  \n",
       "7                                 Matrix, The (1999)       194  \n",
       "8  Star Wars: Episode V - The Empire Strikes Back...       190  \n",
       "9                                 Matrix, The (1999)       183  "
      ]
     },
     "execution_count": 29,
     "metadata": {},
     "output_type": "execute_result"
    }
   ],
   "source": [
    "query = '''\n",
    "\n",
    "WITH co_rated AS\n",
    "(\n",
    "  SELECT\n",
    "     r.movieId AS movie1\n",
    "     ,r2.movieId AS movie2\n",
    "     , COUNT(*) AS num_both\n",
    "  FROM \n",
    "     ratings_fact r\n",
    "  INNER JOIN\n",
    "     ratings_fact r2\n",
    "  USING (userId)\n",
    "  WHERE r.movieId < r2.movieId\n",
    "  GROUP BY ALL\n",
    ")\n",
    "\n",
    "\n",
    "SELECT\n",
    "    m1.movieId\n",
    "    , m1.title\n",
    "    , m2.movieId\n",
    "    , m2.title\n",
    "    , cr.num_both\n",
    "FROM\n",
    "    co_rated cr\n",
    "LEFT JOIN\n",
    "    movie_dim m1\n",
    "ON \n",
    "    cr.movie1 = m1.movieId\n",
    "LEFT JOIN\n",
    "    movie_dim m2\n",
    "ON \n",
    "    cr.movie2 = m2.movieId\n",
    "ORDER BY \n",
    "    num_both DESC\n",
    "LIMIT 10\n",
    "'''\n",
    "\n",
    "duckdb.sql(query).df()"
   ]
  },
  {
   "cell_type": "markdown",
   "id": "cccbce11-6f47-4948-ae7d-fac4a3747464",
   "metadata": {},
   "source": [
    "So, we can already see that the most common pair of movies to be both reviewed by the same user are actually the 2 most common movies. Does this make these interesting in any way? We'll get to that in a bit."
   ]
  },
  {
   "cell_type": "code",
   "execution_count": 32,
   "id": "8bec96e6-eae7-45c2-82c7-75c4168eef2d",
   "metadata": {},
   "outputs": [
    {
     "data": {
      "text/plain": [
       "┌──────────────┐\n",
       "│ count_star() │\n",
       "│    int64     │\n",
       "├──────────────┤\n",
       "│     13157672 │\n",
       "└──────────────┘"
      ]
     },
     "execution_count": 32,
     "metadata": {},
     "output_type": "execute_result"
    }
   ],
   "source": [
    "query = '''\n",
    "WITH co_rated AS\n",
    "(\n",
    "  SELECT\n",
    "     r.movieId AS movie1\n",
    "     ,r2.movieId AS movie2\n",
    "     , COUNT(*) AS num_both\n",
    "  FROM \n",
    "     ratings_fact r\n",
    "  INNER JOIN\n",
    "     ratings_fact r2\n",
    "  USING (userId)\n",
    "  WHERE r.movieId < r2.movieId\n",
    "  GROUP BY ALL\n",
    ")\n",
    "\n",
    "SELECT COUNT(*) FROM co_rated'''\n",
    "duckdb.sql(query)"
   ]
  },
  {
   "cell_type": "code",
   "execution_count": 34,
   "id": "cb575bb4-47fb-48cc-8bf0-8f6c73302bbf",
   "metadata": {},
   "outputs": [
    {
     "data": {
      "text/plain": [
       "┌──────────────┐\n",
       "│ count_star() │\n",
       "│    int64     │\n",
       "├──────────────┤\n",
       "│      1293963 │\n",
       "└──────────────┘"
      ]
     },
     "execution_count": 34,
     "metadata": {},
     "output_type": "execute_result"
    }
   ],
   "source": [
    "query = '''\n",
    "WITH co_rated AS\n",
    "(\n",
    "  SELECT\n",
    "     r.movieId AS movie1\n",
    "     ,r2.movieId AS movie2\n",
    "     , COUNT(*) AS num_both\n",
    "  FROM \n",
    "     ratings_fact r\n",
    "  INNER JOIN\n",
    "     ratings_fact r2\n",
    "  USING (userId)\n",
    "  WHERE r.movieId < r2.movieId\n",
    "  GROUP BY ALL\n",
    ")\n",
    "\n",
    "SELECT COUNT(*) FROM co_rated WHERE num_both >=5'''\n",
    "duckdb.sql(query)"
   ]
  },
  {
   "cell_type": "markdown",
   "id": "37bab78c-b259-4dbd-ab26-f165cbfa4bfc",
   "metadata": {},
   "source": [
    "# OK, let's build some association rules\n",
    "\n",
    "If we are thinking about building something like a movie recommender system, then we might want to narrow our view of associations to only those movies that are \"highly rated\" by the same user. So, let's narrow down the ratings to only 5-star ratings: movies that people loved.\n",
    "\n",
    "Let's create a table of just those ratings, so it is simpler to use downstream when we have a lot of joins"
   ]
  },
  {
   "cell_type": "code",
   "execution_count": 56,
   "id": "7e99a8a6-4550-47d9-871a-5be963c1f861",
   "metadata": {},
   "outputs": [],
   "source": [
    "query = '''\n",
    "CREATE OR REPLACE TABLE high_ratings AS\n",
    "(\n",
    "      SELECT\n",
    "         *\n",
    "      FROM \n",
    "         ratings_fact\n",
    "      WHERE\n",
    "      rating =5\n",
    ")\n",
    "'''\n",
    "duckdb.sql(query)"
   ]
  },
  {
   "cell_type": "code",
   "execution_count": 58,
   "id": "33829356-853b-4050-8ae3-171783e2b617",
   "metadata": {},
   "outputs": [
    {
     "data": {
      "text/plain": [
       "┌─────────────────┬──────────────────┬──────────────────┐\n",
       "│    candidate    │ movie1_frequency │ movie2_frequency │\n",
       "│     int64[]     │      int64       │      int64       │\n",
       "├─────────────────┼──────────────────┼──────────────────┤\n",
       "│ [339, 1201]     │               12 │               24 │\n",
       "│ [1958, 2951]    │                5 │                5 │\n",
       "│ [923, 2580]     │               22 │               10 │\n",
       "│ [2968, 7022]    │                8 │                7 │\n",
       "│ [1244, 4308]    │                9 │               11 │\n",
       "│ [509, 1748]     │                9 │                7 │\n",
       "│ [1645, 55247]   │                6 │                9 │\n",
       "│ [802, 4878]     │                5 │               25 │\n",
       "│ [1035, 2011]    │               21 │               10 │\n",
       "│ [1183, 1242]    │                9 │               12 │\n",
       "│ [308, 1953]     │                5 │                6 │\n",
       "│ [4995, 69122]   │               21 │                9 │\n",
       "│ [58998, 68954]  │                5 │               25 │\n",
       "│ [163, 2968]     │               11 │                8 │\n",
       "│ [1214, 40815]   │               36 │                9 │\n",
       "│ [1136, 1183]    │               51 │                9 │\n",
       "│ [141, 3481]     │                7 │                8 │\n",
       "│ [78499, 122882] │               14 │               10 │\n",
       "│ [1610, 3948]    │               18 │                6 │\n",
       "│ [497, 1275]     │                8 │               12 │\n",
       "├─────────────────┴──────────────────┴──────────────────┤\n",
       "│ 20 rows                                     3 columns │\n",
       "└───────────────────────────────────────────────────────┘"
      ]
     },
     "execution_count": 58,
     "metadata": {},
     "output_type": "execute_result"
    }
   ],
   "source": [
    "min_support = 5 # We want there to be at least 5 users who rated both movies as 5-stars.\n",
    "\n",
    "query = f'''\n",
    "CREATE OR REPLACE TABLE frequent_items_1 AS\n",
    "(\n",
    "\n",
    "    SELECT\n",
    "        movieId\n",
    "        , COUNT(*) AS frequency\n",
    "    FROM\n",
    "        high_ratings\n",
    "    GROUP BY\n",
    "        movieId\n",
    "    HAVING frequency >= {min_support}\n",
    ") \n",
    "'''\n",
    "\n",
    "duckdb.sql(query)\n",
    "\n",
    "\n",
    "query2 = f'''\n",
    "CREATE OR REPLACE TABLE candidate_items_2 AS\n",
    "(\n",
    "    SELECT\n",
    "        [m.movieId, m2.movieId] AS candidate\n",
    "        , m.frequency AS movie1_frequency\n",
    "        , m2.frequency AS movie2_frequency\n",
    "    FROM\n",
    "        frequent_items_1 m\n",
    "    FULL OUTER JOIN\n",
    "        frequent_items_1 m2\n",
    "    ON 1=1\n",
    "    WHERE\n",
    "        m.movieId < m2.movieId\n",
    "\n",
    ")\n",
    "'''\n",
    "\n",
    "duckdb.sql(query2)\n",
    "\n",
    "\n",
    "duckdb.sql('''SELECT * FROM candidate_items_2 USING SAMPLE 20''')"
   ]
  },
  {
   "cell_type": "markdown",
   "id": "cc18e0d4-44d5-40ea-9219-77f9f98a2d5f",
   "metadata": {},
   "source": [
    "We now have our list of candidates movie pairs.\n",
    "\n",
    "Each movieId in each of these pairs on this list has been rated 5 stars at least 5 times\n",
    "\n",
    "Now, we want to find all pairs of movies that are both rated 5 stars by at least 5 different users."
   ]
  },
  {
   "cell_type": "code",
   "execution_count": 61,
   "id": "f0c2abb6-7bfc-4c43-9bea-5406c481e8fb",
   "metadata": {},
   "outputs": [
    {
     "data": {
      "text/plain": [
       "┌───────────────┬───────────┐\n",
       "│    itemset    │ frequency │\n",
       "│    int64[]    │   int64   │\n",
       "├───────────────┼───────────┤\n",
       "│ [318, 1968]   │         8 │\n",
       "│ [858, 1500]   │         5 │\n",
       "│ [904, 1968]   │         5 │\n",
       "│ [541, 555]    │         6 │\n",
       "│ [527, 6377]   │         6 │\n",
       "│ [4886, 6377]  │         6 │\n",
       "│ [296, 6377]   │         5 │\n",
       "│ [541, 8874]   │         5 │\n",
       "│ [1270, 8874]  │         5 │\n",
       "│ [1200, 8874]  │         6 │\n",
       "│      ·        │         · │\n",
       "│      ·        │         · │\n",
       "│      ·        │         · │\n",
       "│ [1259, 1584]  │         6 │\n",
       "│ [1240, 1584]  │         5 │\n",
       "│ [110, 1584]   │         7 │\n",
       "│ [2571, 33794] │         7 │\n",
       "│ [457, 736]    │         5 │\n",
       "│ [296, 1219]   │        11 │\n",
       "│ [527, 1219]   │        10 │\n",
       "│ [1198, 33794] │         5 │\n",
       "│ [260, 33493]  │         5 │\n",
       "│ [260, 733]    │         8 │\n",
       "├───────────────┴───────────┤\n",
       "│   6557 rows (20 shown)    │\n",
       "└───────────────────────────┘"
      ]
     },
     "execution_count": 61,
     "metadata": {},
     "output_type": "execute_result"
    }
   ],
   "source": [
    "query = f'''\n",
    "CREATE OR REPLACE TABLE frequent_items_2 AS\n",
    "(\n",
    "    \n",
    "    SELECT\n",
    "        cl.candidate AS itemset\n",
    "        , COUNT(*) AS frequency\n",
    "    FROM\n",
    "        high_ratings m\n",
    "    INNER JOIN\n",
    "        high_ratings m2\n",
    "    USING (UserId)\n",
    "\n",
    "    INNER JOIN\n",
    "        candidate_items_2 cl\n",
    "    ON\n",
    "        m.movieId = cl.candidate[1] -- index starts at 1\n",
    "    AND\n",
    "        m2.movieId = cl.candidate[2]\n",
    "        \n",
    "        \n",
    "   GROUP BY ALL\n",
    "\n",
    "   HAVING frequency >= {min_support}\n",
    "\n",
    ")\n",
    "'''\n",
    "\n",
    "duckdb.sql(query)\n",
    "\n",
    "duckdb.sql('SELECT * FROM frequent_items_2')"
   ]
  },
  {
   "cell_type": "markdown",
   "id": "c633fc44-1e23-4a02-aeab-03e4c125b40f",
   "metadata": {},
   "source": [
    "For generating k=3 candidates, we can use the following property:\n",
    "\n",
    "if A, B is frequent, then A,B,C will only be frequent if B,C is also frequent."
   ]
  },
  {
   "cell_type": "code",
   "execution_count": 64,
   "id": "c96e72a5-b3e9-4916-932c-86a98eaab9d3",
   "metadata": {},
   "outputs": [
    {
     "data": {
      "text/plain": [
       "┌─────────────────────┬──────────────────┬──────────────────┐\n",
       "│      candidate      │ prefix_frequency │ suffix_frequency │\n",
       "│       int64[]       │      int64       │      int64       │\n",
       "├─────────────────────┼──────────────────┼──────────────────┤\n",
       "│ [110, 318, 1968]    │               35 │                8 │\n",
       "│ [47, 318, 1968]     │               23 │                8 │\n",
       "│ [165, 318, 1968]    │                7 │                8 │\n",
       "│ [265, 318, 1968]    │                8 │                8 │\n",
       "│ [11, 318, 1968]     │                6 │                8 │\n",
       "│ [288, 318, 1968]    │                5 │                8 │\n",
       "│ [260, 318, 1968]    │               37 │                8 │\n",
       "│ [246, 318, 1968]    │                6 │                8 │\n",
       "│ [17, 318, 1968]     │                8 │                8 │\n",
       "│ [272, 318, 1968]    │                5 │                8 │\n",
       "│        ·            │                · │                · │\n",
       "│        ·            │                · │                · │\n",
       "│        ·            │                · │                · │\n",
       "│ [1097, 1196, 1285]  │               16 │                5 │\n",
       "│ [50, 1196, 1285]    │               20 │                5 │\n",
       "│ [356, 1196, 1285]   │               23 │                5 │\n",
       "│ [908, 1196, 1285]   │                8 │                5 │\n",
       "│ [919, 1196, 1285]   │               10 │                5 │\n",
       "│ [593, 1196, 1285]   │               24 │                5 │\n",
       "│ [1035, 1196, 1285]  │                8 │                5 │\n",
       "│ [47, 50, 1285]      │               17 │                6 │\n",
       "│ [6, 50, 1285]       │                6 │                6 │\n",
       "│ [2571, 4262, 68157] │                5 │                5 │\n",
       "├─────────────────────┴──────────────────┴──────────────────┤\n",
       "│ ? rows (>9999 rows, 20 shown)                   3 columns │\n",
       "└───────────────────────────────────────────────────────────┘"
      ]
     },
     "execution_count": 64,
     "metadata": {},
     "output_type": "execute_result"
    }
   ],
   "source": [
    "query = f'''\n",
    "\n",
    "CREATE OR REPLACE TABLE candidate_items_3 AS\n",
    "(\n",
    "    SELECT\n",
    "        [m.itemset[1], m.itemset[2], m2.itemset[2]] AS candidate\n",
    "        , m.frequency AS prefix_frequency\n",
    "        , m2.frequency AS suffix_frequency\n",
    "    FROM\n",
    "        frequent_items_2 m\n",
    "    FULL OUTER JOIN\n",
    "        frequent_items_2 m2\n",
    "    ON 1=1\n",
    "    WHERE\n",
    "        m.itemset[2] = m2.itemset[1]\n",
    ")\n",
    "'''\n",
    "duckdb.sql(query)\n",
    "\n",
    "duckdb.sql('SELECT * FROM candidate_items_3')"
   ]
  },
  {
   "cell_type": "code",
   "execution_count": 66,
   "id": "89b36775-ac7e-45ec-8471-56bafcce178f",
   "metadata": {},
   "outputs": [
    {
     "data": {
      "application/vnd.jupyter.widget-view+json": {
       "model_id": "a060c4a34b404efc9e0eecd9c8c884cf",
       "version_major": 2,
       "version_minor": 0
      },
      "text/plain": [
       "FloatProgress(value=0.0, layout=Layout(width='auto'), style=ProgressStyle(bar_color='black'))"
      ]
     },
     "metadata": {},
     "output_type": "display_data"
    },
    {
     "name": "stdout",
     "output_type": "stream",
     "text": [
      "CPU times: user 10.7 s, sys: 127 ms, total: 10.8 s\n",
      "Wall time: 6.24 s\n",
      "CPU times: user 127 μs, sys: 4 μs, total: 131 μs\n",
      "Wall time: 132 μs\n"
     ]
    },
    {
     "data": {
      "text/plain": [
       "┌──────────────┐\n",
       "│ count_star() │\n",
       "│    int64     │\n",
       "├──────────────┤\n",
       "│        17773 │\n",
       "└──────────────┘"
      ]
     },
     "execution_count": 66,
     "metadata": {},
     "output_type": "execute_result"
    }
   ],
   "source": [
    "query = f'''\n",
    "CREATE OR REPLACE TABLE frequent_items_3 AS\n",
    "(\n",
    "    \n",
    "    SELECT\n",
    "        cl.candidate AS itemset\n",
    "        , COUNT(*) AS frequency\n",
    "    FROM\n",
    "        high_ratings m\n",
    "    INNER JOIN\n",
    "        high_ratings m2\n",
    "    USING (UserId)\n",
    "\n",
    "    INNER JOIN\n",
    "        high_ratings m3\n",
    "    USING (UserId)\n",
    "\n",
    "    INNER JOIN\n",
    "        candidate_items_3 cl\n",
    "    ON\n",
    "        m.movieId = cl.candidate[1] -- index starts at 1\n",
    "    AND\n",
    "        m2.movieId = cl.candidate[2]\n",
    "    AND\n",
    "        m3.movieId = cl.candidate[3]\n",
    "        \n",
    "        \n",
    "   GROUP BY ALL\n",
    "\n",
    "   HAVING frequency >= {min_support}\n",
    "\n",
    ")\n",
    "'''\n",
    "\n",
    "%time duckdb.sql(query)\n",
    "%time duckdb.sql('SELECT COUNT(*) FROM frequent_items_3')\n",
    "\n"
   ]
  },
  {
   "cell_type": "code",
   "execution_count": 68,
   "id": "881d812f-f6ba-4a7d-a286-aa2f55d4cd4a",
   "metadata": {},
   "outputs": [
    {
     "data": {
      "text/plain": [
       "┌────────────────────┬───────────┐\n",
       "│      itemset       │ frequency │\n",
       "│      int64[]       │   int64   │\n",
       "├────────────────────┼───────────┤\n",
       "│ [260, 1196, 1210]  │        41 │\n",
       "│ [4993, 5952, 7153] │        36 │\n",
       "│ [260, 1196, 2571]  │        36 │\n",
       "│ [260, 1196, 1198]  │        31 │\n",
       "│ [260, 296, 1196]   │        29 │\n",
       "│ [260, 1210, 2571]  │        29 │\n",
       "│ [1196, 1210, 2571] │        28 │\n",
       "│ [2571, 4993, 7153] │        26 │\n",
       "│ [50, 296, 318]     │        25 │\n",
       "│ [260, 858, 1196]   │        25 │\n",
       "│        ·           │         · │\n",
       "│        ·           │         · │\n",
       "│        ·           │         · │\n",
       "│ [1080, 1199, 1222] │         5 │\n",
       "│ [923, 924, 1196]   │         5 │\n",
       "│ [111, 260, 2571]   │         5 │\n",
       "│ [1036, 1089, 2571] │         5 │\n",
       "│ [47, 1136, 1240]   │         5 │\n",
       "│ [260, 356, 778]    │         5 │\n",
       "│ [608, 1208, 3996]  │         5 │\n",
       "│ [608, 2762, 2858]  │         5 │\n",
       "│ [904, 1204, 1208]  │         5 │\n",
       "│ [1080, 1213, 2716] │         5 │\n",
       "├────────────────────┴───────────┤\n",
       "│ ? rows (>9999 rows, 20 shown)  │\n",
       "└────────────────────────────────┘"
      ]
     },
     "execution_count": 68,
     "metadata": {},
     "output_type": "execute_result"
    }
   ],
   "source": [
    "duckdb.sql('SELECT * FROM frequent_items_3 ORDER BY frequency DESC')"
   ]
  },
  {
   "cell_type": "markdown",
   "id": "86588f18-7ef1-4ed2-a532-5afdb29187b1",
   "metadata": {},
   "source": [
    "# What did we find?\n",
    "Let's see a bit about which movies these are. I'll look at the top couple of frequent 3-itemsets."
   ]
  },
  {
   "cell_type": "code",
   "execution_count": 71,
   "id": "5295b751-37d4-44be-8100-159cfe4432ee",
   "metadata": {},
   "outputs": [
    {
     "data": {
      "text/plain": [
       "┌─────────┬────────────────────────┬────────────────────────────────────────────────┬───────────────┬─────────┬────────┐\n",
       "│ movieId │         title          │                extracted_title                 │ year_released │ imdbId  │ tmdbId │\n",
       "│  int64  │        varchar         │                    varchar                     │    varchar    │ varchar │ int64  │\n",
       "├─────────┼────────────────────────┼────────────────────────────────────────────────┼───────────────┼─────────┼────────┤\n",
       "│     260 │ Star Wars: Episode I…  │ Star Wars: Episode IV - A New Hope             │ 1977          │ 0076759 │     11 │\n",
       "│    1196 │ Star Wars: Episode V…  │ Star Wars: Episode V - The Empire Strikes Back │ 1980          │ 0080684 │   1891 │\n",
       "│    1210 │ Star Wars: Episode V…  │ Star Wars: Episode VI - Return of the Jedi     │ 1983          │ 0086190 │   1892 │\n",
       "└─────────┴────────────────────────┴────────────────────────────────────────────────┴───────────────┴─────────┴────────┘"
      ]
     },
     "execution_count": 71,
     "metadata": {},
     "output_type": "execute_result"
    }
   ],
   "source": [
    "duckdb.sql('SELECT * FROM movie_dim WHERE movieId IN (260, 1196, 1210)')"
   ]
  },
  {
   "cell_type": "code",
   "execution_count": 73,
   "id": "831eae03-37c9-4865-96a3-e53dd488d678",
   "metadata": {},
   "outputs": [
    {
     "data": {
      "text/plain": [
       "┌─────────┬──────────────────────┬──────────────────────────────────────────────────┬───────────────┬─────────┬────────┐\n",
       "│ movieId │        title         │                 extracted_title                  │ year_released │ imdbId  │ tmdbId │\n",
       "│  int64  │       varchar        │                     varchar                      │    varchar    │ varchar │ int64  │\n",
       "├─────────┼──────────────────────┼──────────────────────────────────────────────────┼───────────────┼─────────┼────────┤\n",
       "│    4993 │ Lord of the Rings:…  │ Lord of the Rings: The Fellowship of the Ring,…  │ 2001          │ 0120737 │    120 │\n",
       "│    5952 │ Lord of the Rings:…  │ Lord of the Rings: The Two Towers, The           │ 2002          │ 0167261 │    121 │\n",
       "│    7153 │ Lord of the Rings:…  │ Lord of the Rings: The Return of the King, The   │ 2003          │ 0167260 │    122 │\n",
       "└─────────┴──────────────────────┴──────────────────────────────────────────────────┴───────────────┴─────────┴────────┘"
      ]
     },
     "execution_count": 73,
     "metadata": {},
     "output_type": "execute_result"
    }
   ],
   "source": [
    "duckdb.sql('SELECT * FROM movie_dim WHERE movieId IN (4993, 5952, 7153)')"
   ]
  },
  {
   "cell_type": "markdown",
   "id": "271d9ea8-7a36-4025-8d21-1d3aeff7c38f",
   "metadata": {},
   "source": [
    "# Converting from frequent itemsets to association rules\n",
    "\n",
    "That's pretty good! We've found two of the trilogies that have the strongest fan bases.\n",
    "\n",
    "But, we'd like to turn these into rules, like:\n",
    "\n",
    "{\"Star Wars: Episode IV - A New Hope\" , \"Star Wars: Episode V - The Empire Strikes Back\"} => \"Star Wars: Episode VI - Return of the Jedi\", support: x%, confidence y%\n",
    "\n",
    "We might also want to include all patterns of length 2, as well.\n",
    "\n",
    "But, for simplicity, let's do only length 2 antecedents"
   ]
  },
  {
   "cell_type": "code",
   "execution_count": 76,
   "id": "d34b52c9-27cd-42fe-bff1-e13e5e764f9c",
   "metadata": {},
   "outputs": [
    {
     "data": {
      "text/plain": [
       "┌───────┬───────────────┬────────────┬───┬──────────────────────┬────────────────────┬────────────────────┐\n",
       "│   k   │  antecedent   │ consequent │ … │ consequent_frequency │      support       │     confidence     │\n",
       "│ int32 │    int64[]    │  int64[]   │   │        int64         │       double       │       double       │\n",
       "├───────┼───────────────┼────────────┼───┼──────────────────────┼────────────────────┼────────────────────┤\n",
       "│     3 │ [1196, 1210]  │ [260]      │ … │                  104 │  7.155322862129145 │   89.1304347826087 │\n",
       "│     3 │ [260, 1196]   │ [1210]     │ … │                   65 │  7.155322862129145 │  66.12903225806451 │\n",
       "│     3 │ [260, 1210]   │ [1196]     │ … │                   80 │  7.155322862129145 │   80.3921568627451 │\n",
       "│     3 │ [1196, 2571]  │ [260]      │ … │                  104 │  6.282722513089006 │  85.71428571428571 │\n",
       "│     3 │ [260, 2571]   │ [1196]     │ … │                   80 │  6.282722513089006 │               80.0 │\n",
       "│     3 │ [4993, 5952]  │ [7153]     │ … │                   53 │  6.282722513089006 │   87.8048780487805 │\n",
       "│     3 │ [5952, 7153]  │ [4993]     │ … │                   62 │  6.282722513089006 │  94.73684210526316 │\n",
       "│     3 │ [260, 1196]   │ [2571]     │ … │                  109 │  6.282722513089006 │ 58.064516129032256 │\n",
       "│     3 │ [4993, 7153]  │ [5952]     │ … │                   49 │  6.282722513089006 │  81.81818181818181 │\n",
       "│     3 │ [1196, 1198]  │ [260]      │ … │                  104 │ 5.4101221640488655 │  83.78378378378379 │\n",
       "│     · │      ·        │   ·        │ · │                   ·  │          ·         │                 ·  │\n",
       "│     · │      ·        │   ·        │ · │                   ·  │          ·         │                 ·  │\n",
       "│     · │      ·        │   ·        │ · │                   ·  │          ·         │                 ·  │\n",
       "│     3 │ [110, 2959]   │ [260]      │ … │                  104 │ 1.2216404886561956 │               50.0 │\n",
       "│     3 │ [5952, 91529] │ [7153]     │ … │                   53 │ 1.2216404886561956 │               87.5 │\n",
       "│     3 │ [1198, 2028]  │ [1291]     │ … │                   31 │ 1.2216404886561956 │              43.75 │\n",
       "│     3 │ [111, 1208]   │ [527]      │ … │                   92 │ 1.2216404886561956 │ 38.888888888888886 │\n",
       "│     3 │ [296, 2028]   │ [1136]     │ … │                   51 │ 1.2216404886561956 │ 25.925925925925927 │\n",
       "│     3 │ [1089, 1394]  │ [1136]     │ … │                   51 │ 1.2216404886561956 │               70.0 │\n",
       "│     3 │ [608, 1206]   │ [1136]     │ … │                   51 │ 1.2216404886561956 │               50.0 │\n",
       "│     3 │ [608, 1208]   │ [1136]     │ … │                   51 │ 1.2216404886561956 │ 29.166666666666668 │\n",
       "│     3 │ [541, 1266]   │ [1136]     │ … │                   51 │ 1.2216404886561956 │               87.5 │\n",
       "│     3 │ [1089, 1732]  │ [1196]     │ … │                   80 │ 1.2216404886561956 │  63.63636363636363 │\n",
       "├───────┴───────────────┴────────────┴───┴──────────────────────┴────────────────────┴────────────────────┤\n",
       "│ ? rows (>9999 rows, 20 shown)                                                       9 columns (6 shown) │\n",
       "└─────────────────────────────────────────────────────────────────────────────────────────────────────────┘"
      ]
     },
     "execution_count": 76,
     "metadata": {},
     "output_type": "execute_result"
    }
   ],
   "source": [
    "min_conf = 1 \n",
    "\n",
    "query = f'''\n",
    "\n",
    "CREATE OR REPLACE TABLE rules AS \n",
    "(\n",
    "\n",
    "    WITH user_count AS\n",
    "    \n",
    "    ( SELECT COUNT(DISTINCT UserId) AS user_count FROM high_ratings)\n",
    "    \n",
    "   \n",
    "    SELECT \n",
    "        3 AS k\n",
    "        , item.itemset[1:2] AS antecedent\n",
    "        , [item.itemset[3]] AS consequent\n",
    "        , item.frequency\n",
    "        , user_count\n",
    "        , f1.frequency AS antecedent_frequency\n",
    "        , f2.frequency AS consequent_frequency\n",
    "        , 100*item.frequency/user_count AS support\n",
    "        , 100*item.frequency/f1.frequency AS confidence\n",
    "    \n",
    "    FROM \n",
    "        frequent_items_3 item\n",
    "    LEFT JOIN\n",
    "        user_count\n",
    "    ON 1=1\n",
    "    \n",
    "    LEFT JOIN\n",
    "        frequent_items_2 f1\n",
    "    ON\n",
    "        item.itemset[1:2] = f1.itemset\n",
    "    \n",
    "    LEFT JOIN\n",
    "        frequent_items_1 f2\n",
    "    ON \n",
    "        item.itemset[3] = f2.movieId\n",
    "    \n",
    "    WHERE  100*item.frequency/f1.frequency >= {min_conf}\n",
    "\n",
    "UNION \n",
    "\n",
    "    SELECT \n",
    "        3 AS k\n",
    "        , item.itemset[2:3] AS antecedent\n",
    "        , [item.itemset[1]] AS consequent\n",
    "        , item.frequency\n",
    "        , user_count\n",
    "        , f1.frequency AS antecedent_frequency\n",
    "        , f2.frequency AS consequent_frequency\n",
    "        , 100*item.frequency/user_count AS support\n",
    "        , 100*item.frequency/f1.frequency AS confidence\n",
    "    \n",
    "    FROM \n",
    "        frequent_items_3 item\n",
    "    LEFT JOIN\n",
    "        user_count\n",
    "    ON 1=1\n",
    "    \n",
    "    LEFT JOIN\n",
    "        frequent_items_2 f1\n",
    "    ON\n",
    "        item.itemset[2:3] = f1.itemset\n",
    "    \n",
    "    LEFT JOIN\n",
    "        frequent_items_1 f2\n",
    "    ON \n",
    "        item.itemset[1] = f2.movieId\n",
    "    \n",
    "    WHERE  100*item.frequency/f1.frequency >= {min_conf}\n",
    "\n",
    "UNION\n",
    "\n",
    "    SELECT \n",
    "        3 AS k\n",
    "        , [item.itemset[1],item.itemset[3]] AS antecedent\n",
    "        , [item.itemset[2]] AS consequent\n",
    "        , item.frequency\n",
    "        , user_count\n",
    "        , f1.frequency AS antecedent_frequency\n",
    "        , f2.frequency AS consequent_frequency\n",
    "        , 100*item.frequency/user_count AS support\n",
    "        , 100*item.frequency/f1.frequency AS confidence\n",
    "    \n",
    "    FROM \n",
    "        frequent_items_3 item\n",
    "    LEFT JOIN\n",
    "        user_count\n",
    "    ON 1=1\n",
    "    \n",
    "    LEFT JOIN\n",
    "        frequent_items_2 f1\n",
    "    ON\n",
    "        [item.itemset[1],item.itemset[3]] = f1.itemset\n",
    "    \n",
    "    LEFT JOIN\n",
    "        frequent_items_1 f2\n",
    "    ON \n",
    "        item.itemset[2] = f2.movieId\n",
    "    \n",
    "    WHERE  100*item.frequency/f1.frequency >= {min_conf}\n",
    "\n",
    ")\n",
    "\n",
    "\n",
    "\n",
    "    \n",
    "'''\n",
    "\n",
    "duckdb.sql(query)\n",
    "\n",
    "duckdb.sql('SELECT * FROM rules ORDER BY support DESC')"
   ]
  },
  {
   "cell_type": "markdown",
   "id": "08e6a0a4-6714-46c6-9ea9-90a1ab75c2ac",
   "metadata": {},
   "source": [
    "Let's create a few helper functions, then try out a simplistic recommender!"
   ]
  },
  {
   "cell_type": "code",
   "execution_count": 79,
   "id": "45031b9c-8f6e-444b-935f-b52f96f4b887",
   "metadata": {},
   "outputs": [],
   "source": [
    "def find_movie_from_title(title):\n",
    "    return duckdb.sql(f\"\"\"SELECT * FROM movie_dim WHERE UPPER(title) LIKE '%{title.upper()}%'\"\"\")\n",
    "\n",
    "\n",
    "def find_recommendations_from_two(id1, id2):\n",
    "    sorted_ids = sorted([id1,id2])\n",
    "    query = f\"\"\"\n",
    "                SELECT\n",
    "                    r.antecedent[1] AS movie1\n",
    "                    , r.antecedent[2] AS movie2\n",
    "                    , r.consequent[1] AS movie3\n",
    "                    , m.title AS recommendation\n",
    "                    , r.support\n",
    "                    , r.confidence\n",
    "                FROM\n",
    "                    rules r\n",
    "                LEFT JOIN\n",
    "                    movie_dim m\n",
    "                ON \n",
    "                    r.consequent[1] = m.movieId\n",
    "                WHERE\n",
    "                    r.antecedent[1] = {sorted_ids[0]}\n",
    "                AND\n",
    "                    r.antecedent[2] = {sorted_ids[1]}\n",
    "                ORDER BY confidence DESC\n",
    "                \"\"\"\n",
    "    return duckdb.sql(query)\n",
    "                "
   ]
  },
  {
   "cell_type": "code",
   "execution_count": 81,
   "id": "3d5750f0-5373-44e4-ad69-f83c090aa526",
   "metadata": {},
   "outputs": [
    {
     "data": {
      "text/plain": [
       "(┌─────────┬──────────────────┬─────────────────┬───────────────┬─────────┬────────┐\n",
       " │ movieId │      title       │ extracted_title │ year_released │ imdbId  │ tmdbId │\n",
       " │  int64  │     varchar      │     varchar     │    varchar    │ varchar │ int64  │\n",
       " ├─────────┼──────────────────┼─────────────────┼───────────────┼─────────┼────────┤\n",
       " │   79132 │ Inception (2010) │ Inception       │ 2010          │ 1375666 │  27205 │\n",
       " └─────────┴──────────────────┴─────────────────┴───────────────┴─────────┴────────┘,\n",
       " ┌─────────┬─────────────────────┬─────────────────┬───────────────┬─────────┬────────┐\n",
       " │ movieId │        title        │ extracted_title │ year_released │ imdbId  │ tmdbId │\n",
       " │  int64  │       varchar       │     varchar     │    varchar    │ varchar │ int64  │\n",
       " ├─────────┼─────────────────────┼─────────────────┼───────────────┼─────────┼────────┤\n",
       " │  109487 │ Interstellar (2014) │ Interstellar    │ 2014          │ 0816692 │ 157336 │\n",
       " └─────────┴─────────────────────┴─────────────────┴───────────────┴─────────┴────────┘)"
      ]
     },
     "execution_count": 81,
     "metadata": {},
     "output_type": "execute_result"
    }
   ],
   "source": [
    "find_movie_from_title('Inception'), find_movie_from_title('Interstellar')"
   ]
  },
  {
   "cell_type": "code",
   "execution_count": 83,
   "id": "6e9ae69a-b0c6-4fcc-9ee0-3eaa8334847a",
   "metadata": {},
   "outputs": [
    {
     "data": {
      "text/plain": [
       "┌────────┬────────┬────────┬──────────────────────────────────────────────────┬────────────────────┬───────────────────┐\n",
       "│ movie1 │ movie2 │ movie3 │                  recommendation                  │      support       │    confidence     │\n",
       "│ int64  │ int64  │ int64  │                     varchar                      │       double       │      double       │\n",
       "├────────┼────────┼────────┼──────────────────────────────────────────────────┼────────────────────┼───────────────────┤\n",
       "│  79132 │ 109487 │   7153 │ Lord of the Rings: The Return of the King, The…  │ 1.0471204188481675 │ 54.54545454545455 │\n",
       "│  79132 │ 109487 │   2571 │ Matrix, The (1999)                               │ 1.0471204188481675 │ 54.54545454545455 │\n",
       "│  79132 │ 109487 │   4993 │ Lord of the Rings: The Fellowship of the Ring,…  │ 1.0471204188481675 │ 54.54545454545455 │\n",
       "│  79132 │ 109487 │  68954 │ Up (2009)                                        │ 0.8726003490401396 │ 45.45454545454545 │\n",
       "│  79132 │ 109487 │    527 │ Schindler's List (1993)                          │ 0.8726003490401396 │ 45.45454545454545 │\n",
       "│  79132 │ 109487 │  60069 │ WALL·E (2008)                                    │ 0.8726003490401396 │ 45.45454545454545 │\n",
       "│  79132 │ 109487 │  58559 │ Dark Knight, The (2008)                          │ 0.8726003490401396 │ 45.45454545454545 │\n",
       "│  79132 │ 109487 │   2959 │ Fight Club (1999)                                │ 0.8726003490401396 │ 45.45454545454545 │\n",
       "└────────┴────────┴────────┴──────────────────────────────────────────────────┴────────────────────┴───────────────────┘"
      ]
     },
     "execution_count": 83,
     "metadata": {},
     "output_type": "execute_result"
    }
   ],
   "source": [
    "find_recommendations_from_two(79132, 109487)"
   ]
  },
  {
   "cell_type": "code",
   "execution_count": null,
   "id": "b53f7edb-143f-4cc3-98cd-3bb37054d8d9",
   "metadata": {},
   "outputs": [],
   "source": []
  },
  {
   "cell_type": "code",
   "execution_count": null,
   "id": "e666f95a-fe42-4d1f-a1d8-bf6c8b8957a2",
   "metadata": {},
   "outputs": [],
   "source": []
  }
 ],
 "metadata": {
  "kernelspec": {
   "display_name": "Python 3 (ipykernel)",
   "language": "python",
   "name": "python3"
  },
  "language_info": {
   "codemirror_mode": {
    "name": "ipython",
    "version": 3
   },
   "file_extension": ".py",
   "mimetype": "text/x-python",
   "name": "python",
   "nbconvert_exporter": "python",
   "pygments_lexer": "ipython3",
   "version": "3.12.4"
  }
 },
 "nbformat": 4,
 "nbformat_minor": 5
}
