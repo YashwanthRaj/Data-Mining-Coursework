{
 "cells": [
  {
   "cell_type": "code",
   "execution_count": null,
   "id": "b6889a90-14c8-43c0-8305-4cef5465f0c3",
   "metadata": {},
   "outputs": [],
   "source": [
    "import pandas as pd\n",
    "import numpy as np\n",
    "from sklearn.preprocessing import MinMaxScaler\n",
    "from sklearn.metrics.pairwise import cosine_similarity, euclidean_distances\n",
    "from sklearn import cluster, datasets\n",
    "\n",
    "from matplotlib import pyplot as plt\n",
    "import random\n",
    "from collections import Counter\n",
    "\n",
    "\n",
    "pd.set_option('display.max_rows', 500)\n",
    "pd.set_option('display.max_columns', 500)"
   ]
  },
  {
   "cell_type": "markdown",
   "id": "ef65c543-1c07-43a4-bfda-e466ebf17072",
   "metadata": {},
   "source": [
    "## Toy data with clusters"
   ]
  },
  {
   "cell_type": "code",
   "execution_count": null,
   "id": "e48e1234-ca5b-486d-b948-2bb27b82416c",
   "metadata": {},
   "outputs": [],
   "source": [
    "blobs = datasets.make_blobs(n_samples=1500, random_state=8)\n",
    "X,y = blobs"
   ]
  },
  {
   "cell_type": "code",
   "execution_count": null,
   "id": "dd78a086-e91e-4746-a357-f4990afbccf7",
   "metadata": {},
   "outputs": [],
   "source": [
    "plt.scatter(X[:, 0], X[:, 1])"
   ]
  },
  {
   "cell_type": "code",
   "execution_count": null,
   "id": "869b6efe-c17a-4b5a-976c-8609770e5a84",
   "metadata": {},
   "outputs": [],
   "source": [
    "blobs2 = datasets.make_blobs(n_samples=1500, random_state=8, cluster_std=4)\n",
    "X2,y2 = blobs2\n",
    "plt.scatter(X2[:, 0], X2[:, 1])"
   ]
  },
  {
   "cell_type": "markdown",
   "id": "212f320c-a35a-4789-be16-1e48892660a6",
   "metadata": {},
   "source": [
    "## K-means clustering\n"
   ]
  },
  {
   "cell_type": "code",
   "execution_count": null,
   "id": "141ceb78-9b88-4cb8-9f7f-b2fd19db4952",
   "metadata": {},
   "outputs": [],
   "source": [
    "def assign_clusters(X, centroids):\n",
    "    '''The cluster label for a data point is assigned as simply the \n",
    "    centroid that is the closest to it, based on Euclidean distance'''\n",
    "    \n",
    "    distances = euclidean_distances(X,centroids)\n",
    "    labels = distances.argmin(axis=1)\n",
    "    return labels\n",
    "\n",
    "def find_centroids(X, labels, centroids):\n",
    "    '''Centroids are simply the average of all the data in a cluster'''\n",
    "    \n",
    "    label_set = set(labels)\n",
    "    for label in label_set:\n",
    "        data = X[labels==label]\n",
    "        centroids[label,:] = data.mean(axis=0)\n",
    "    return centroids\n",
    "\n",
    "def kmeans(X, k=3, n_iter=20):\n",
    "\n",
    "    # We are going to select a random sample of data as our initial 'centroids'\n",
    "\n",
    "    number_examples = X.shape[0]\n",
    "    random.seed(42)\n",
    "    sample = random.sample(range(number_examples),k)\n",
    "    centroids = X[sample]\n",
    "    labels = assign_clusters(X,centroids)\n",
    "\n",
    "    print(centroids)\n",
    "\n",
    "    # The basic algorithm is to alternately update labels and then centroids\n",
    "    for iteration in range(n_iter):\n",
    "        centroids = find_centroids(X, labels, centroids)\n",
    "        labels = assign_clusters(X,centroids)\n",
    "        print(f\"\\n\\niteration: {iteration}\")\n",
    "        print(centroids)\n",
    "    return labels\n",
    "    "
   ]
  },
  {
   "cell_type": "code",
   "execution_count": null,
   "id": "111ac21b-bdc0-4e5b-971a-654abb49e38d",
   "metadata": {
    "scrolled": true
   },
   "outputs": [],
   "source": [
    "labels = kmeans(X, k=3, n_iter=0)"
   ]
  },
  {
   "cell_type": "code",
   "execution_count": null,
   "id": "a3e02323-d282-45a6-9d04-ba1c71903806",
   "metadata": {},
   "outputs": [],
   "source": [
    "colors = np.array([x for x in 'bgrcmykbgrcmykbgrcmykbgrcmyk'])\n",
    "colors = np.hstack([colors] * 20)\n",
    "\n",
    "plt.scatter(X[:, 0], X[:, 1], color=colors[labels].tolist())"
   ]
  },
  {
   "cell_type": "markdown",
   "id": "9bd15e35-70d3-44f8-a0cc-ba9c9c7a2fbe",
   "metadata": {},
   "source": [
    "#### Commentary\n",
    "\n",
    "Our simple k-means implementation has some challenges, even if it is useful to see how simple the algorithm is. \n",
    "* It can, for example, 'lose' clusters if no data points are assigned to a particular cluster.\n",
    "* It does not check for convergence: if the labels aren't reassigned after an iteration, there is no point to continuing.\n",
    "* The only initialization method is what is called the _Forgy_ method: choosing random data points. Other options exist, such as randomly assigning the initial clusters (Called _Random Partitioning_) \n",
    "\n",
    "But what about the general drawbacks of k-means in particular?\n",
    "\n",
    "* Like we said before, it assumes that clusters are spheres. What happens if they are elongated or not symmetric?\n",
    "* You need to know _k_ in advance\n",
    "* It does not guarantee convergence to the optimal centroids (though is usually workable, in practice)\n",
    "\n",
    "Let's see what it looks like on data that is not at all spherical\n"
   ]
  },
  {
   "cell_type": "code",
   "execution_count": null,
   "id": "3a840eaf-c99d-4fad-919a-89a61746f8e0",
   "metadata": {},
   "outputs": [],
   "source": [
    "noisy_moons = datasets.make_moons(n_samples=150, noise=0.05, random_state=8)\n",
    "\n",
    "X_moons = noisy_moons[0]\n",
    "plt.scatter(X_moons[:, 0], X_moons[:, 1])"
   ]
  },
  {
   "cell_type": "code",
   "execution_count": null,
   "id": "723c1182-7019-47d7-b1d6-c5c8b181ed3e",
   "metadata": {},
   "outputs": [],
   "source": [
    "%time labels_moons = kmeans(X_moons, k=2, n_iter=5) # visually, we know there are 2 clusters"
   ]
  },
  {
   "cell_type": "code",
   "execution_count": null,
   "id": "c84f22b9-fdd3-4c5f-ba2f-f11f49281160",
   "metadata": {},
   "outputs": [],
   "source": [
    "plt.scatter(X_moons[:, 0], X_moons[:, 1], color=colors[labels_moons].tolist())"
   ]
  },
  {
   "cell_type": "markdown",
   "id": "6bd2bc67-5071-4b4f-90f6-09aee1830789",
   "metadata": {},
   "source": [
    "Clearly, this is not ideal!  But, this is a general challenge with k-means.  There are, however, other methods that would work better.\n",
    "\n",
    "Let's take a look at one based on Hierarchical clustering"
   ]
  },
  {
   "cell_type": "markdown",
   "id": "12fa057e-2c08-492c-ad79-fe20d8f52b19",
   "metadata": {},
   "source": [
    "## Hierarchical clustering\n"
   ]
  },
  {
   "cell_type": "code",
   "execution_count": null,
   "id": "87046b1e-ddc2-407f-8a22-26e38d40186d",
   "metadata": {},
   "outputs": [],
   "source": [
    "blobs = datasets.make_blobs(n_samples=150, random_state=8)\n",
    "X_small,y_small = blobs"
   ]
  },
  {
   "cell_type": "code",
   "execution_count": null,
   "id": "0984b714-99af-431f-ba97-d09486e7e6ae",
   "metadata": {},
   "outputs": [],
   "source": [
    "def choose_merge(X, labels):\n",
    "    '''We merge the 2 clusters that are the closest to each other. We're using a \"min\" link rule, meaning\n",
    "    that we use the minimum distance from any pair of points in the cluster. This can lead to some strange\n",
    "    behavior, though is easy to understand.\n",
    "\n",
    "    This implementation is really bad, though, because it really only needs to calculate all distances once!\n",
    "    However, with more general link rules, you may need to recalculate at each step\n",
    "    '''\n",
    "    \n",
    "    label_list = list(set(labels))\n",
    "    num_labels = len(label_list)\n",
    "\n",
    "    min_distance = None\n",
    "    min_pair = None\n",
    "    \n",
    "    \n",
    "    for label_ix1 in range(num_labels-1):\n",
    "        for label_ix2 in range(label_ix1+1, num_labels):\n",
    "    \n",
    "\n",
    "            label1 = label_list[label_ix1]\n",
    "            label2 = label_list[label_ix2]\n",
    "            \n",
    "            data_1 = X[labels==label1]\n",
    "            data_2 = X[labels==label2]\n",
    "            \n",
    "            pair_distances = euclidean_distances(data_1, data_2)\n",
    "            pair_distance = pair_distances.min()\n",
    "\n",
    "            if min_distance is None or pair_distance < min_distance:\n",
    "                min_distance = pair_distance\n",
    "                min_pair = (label1,label2)\n",
    "\n",
    "    \n",
    "    return min_pair\n",
    "            \n",
    "    \n",
    "\n",
    "def agglomerative(X, k=3):\n",
    "    ''' Typically, you don't specify k here, you run it to completion, then choose the split.\n",
    "    For this example, it is simpler to show with a fixed k.'''\n",
    "\n",
    "    labels = np.array(range(X.shape[0]))\n",
    "    merge_pair = None\n",
    "\n",
    "    iteration = 0\n",
    "    while len(set(labels)) > k:\n",
    "        iteration +=1\n",
    "        if iteration % 10==0:\n",
    "            print(f'iteration: {iteration}  Total labels: {len(set(labels))}')\n",
    "        merge_pair = choose_merge(X, labels)\n",
    "        labels[labels==merge_pair[1]] = merge_pair[0]\n",
    "    print(f'iteration: {iteration}  Total labels: {len(set(labels))}')\n",
    "    return labels\n"
   ]
  },
  {
   "cell_type": "code",
   "execution_count": null,
   "id": "f887962b-f687-443a-8ce2-416c83e81069",
   "metadata": {
    "scrolled": true
   },
   "outputs": [],
   "source": [
    "%time labels_agg = agglomerative(X_small,k=3)"
   ]
  },
  {
   "cell_type": "code",
   "execution_count": null,
   "id": "91b30047-52fc-4eef-8040-99e9dff13cc4",
   "metadata": {},
   "outputs": [],
   "source": [
    "plt.scatter(X_small[:, 0], X_small[:, 1], color=colors[labels_agg].tolist())"
   ]
  },
  {
   "cell_type": "code",
   "execution_count": null,
   "id": "7c640ce1-5bcb-4538-aed2-e42edcaa218a",
   "metadata": {
    "scrolled": true
   },
   "outputs": [],
   "source": [
    "%time labels_moons_agg = agglomerative(X_moons, k=2) # visually, we know there are 2 clusters"
   ]
  },
  {
   "cell_type": "code",
   "execution_count": null,
   "id": "cee37fab-df4f-4c00-a701-567546a1a684",
   "metadata": {},
   "outputs": [],
   "source": [
    "plt.scatter(X_moons[:, 0], X_moons[:, 1], color=colors[labels_moons_agg].tolist())"
   ]
  },
  {
   "cell_type": "markdown",
   "id": "f7ec1e27-89e7-427a-9f9e-6a62b2041009",
   "metadata": {},
   "source": [
    "### Discussion\n",
    "\n",
    "Agglomerative clustering like this has the advantage of being based on local neighborhoods of points, so there is no constraint that the clusters need to be spherical.\n",
    "\n",
    "This can also be a drawback, where two adjacent clusters can get merged together based on some stray points that happen to sit between and 'connect' them.\n",
    "\n",
    "Also: hierarchical clustering is __Really Slow__.  If, there are N data points, then it is really something like O(N^3) because at each step you compare all pairs (N^2) and you have to do this N times"
   ]
  },
  {
   "cell_type": "markdown",
   "id": "c2b99a6d-b37c-4e9e-b9da-6cb59d29c4af",
   "metadata": {},
   "source": [
    "## Cluster quality\n",
    "\n",
    "Let's use the Silhouette score to look at whether our clustering is good or not!\n"
   ]
  },
  {
   "cell_type": "code",
   "execution_count": null,
   "id": "ed19acaf-d992-4607-9923-7465ba282391",
   "metadata": {},
   "outputs": [],
   "source": [
    "\n",
    "from sklearn.metrics import silhouette_score\n",
    "\n",
    "k_s = [i for i in range(2,10)]\n",
    "scores = []\n",
    "\n",
    "for k in k_s:\n",
    "    label_k = kmeans(X, k=k, n_iter=10)\n",
    "    score = silhouette_score(X, label_k)\n",
    "    scores.append(score)\n"
   ]
  },
  {
   "cell_type": "code",
   "execution_count": null,
   "id": "455f7a17-1d39-4323-957d-9766d1bd426d",
   "metadata": {
    "scrolled": true
   },
   "outputs": [],
   "source": [
    "plt.plot(k_s, scores)"
   ]
  },
  {
   "cell_type": "code",
   "execution_count": null,
   "id": "687c067c-4cec-427d-8a28-7ca9cea490ec",
   "metadata": {},
   "outputs": [],
   "source": [
    "k_s = [i for i in range(2,10)]\n",
    "scores = []\n",
    "\n",
    "for k in k_s:\n",
    "    label_k = kmeans(X_moons, k=k, n_iter=10)\n",
    "    score = silhouette_score(X_moons, label_k)\n",
    "    scores.append(score)"
   ]
  },
  {
   "cell_type": "code",
   "execution_count": null,
   "id": "760d530f-c5fd-4e0c-abb2-fe630dc8f9d7",
   "metadata": {},
   "outputs": [],
   "source": [
    "plt.plot(k_s, scores)"
   ]
  },
  {
   "cell_type": "code",
   "execution_count": null,
   "id": "16169be7-7b14-450a-8719-3976b2d9b563",
   "metadata": {},
   "outputs": [],
   "source": []
  }
 ],
 "metadata": {
  "kernelspec": {
   "display_name": "Python [conda env:class_1] *",
   "language": "python",
   "name": "conda-env-class_1-py"
  },
  "language_info": {
   "codemirror_mode": {
    "name": "ipython",
    "version": 3
   },
   "file_extension": ".py",
   "mimetype": "text/x-python",
   "name": "python",
   "nbconvert_exporter": "python",
   "pygments_lexer": "ipython3",
   "version": "3.11.9"
  }
 },
 "nbformat": 4,
 "nbformat_minor": 5
}
