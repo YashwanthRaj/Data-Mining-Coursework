{
  "cells": [
    {
      "cell_type": "code",
      "execution_count": null,
      "id": "152bc400-e360-49f8-88c5-8333b70e2272",
      "metadata": {
        "id": "152bc400-e360-49f8-88c5-8333b70e2272"
      },
      "outputs": [],
      "source": [
        "import duckdb\n",
        "import pandas as pd\n",
        "import re\n",
        "from collections import Counter\n",
        "from matplotlib import pyplot as plt\n",
        "from sklearn.metrics.pairwise import cosine_similarity\n",
        "\n",
        "pd.set_option('display.max_rows', 500)\n",
        "pd.set_option('display.max_columns', 500)"
      ]
    },
    {
      "cell_type": "code",
      "execution_count": null,
      "id": "cb6b0914-0ebd-4968-bbc7-2f0602fc5070",
      "metadata": {
        "id": "cb6b0914-0ebd-4968-bbc7-2f0602fc5070",
        "outputId": "37f0cb84-52cf-4b91-f305-399de847ed99"
      },
      "outputs": [
        {
          "data": {
            "text/plain": [
              "┌───────────────────┐\n",
              "│       name        │\n",
              "│      varchar      │\n",
              "├───────────────────┤\n",
              "│ candidate_items_2 │\n",
              "│ frequent_items_1  │\n",
              "│ frequent_items_2  │\n",
              "│ high_ratings      │\n",
              "│ high_ratings_base │\n",
              "│ indicators        │\n",
              "│ links             │\n",
              "│ movies            │\n",
              "│ ratings           │\n",
              "│ rules             │\n",
              "│ tags              │\n",
              "├───────────────────┤\n",
              "│      11 rows      │\n",
              "└───────────────────┘"
            ]
          },
          "execution_count": 2,
          "metadata": {},
          "output_type": "execute_result"
        }
      ],
      "source": [
        "path_to_export = \"/Users/paul_gwu/code/data/MovieLens_Recommender_Export/\" ## please replace with your own path!\n",
        "duckdb.sql(f'''IMPORT DATABASE '{path_to_export}' ''') # parquet is a fast and efficient format\n",
        "#Let's check that the data all loaded!\n",
        "duckdb.sql('SHOW TABLES')"
      ]
    },
    {
      "cell_type": "code",
      "execution_count": null,
      "id": "f056da15-02d1-4cff-bb13-9544d64423e1",
      "metadata": {
        "id": "f056da15-02d1-4cff-bb13-9544d64423e1"
      },
      "outputs": [],
      "source": [
        "def find_movie_from_title(title):\n",
        "    return duckdb.sql(f\"\"\"SELECT * FROM movies WHERE UPPER(title) LIKE '%{title.upper()}%'\"\"\")\n",
        "\n",
        "def make_recommendation_from_list(list_of_ids):\n",
        "    list_string = \",\".join([str(i) for i in list_of_ids])\n",
        "    query = f'''\n",
        "        SELECT\n",
        "             consequent\n",
        "            , c_title\n",
        "            , COUNT(*) AS intersection\n",
        "            , SUM(PMI) AS sum_pmi\n",
        "        FROM\n",
        "            indicators\n",
        "        WHERE\n",
        "            antecedent IN ({list_string})\n",
        "        AND\n",
        "            consequent NOT IN ({list_string})\n",
        "        GROUP BY\n",
        "            consequent\n",
        "            , c_title\n",
        "        ORDER BY intersection DESC, sum_pmi DESC\n",
        "        '''\n",
        "    return duckdb.sql(query).df()"
      ]
    },
    {
      "cell_type": "code",
      "execution_count": null,
      "id": "b002ae2a-f65e-40cb-bbe7-6112cd206dd0",
      "metadata": {
        "id": "b002ae2a-f65e-40cb-bbe7-6112cd206dd0",
        "outputId": "1c900d9a-0baa-4912-926f-aedb27d32edd"
      },
      "outputs": [
        {
          "data": {
            "text/plain": [
              "┌─────────┬──────────────────┬─────────────────────────────────────────────────┐\n",
              "│ movieId │      title       │                     genres                      │\n",
              "│  int64  │     varchar      │                     varchar                     │\n",
              "├─────────┼──────────────────┼─────────────────────────────────────────────────┤\n",
              "│   79132 │ Inception (2010) │ Action|Crime|Drama|Mystery|Sci-Fi|Thriller|IMAX │\n",
              "└─────────┴──────────────────┴─────────────────────────────────────────────────┘"
            ]
          },
          "execution_count": 4,
          "metadata": {},
          "output_type": "execute_result"
        }
      ],
      "source": [
        "find_movie_from_title('Inception')"
      ]
    },
    {
      "cell_type": "code",
      "execution_count": null,
      "id": "06c9b3b1-c597-4e42-8876-4df7d14e665a",
      "metadata": {
        "id": "06c9b3b1-c597-4e42-8876-4df7d14e665a",
        "outputId": "03a12d7f-a318-4043-d269-85d18a5ed91c"
      },
      "outputs": [
        {
          "data": {
            "text/html": [
              "<div>\n",
              "<style scoped>\n",
              "    .dataframe tbody tr th:only-of-type {\n",
              "        vertical-align: middle;\n",
              "    }\n",
              "\n",
              "    .dataframe tbody tr th {\n",
              "        vertical-align: top;\n",
              "    }\n",
              "\n",
              "    .dataframe thead th {\n",
              "        text-align: right;\n",
              "    }\n",
              "</style>\n",
              "<table border=\"1\" class=\"dataframe\">\n",
              "  <thead>\n",
              "    <tr style=\"text-align: right;\">\n",
              "      <th></th>\n",
              "      <th>consequent</th>\n",
              "      <th>c_title</th>\n",
              "      <th>intersection</th>\n",
              "      <th>sum_pmi</th>\n",
              "    </tr>\n",
              "  </thead>\n",
              "  <tbody>\n",
              "    <tr>\n",
              "      <th>0</th>\n",
              "      <td>74458</td>\n",
              "      <td>Shutter Island (2010)</td>\n",
              "      <td>1</td>\n",
              "      <td>2.852280</td>\n",
              "    </tr>\n",
              "    <tr>\n",
              "      <th>1</th>\n",
              "      <td>109487</td>\n",
              "      <td>Interstellar (2014)</td>\n",
              "      <td>1</td>\n",
              "      <td>2.732242</td>\n",
              "    </tr>\n",
              "    <tr>\n",
              "      <th>2</th>\n",
              "      <td>91529</td>\n",
              "      <td>Dark Knight Rises, The (2012)</td>\n",
              "      <td>1</td>\n",
              "      <td>2.700265</td>\n",
              "    </tr>\n",
              "    <tr>\n",
              "      <th>3</th>\n",
              "      <td>48780</td>\n",
              "      <td>Prestige, The (2006)</td>\n",
              "      <td>1</td>\n",
              "      <td>2.644919</td>\n",
              "    </tr>\n",
              "    <tr>\n",
              "      <th>4</th>\n",
              "      <td>106782</td>\n",
              "      <td>Wolf of Wall Street, The (2013)</td>\n",
              "      <td>1</td>\n",
              "      <td>2.380376</td>\n",
              "    </tr>\n",
              "    <tr>\n",
              "      <th>5</th>\n",
              "      <td>116797</td>\n",
              "      <td>The Imitation Game (2014)</td>\n",
              "      <td>1</td>\n",
              "      <td>2.378550</td>\n",
              "    </tr>\n",
              "    <tr>\n",
              "      <th>6</th>\n",
              "      <td>134130</td>\n",
              "      <td>The Martian (2015)</td>\n",
              "      <td>1</td>\n",
              "      <td>2.354780</td>\n",
              "    </tr>\n",
              "    <tr>\n",
              "      <th>7</th>\n",
              "      <td>164179</td>\n",
              "      <td>Arrival (2016)</td>\n",
              "      <td>1</td>\n",
              "      <td>2.342431</td>\n",
              "    </tr>\n",
              "    <tr>\n",
              "      <th>8</th>\n",
              "      <td>58559</td>\n",
              "      <td>Dark Knight, The (2008)</td>\n",
              "      <td>1</td>\n",
              "      <td>2.220823</td>\n",
              "    </tr>\n",
              "    <tr>\n",
              "      <th>9</th>\n",
              "      <td>99114</td>\n",
              "      <td>Django Unchained (2012)</td>\n",
              "      <td>1</td>\n",
              "      <td>2.133733</td>\n",
              "    </tr>\n",
              "    <tr>\n",
              "      <th>10</th>\n",
              "      <td>33794</td>\n",
              "      <td>Batman Begins (2005)</td>\n",
              "      <td>1</td>\n",
              "      <td>2.095942</td>\n",
              "    </tr>\n",
              "    <tr>\n",
              "      <th>11</th>\n",
              "      <td>72998</td>\n",
              "      <td>Avatar (2009)</td>\n",
              "      <td>1</td>\n",
              "      <td>2.056907</td>\n",
              "    </tr>\n",
              "    <tr>\n",
              "      <th>12</th>\n",
              "      <td>112552</td>\n",
              "      <td>Whiplash (2014)</td>\n",
              "      <td>1</td>\n",
              "      <td>2.051362</td>\n",
              "    </tr>\n",
              "    <tr>\n",
              "      <th>13</th>\n",
              "      <td>48516</td>\n",
              "      <td>Departed, The (2006)</td>\n",
              "      <td>1</td>\n",
              "      <td>2.034406</td>\n",
              "    </tr>\n",
              "    <tr>\n",
              "      <th>14</th>\n",
              "      <td>5989</td>\n",
              "      <td>Catch Me If You Can (2002)</td>\n",
              "      <td>1</td>\n",
              "      <td>2.032162</td>\n",
              "    </tr>\n",
              "  </tbody>\n",
              "</table>\n",
              "</div>"
            ],
            "text/plain": [
              "    consequent                          c_title  intersection   sum_pmi\n",
              "0        74458            Shutter Island (2010)             1  2.852280\n",
              "1       109487              Interstellar (2014)             1  2.732242\n",
              "2        91529    Dark Knight Rises, The (2012)             1  2.700265\n",
              "3        48780             Prestige, The (2006)             1  2.644919\n",
              "4       106782  Wolf of Wall Street, The (2013)             1  2.380376\n",
              "5       116797        The Imitation Game (2014)             1  2.378550\n",
              "6       134130               The Martian (2015)             1  2.354780\n",
              "7       164179                   Arrival (2016)             1  2.342431\n",
              "8        58559          Dark Knight, The (2008)             1  2.220823\n",
              "9        99114          Django Unchained (2012)             1  2.133733\n",
              "10       33794             Batman Begins (2005)             1  2.095942\n",
              "11       72998                    Avatar (2009)             1  2.056907\n",
              "12      112552                  Whiplash (2014)             1  2.051362\n",
              "13       48516             Departed, The (2006)             1  2.034406\n",
              "14        5989       Catch Me If You Can (2002)             1  2.032162"
            ]
          },
          "execution_count": 5,
          "metadata": {},
          "output_type": "execute_result"
        }
      ],
      "source": [
        "make_recommendation_from_list([79132,])"
      ]
    },
    {
      "cell_type": "code",
      "execution_count": null,
      "id": "a90cbd9f-8a3f-48fe-864b-a684bf23802d",
      "metadata": {
        "id": "a90cbd9f-8a3f-48fe-864b-a684bf23802d"
      },
      "outputs": [],
      "source": []
    }
  ],
  "metadata": {
    "kernelspec": {
      "display_name": "Python [conda env:class_1] *",
      "language": "python",
      "name": "conda-env-class_1-py"
    },
    "language_info": {
      "codemirror_mode": {
        "name": "ipython",
        "version": 3
      },
      "file_extension": ".py",
      "mimetype": "text/x-python",
      "name": "python",
      "nbconvert_exporter": "python",
      "pygments_lexer": "ipython3",
      "version": "3.11.9"
    },
    "colab": {
      "provenance": []
    }
  },
  "nbformat": 4,
  "nbformat_minor": 5
}