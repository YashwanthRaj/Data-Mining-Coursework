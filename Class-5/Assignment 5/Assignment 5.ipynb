{
 "cells": [
  {
   "cell_type": "markdown",
   "id": "faf298fa-becc-47fd-89d7-11b4cb728277",
   "metadata": {},
   "source": [
    "# Homework 5: Supervised Learning, part 1\n",
    "\n",
    "### Review\n",
    "\n",
    "In class #6, we spoke about the importance of having a strong process for building supervised models. It can be very easy to fool yourself into thinking you have a much stronger model than you do!  Some of the common issues we discussed were:\n",
    "\n",
    "**Not having a strong process for evaluating model performance**\n",
    "\n",
    "* It is absolutely required to have a separate \"test\" set that you look at as few times as possible.\n",
    "* To avoid using your test set, you should use one of the following strategies to choose your model hyperparameters, features, etc:\n",
    "    * A separate \"validation set\"\n",
    "    * Cross-folds validation (CV)\n",
    "* The modeling task you are working on may help you decide which strategy to use. Some forecasting/prediction problems may benefit from both the test set and validation set being \"out of time\" samples. In other cases, random sampling (of either the test set or through CV can be useful\n",
    "* Standard prediction metrics are very useful, but may not be sufficient to capture whether the model works for your business problem\n",
    "    * Standard metrics can include:\n",
    "        * Precision, Recall, F-score, Area Under the ROC Curve, Area under the Precision-Recall Curve for classification\n",
    "        * Mean Squared Error (MSE), Mean Absolute Error (MAE), etc. for regression (we will discuss this more later on)\n",
    "\n",
    "**Not doing enough work with _Feature Engineering_ or _Feature Selection_**\n",
    "\n",
    "* Feature engineering is the 'art' of generating features that are better aligned with the domain and prediction problem you are working with.\n",
    "    * We brainstormed a number of features for the airplane delay prediction, including external data like weather forecasts and deriving features based on the recent number of flights or delays at an airport (or by aircraft type)\n",
    "* Feature selection is the process of narrowing down the features that you use in a model\n",
    "    * Some classifiers are more sensitive to \"noisy\" features than others (like the _KNN_ method we discussed last class)\n",
    "    * Even for classifiers that are more robust to noisy features, they add no value to the model and can cause issues later, either higher variance or being more prone to data errors\n",
    " \n",
    "\n",
    "### Assignment: building a classification model for airline delays\n",
    "\n",
    "We want to predict whether our flight is going to be delayed so we know whether we should leave for the aiport yet.\n",
    "\n",
    "We will make the prediction 6 hours before it is supposed to be delayed. We're choosing 6 hours to balance two things:\n",
    "\n",
    "* It is useful (we haven't left for the airport yet) unlike a model that predicts 5 minutes in advance.\n",
    "* It is close enough to the flight time that we can incorporate information about the _current day_ in terms of delays\n",
    "  "
   ]
  },
  {
   "cell_type": "markdown",
   "id": "ff51b1fc-51fc-4da1-bf6e-4f8d19f0ff3f",
   "metadata": {},
   "source": [
    "# Feature Brainstorm (from last class)\n",
    "\n",
    "Data and features:\n",
    "\n",
    "* Weather data - if we could get it\n",
    "* recent delays, busy-ness --> by airport (origin and destination) and airline\n",
    "* how to handle covid\n",
    "* holidays\n",
    "* seasonality - make sure you have a full year of training data (and test data?)\n",
    "* scheduled flights?\n",
    "* how much data for each split\n",
    "\n",
    "Modeling choices:\n",
    "\n",
    "* Feature Scaling\n",
    "* distance metric and 'k'\n",
    "* modeling techniques\n",
    "* how much data for each split\n"
   ]
  },
  {
   "cell_type": "code",
   "execution_count": 69,
   "id": "d2a1b38c-85ea-4b65-9ddf-742cf8c0848e",
   "metadata": {},
   "outputs": [],
   "source": [
    "import duckdb\n",
    "import pandas as pd\n",
    "\n",
    "from collections import Counter\n",
    "from matplotlib import pyplot as plt\n",
    "from sklearn.neighbors import  KNeighborsClassifier\n",
    "\n",
    "from sklearn.metrics import accuracy_score, f1_score\n",
    "from sklearn.metrics import precision_score, recall_score\n",
    "from sklearn.metrics import classification_report, confusion_matrix, precision_recall_curve, average_precision_score\n",
    "from sklearn.metrics import roc_curve, roc_auc_score\n",
    "\n",
    "\n",
    "pd.set_option('display.max_rows', 500)\n",
    "pd.set_option('display.max_columns', 500)"
   ]
  },
  {
   "cell_type": "markdown",
   "id": "2583de55-a4a8-45fe-b1dd-79e432480572",
   "metadata": {},
   "source": [
    "## Features\n",
    "\n",
    "Previously, we created a bunch of indicator variables for features. We did not get particularly far.\n",
    "\n",
    "Let's instead, do the following:\n",
    "\n",
    "For AIRLINE CODE, ORIGIN, DESTINATION, MONTH, etc. we want to create lagging features that are the rates of delays for that value.\n",
    "\n",
    "So, for United Airlines (UA) and for a flight on 6/1/2022, we want features like:\n",
    "\n",
    "* UA % delayed yesterday\n",
    "* UA % delayed in past 7 days\n",
    "* UA % delayed in past 30 days\n",
    "* UA % delayed in past 365 days\n",
    "\n",
    "Because we are now using 365 days of history for features, we can't use the first 365 days of data.\n",
    "\n",
    "Additionally, we may want to \"throw out\" all the \"COVID era\" data, so our training data will start on 2022-01-01\n",
    "\n",
    "I've already written a version of these features using window functions in SQL/DuckDB to get you started\n"
   ]
  },
  {
   "cell_type": "code",
   "execution_count": 71,
   "id": "f3aa02a1-8390-4bf8-b69f-1ba0218f81e6",
   "metadata": {},
   "outputs": [
    {
     "data": {
      "application/vnd.jupyter.widget-view+json": {
       "model_id": "51a430cc892141729b62a1232596c911",
       "version_major": 2,
       "version_minor": 0
      },
      "text/plain": [
       "FloatProgress(value=0.0, layout=Layout(width='auto'), style=ProgressStyle(bar_color='black'))"
      ]
     },
     "metadata": {},
     "output_type": "display_data"
    }
   ],
   "source": [
    "from hw5_helpers import prepare_data\n",
    "\n",
    "file_path = \"/Users/yashwanth/Documents/GWU/Sem 3/Data Mining/Class 5/flights_sample_3m.csv\" ## please replace with your own path!\n",
    "\n",
    "df = prepare_data(file_path) # This returns a dataframe, but also creates a table called flights_w_date in duckdb that has the same data "
   ]
  },
  {
   "cell_type": "code",
   "execution_count": 72,
   "id": "0678b151-8dc7-4ca9-88f1-eb764a0f8981",
   "metadata": {},
   "outputs": [
    {
     "data": {
      "text/html": [
       "<div>\n",
       "<style scoped>\n",
       "    .dataframe tbody tr th:only-of-type {\n",
       "        vertical-align: middle;\n",
       "    }\n",
       "\n",
       "    .dataframe tbody tr th {\n",
       "        vertical-align: top;\n",
       "    }\n",
       "\n",
       "    .dataframe thead th {\n",
       "        text-align: right;\n",
       "    }\n",
       "</style>\n",
       "<table border=\"1\" class=\"dataframe\">\n",
       "  <thead>\n",
       "    <tr style=\"text-align: right;\">\n",
       "      <th></th>\n",
       "      <th>datetime</th>\n",
       "      <th>FL_DATE</th>\n",
       "      <th>hour</th>\n",
       "      <th>week_of_year</th>\n",
       "      <th>day_name</th>\n",
       "      <th>month_key</th>\n",
       "      <th>month_of_year</th>\n",
       "      <th>AIRLINE_CODE</th>\n",
       "      <th>ORIGIN</th>\n",
       "      <th>DEST</th>\n",
       "      <th>delay_ind</th>\n",
       "      <th>train_test_split</th>\n",
       "      <th>feature_AIRLINE_CODE_1d_delays</th>\n",
       "      <th>feature_AIRLINE_CODE_1d_avg_delays</th>\n",
       "      <th>feature_AIRLINE_CODE_1d_cnt_delays</th>\n",
       "      <th>feature_ORIGIN_1d_delays</th>\n",
       "      <th>feature_ORIGIN_1d_avg_delays</th>\n",
       "      <th>feature_ORIGIN_1d_cnt_delays</th>\n",
       "      <th>feature_DEST_1d_delays</th>\n",
       "      <th>feature_DEST_1d_avg_delays</th>\n",
       "      <th>feature_DEST_1d_cnt_delays</th>\n",
       "      <th>feature_AIRLINE_CODE_7d_delays</th>\n",
       "      <th>feature_AIRLINE_CODE_7d_avg_delays</th>\n",
       "      <th>feature_AIRLINE_CODE_7d_cnt_delays</th>\n",
       "      <th>feature_ORIGIN_7d_delays</th>\n",
       "      <th>feature_ORIGIN_7d_avg_delays</th>\n",
       "      <th>feature_ORIGIN_7d_cnt_delays</th>\n",
       "      <th>feature_DEST_7d_delays</th>\n",
       "      <th>feature_DEST_7d_avg_delays</th>\n",
       "      <th>feature_DEST_7d_cnt_delays</th>\n",
       "      <th>feature_AIRLINE_CODE_30d_delays</th>\n",
       "      <th>feature_AIRLINE_CODE_30d_avg_delays</th>\n",
       "      <th>feature_AIRLINE_CODE_30d_cnt_delays</th>\n",
       "      <th>feature_ORIGIN_30d_delays</th>\n",
       "      <th>feature_ORIGIN_30d_avg_delays</th>\n",
       "      <th>feature_ORIGIN_30d_cnt_delays</th>\n",
       "      <th>feature_DEST_30d_delays</th>\n",
       "      <th>feature_DEST_30d_avg_delays</th>\n",
       "      <th>feature_DEST_30d_cnt_delays</th>\n",
       "      <th>feature_AIRLINE_CODE_365d_delays</th>\n",
       "      <th>feature_AIRLINE_CODE_365d_avg_delays</th>\n",
       "      <th>feature_AIRLINE_CODE_365d_cnt_delays</th>\n",
       "      <th>feature_ORIGIN_365d_delays</th>\n",
       "      <th>feature_ORIGIN_365d_avg_delays</th>\n",
       "      <th>feature_ORIGIN_365d_cnt_delays</th>\n",
       "      <th>feature_DEST_365d_delays</th>\n",
       "      <th>feature_DEST_365d_avg_delays</th>\n",
       "      <th>feature_DEST_365d_cnt_delays</th>\n",
       "    </tr>\n",
       "  </thead>\n",
       "  <tbody>\n",
       "    <tr>\n",
       "      <th>0</th>\n",
       "      <td>2019-01-02 16:50:00</td>\n",
       "      <td>2019-01-02</td>\n",
       "      <td>16</td>\n",
       "      <td>1</td>\n",
       "      <td>Wednesday</td>\n",
       "      <td>201901</td>\n",
       "      <td>1</td>\n",
       "      <td>NK</td>\n",
       "      <td>PBI</td>\n",
       "      <td>ACY</td>\n",
       "      <td>0</td>\n",
       "      <td>feature_only</td>\n",
       "      <td>10.0</td>\n",
       "      <td>0.175439</td>\n",
       "      <td>57</td>\n",
       "      <td>2.0</td>\n",
       "      <td>0.250000</td>\n",
       "      <td>8</td>\n",
       "      <td>NaN</td>\n",
       "      <td>NaN</td>\n",
       "      <td>0</td>\n",
       "      <td>13.0</td>\n",
       "      <td>0.178082</td>\n",
       "      <td>73</td>\n",
       "      <td>2.0</td>\n",
       "      <td>0.181818</td>\n",
       "      <td>11</td>\n",
       "      <td>NaN</td>\n",
       "      <td>NaN</td>\n",
       "      <td>0</td>\n",
       "      <td>13.0</td>\n",
       "      <td>0.178082</td>\n",
       "      <td>73</td>\n",
       "      <td>2.0</td>\n",
       "      <td>0.181818</td>\n",
       "      <td>11</td>\n",
       "      <td>NaN</td>\n",
       "      <td>NaN</td>\n",
       "      <td>0</td>\n",
       "      <td>13.0</td>\n",
       "      <td>0.178082</td>\n",
       "      <td>73</td>\n",
       "      <td>2.0</td>\n",
       "      <td>0.181818</td>\n",
       "      <td>11</td>\n",
       "      <td>NaN</td>\n",
       "      <td>NaN</td>\n",
       "      <td>0</td>\n",
       "    </tr>\n",
       "    <tr>\n",
       "      <th>1</th>\n",
       "      <td>2019-01-05 20:30:00</td>\n",
       "      <td>2019-01-05</td>\n",
       "      <td>20</td>\n",
       "      <td>1</td>\n",
       "      <td>Saturday</td>\n",
       "      <td>201901</td>\n",
       "      <td>1</td>\n",
       "      <td>NK</td>\n",
       "      <td>FLL</td>\n",
       "      <td>ACY</td>\n",
       "      <td>0</td>\n",
       "      <td>feature_only</td>\n",
       "      <td>9.0</td>\n",
       "      <td>0.191489</td>\n",
       "      <td>47</td>\n",
       "      <td>5.0</td>\n",
       "      <td>0.217391</td>\n",
       "      <td>23</td>\n",
       "      <td>NaN</td>\n",
       "      <td>NaN</td>\n",
       "      <td>0</td>\n",
       "      <td>32.0</td>\n",
       "      <td>0.135021</td>\n",
       "      <td>237</td>\n",
       "      <td>27.0</td>\n",
       "      <td>0.194245</td>\n",
       "      <td>139</td>\n",
       "      <td>0.0</td>\n",
       "      <td>0.000000</td>\n",
       "      <td>1</td>\n",
       "      <td>32.0</td>\n",
       "      <td>0.135021</td>\n",
       "      <td>237</td>\n",
       "      <td>27.0</td>\n",
       "      <td>0.194245</td>\n",
       "      <td>139</td>\n",
       "      <td>0.0</td>\n",
       "      <td>0.000000</td>\n",
       "      <td>1</td>\n",
       "      <td>32.0</td>\n",
       "      <td>0.135021</td>\n",
       "      <td>237</td>\n",
       "      <td>27.0</td>\n",
       "      <td>0.194245</td>\n",
       "      <td>139</td>\n",
       "      <td>0.0</td>\n",
       "      <td>0.000000</td>\n",
       "      <td>1</td>\n",
       "    </tr>\n",
       "    <tr>\n",
       "      <th>2</th>\n",
       "      <td>2019-01-05 21:45:00</td>\n",
       "      <td>2019-01-05</td>\n",
       "      <td>21</td>\n",
       "      <td>1</td>\n",
       "      <td>Saturday</td>\n",
       "      <td>201901</td>\n",
       "      <td>1</td>\n",
       "      <td>NK</td>\n",
       "      <td>MYR</td>\n",
       "      <td>ACY</td>\n",
       "      <td>0</td>\n",
       "      <td>feature_only</td>\n",
       "      <td>7.0</td>\n",
       "      <td>0.145833</td>\n",
       "      <td>48</td>\n",
       "      <td>0.0</td>\n",
       "      <td>0.000000</td>\n",
       "      <td>2</td>\n",
       "      <td>NaN</td>\n",
       "      <td>NaN</td>\n",
       "      <td>0</td>\n",
       "      <td>32.0</td>\n",
       "      <td>0.132780</td>\n",
       "      <td>241</td>\n",
       "      <td>1.0</td>\n",
       "      <td>0.100000</td>\n",
       "      <td>10</td>\n",
       "      <td>0.0</td>\n",
       "      <td>0.000000</td>\n",
       "      <td>1</td>\n",
       "      <td>32.0</td>\n",
       "      <td>0.132780</td>\n",
       "      <td>241</td>\n",
       "      <td>1.0</td>\n",
       "      <td>0.100000</td>\n",
       "      <td>10</td>\n",
       "      <td>0.0</td>\n",
       "      <td>0.000000</td>\n",
       "      <td>1</td>\n",
       "      <td>32.0</td>\n",
       "      <td>0.132780</td>\n",
       "      <td>241</td>\n",
       "      <td>1.0</td>\n",
       "      <td>0.100000</td>\n",
       "      <td>10</td>\n",
       "      <td>0.0</td>\n",
       "      <td>0.000000</td>\n",
       "      <td>1</td>\n",
       "    </tr>\n",
       "    <tr>\n",
       "      <th>3</th>\n",
       "      <td>2019-01-06 10:00:00</td>\n",
       "      <td>2019-01-06</td>\n",
       "      <td>10</td>\n",
       "      <td>1</td>\n",
       "      <td>Sunday</td>\n",
       "      <td>201901</td>\n",
       "      <td>1</td>\n",
       "      <td>NK</td>\n",
       "      <td>RSW</td>\n",
       "      <td>ACY</td>\n",
       "      <td>0</td>\n",
       "      <td>feature_only</td>\n",
       "      <td>5.0</td>\n",
       "      <td>0.102041</td>\n",
       "      <td>49</td>\n",
       "      <td>2.0</td>\n",
       "      <td>0.125000</td>\n",
       "      <td>16</td>\n",
       "      <td>0.0</td>\n",
       "      <td>0.000000</td>\n",
       "      <td>2</td>\n",
       "      <td>35.0</td>\n",
       "      <td>0.132075</td>\n",
       "      <td>265</td>\n",
       "      <td>15.0</td>\n",
       "      <td>0.185185</td>\n",
       "      <td>81</td>\n",
       "      <td>0.0</td>\n",
       "      <td>0.000000</td>\n",
       "      <td>3</td>\n",
       "      <td>35.0</td>\n",
       "      <td>0.132075</td>\n",
       "      <td>265</td>\n",
       "      <td>15.0</td>\n",
       "      <td>0.185185</td>\n",
       "      <td>81</td>\n",
       "      <td>0.0</td>\n",
       "      <td>0.000000</td>\n",
       "      <td>3</td>\n",
       "      <td>35.0</td>\n",
       "      <td>0.132075</td>\n",
       "      <td>265</td>\n",
       "      <td>15.0</td>\n",
       "      <td>0.185185</td>\n",
       "      <td>81</td>\n",
       "      <td>0.0</td>\n",
       "      <td>0.000000</td>\n",
       "      <td>3</td>\n",
       "    </tr>\n",
       "    <tr>\n",
       "      <th>4</th>\n",
       "      <td>2019-01-07 07:15:00</td>\n",
       "      <td>2019-01-07</td>\n",
       "      <td>07</td>\n",
       "      <td>2</td>\n",
       "      <td>Monday</td>\n",
       "      <td>201901</td>\n",
       "      <td>1</td>\n",
       "      <td>NK</td>\n",
       "      <td>FLL</td>\n",
       "      <td>ACY</td>\n",
       "      <td>0</td>\n",
       "      <td>feature_only</td>\n",
       "      <td>12.0</td>\n",
       "      <td>0.272727</td>\n",
       "      <td>44</td>\n",
       "      <td>9.0</td>\n",
       "      <td>0.321429</td>\n",
       "      <td>28</td>\n",
       "      <td>0.0</td>\n",
       "      <td>0.000000</td>\n",
       "      <td>1</td>\n",
       "      <td>47.0</td>\n",
       "      <td>0.152104</td>\n",
       "      <td>309</td>\n",
       "      <td>42.0</td>\n",
       "      <td>0.224599</td>\n",
       "      <td>187</td>\n",
       "      <td>0.0</td>\n",
       "      <td>0.000000</td>\n",
       "      <td>4</td>\n",
       "      <td>47.0</td>\n",
       "      <td>0.152104</td>\n",
       "      <td>309</td>\n",
       "      <td>42.0</td>\n",
       "      <td>0.224599</td>\n",
       "      <td>187</td>\n",
       "      <td>0.0</td>\n",
       "      <td>0.000000</td>\n",
       "      <td>4</td>\n",
       "      <td>47.0</td>\n",
       "      <td>0.152104</td>\n",
       "      <td>309</td>\n",
       "      <td>42.0</td>\n",
       "      <td>0.224599</td>\n",
       "      <td>187</td>\n",
       "      <td>0.0</td>\n",
       "      <td>0.000000</td>\n",
       "      <td>4</td>\n",
       "    </tr>\n",
       "    <tr>\n",
       "      <th>...</th>\n",
       "      <td>...</td>\n",
       "      <td>...</td>\n",
       "      <td>...</td>\n",
       "      <td>...</td>\n",
       "      <td>...</td>\n",
       "      <td>...</td>\n",
       "      <td>...</td>\n",
       "      <td>...</td>\n",
       "      <td>...</td>\n",
       "      <td>...</td>\n",
       "      <td>...</td>\n",
       "      <td>...</td>\n",
       "      <td>...</td>\n",
       "      <td>...</td>\n",
       "      <td>...</td>\n",
       "      <td>...</td>\n",
       "      <td>...</td>\n",
       "      <td>...</td>\n",
       "      <td>...</td>\n",
       "      <td>...</td>\n",
       "      <td>...</td>\n",
       "      <td>...</td>\n",
       "      <td>...</td>\n",
       "      <td>...</td>\n",
       "      <td>...</td>\n",
       "      <td>...</td>\n",
       "      <td>...</td>\n",
       "      <td>...</td>\n",
       "      <td>...</td>\n",
       "      <td>...</td>\n",
       "      <td>...</td>\n",
       "      <td>...</td>\n",
       "      <td>...</td>\n",
       "      <td>...</td>\n",
       "      <td>...</td>\n",
       "      <td>...</td>\n",
       "      <td>...</td>\n",
       "      <td>...</td>\n",
       "      <td>...</td>\n",
       "      <td>...</td>\n",
       "      <td>...</td>\n",
       "      <td>...</td>\n",
       "      <td>...</td>\n",
       "      <td>...</td>\n",
       "      <td>...</td>\n",
       "      <td>...</td>\n",
       "      <td>...</td>\n",
       "      <td>...</td>\n",
       "    </tr>\n",
       "    <tr>\n",
       "      <th>2999995</th>\n",
       "      <td>2019-12-11 12:05:00</td>\n",
       "      <td>2019-12-11</td>\n",
       "      <td>12</td>\n",
       "      <td>50</td>\n",
       "      <td>Wednesday</td>\n",
       "      <td>201912</td>\n",
       "      <td>12</td>\n",
       "      <td>DL</td>\n",
       "      <td>ATL</td>\n",
       "      <td>SEA</td>\n",
       "      <td>0</td>\n",
       "      <td>feature_only</td>\n",
       "      <td>28.0</td>\n",
       "      <td>0.102941</td>\n",
       "      <td>272</td>\n",
       "      <td>13.0</td>\n",
       "      <td>0.130000</td>\n",
       "      <td>100</td>\n",
       "      <td>8.0</td>\n",
       "      <td>0.160000</td>\n",
       "      <td>50</td>\n",
       "      <td>207.0</td>\n",
       "      <td>0.111290</td>\n",
       "      <td>1860</td>\n",
       "      <td>69.0</td>\n",
       "      <td>0.094391</td>\n",
       "      <td>731</td>\n",
       "      <td>47.0</td>\n",
       "      <td>0.161512</td>\n",
       "      <td>291</td>\n",
       "      <td>1129.0</td>\n",
       "      <td>0.136188</td>\n",
       "      <td>8290</td>\n",
       "      <td>390.0</td>\n",
       "      <td>0.124521</td>\n",
       "      <td>3132</td>\n",
       "      <td>193.0</td>\n",
       "      <td>0.159901</td>\n",
       "      <td>1207</td>\n",
       "      <td>13976.0</td>\n",
       "      <td>0.145483</td>\n",
       "      <td>96066</td>\n",
       "      <td>6366.0</td>\n",
       "      <td>0.167478</td>\n",
       "      <td>38011</td>\n",
       "      <td>2246.0</td>\n",
       "      <td>0.164542</td>\n",
       "      <td>13650</td>\n",
       "    </tr>\n",
       "    <tr>\n",
       "      <th>2999996</th>\n",
       "      <td>2019-12-11 13:22:00</td>\n",
       "      <td>2019-12-11</td>\n",
       "      <td>13</td>\n",
       "      <td>50</td>\n",
       "      <td>Wednesday</td>\n",
       "      <td>201912</td>\n",
       "      <td>12</td>\n",
       "      <td>DL</td>\n",
       "      <td>LAS</td>\n",
       "      <td>SEA</td>\n",
       "      <td>0</td>\n",
       "      <td>feature_only</td>\n",
       "      <td>28.0</td>\n",
       "      <td>0.104869</td>\n",
       "      <td>267</td>\n",
       "      <td>8.0</td>\n",
       "      <td>0.200000</td>\n",
       "      <td>40</td>\n",
       "      <td>8.0</td>\n",
       "      <td>0.160000</td>\n",
       "      <td>50</td>\n",
       "      <td>207.0</td>\n",
       "      <td>0.111470</td>\n",
       "      <td>1857</td>\n",
       "      <td>59.0</td>\n",
       "      <td>0.187302</td>\n",
       "      <td>315</td>\n",
       "      <td>47.0</td>\n",
       "      <td>0.161512</td>\n",
       "      <td>291</td>\n",
       "      <td>1129.0</td>\n",
       "      <td>0.136270</td>\n",
       "      <td>8285</td>\n",
       "      <td>276.0</td>\n",
       "      <td>0.198418</td>\n",
       "      <td>1391</td>\n",
       "      <td>193.0</td>\n",
       "      <td>0.159504</td>\n",
       "      <td>1210</td>\n",
       "      <td>13977.0</td>\n",
       "      <td>0.145463</td>\n",
       "      <td>96086</td>\n",
       "      <td>3145.0</td>\n",
       "      <td>0.196415</td>\n",
       "      <td>16012</td>\n",
       "      <td>2246.0</td>\n",
       "      <td>0.164494</td>\n",
       "      <td>13654</td>\n",
       "    </tr>\n",
       "    <tr>\n",
       "      <th>2999997</th>\n",
       "      <td>2019-12-11 13:35:00</td>\n",
       "      <td>2019-12-11</td>\n",
       "      <td>13</td>\n",
       "      <td>50</td>\n",
       "      <td>Wednesday</td>\n",
       "      <td>201912</td>\n",
       "      <td>12</td>\n",
       "      <td>AS</td>\n",
       "      <td>SAN</td>\n",
       "      <td>SEA</td>\n",
       "      <td>0</td>\n",
       "      <td>feature_only</td>\n",
       "      <td>11.0</td>\n",
       "      <td>0.150685</td>\n",
       "      <td>73</td>\n",
       "      <td>0.0</td>\n",
       "      <td>0.000000</td>\n",
       "      <td>16</td>\n",
       "      <td>8.0</td>\n",
       "      <td>0.166667</td>\n",
       "      <td>48</td>\n",
       "      <td>88.0</td>\n",
       "      <td>0.171540</td>\n",
       "      <td>513</td>\n",
       "      <td>26.0</td>\n",
       "      <td>0.151163</td>\n",
       "      <td>172</td>\n",
       "      <td>47.0</td>\n",
       "      <td>0.162630</td>\n",
       "      <td>289</td>\n",
       "      <td>350.0</td>\n",
       "      <td>0.161887</td>\n",
       "      <td>2162</td>\n",
       "      <td>135.0</td>\n",
       "      <td>0.175553</td>\n",
       "      <td>769</td>\n",
       "      <td>193.0</td>\n",
       "      <td>0.159504</td>\n",
       "      <td>1210</td>\n",
       "      <td>3927.0</td>\n",
       "      <td>0.154224</td>\n",
       "      <td>25463</td>\n",
       "      <td>1489.0</td>\n",
       "      <td>0.165592</td>\n",
       "      <td>8992</td>\n",
       "      <td>2246.0</td>\n",
       "      <td>0.164494</td>\n",
       "      <td>13654</td>\n",
       "    </tr>\n",
       "    <tr>\n",
       "      <th>2999998</th>\n",
       "      <td>2019-12-11 14:10:00</td>\n",
       "      <td>2019-12-11</td>\n",
       "      <td>14</td>\n",
       "      <td>50</td>\n",
       "      <td>Wednesday</td>\n",
       "      <td>201912</td>\n",
       "      <td>12</td>\n",
       "      <td>AS</td>\n",
       "      <td>SJC</td>\n",
       "      <td>SEA</td>\n",
       "      <td>1</td>\n",
       "      <td>feature_only</td>\n",
       "      <td>8.0</td>\n",
       "      <td>0.115942</td>\n",
       "      <td>69</td>\n",
       "      <td>2.0</td>\n",
       "      <td>0.095238</td>\n",
       "      <td>21</td>\n",
       "      <td>7.0</td>\n",
       "      <td>0.159091</td>\n",
       "      <td>44</td>\n",
       "      <td>88.0</td>\n",
       "      <td>0.172211</td>\n",
       "      <td>511</td>\n",
       "      <td>23.0</td>\n",
       "      <td>0.203540</td>\n",
       "      <td>113</td>\n",
       "      <td>47.0</td>\n",
       "      <td>0.164336</td>\n",
       "      <td>286</td>\n",
       "      <td>350.0</td>\n",
       "      <td>0.161887</td>\n",
       "      <td>2162</td>\n",
       "      <td>73.0</td>\n",
       "      <td>0.145418</td>\n",
       "      <td>502</td>\n",
       "      <td>193.0</td>\n",
       "      <td>0.159636</td>\n",
       "      <td>1209</td>\n",
       "      <td>3927.0</td>\n",
       "      <td>0.154212</td>\n",
       "      <td>25465</td>\n",
       "      <td>862.0</td>\n",
       "      <td>0.142644</td>\n",
       "      <td>6043</td>\n",
       "      <td>2246.0</td>\n",
       "      <td>0.164494</td>\n",
       "      <td>13654</td>\n",
       "    </tr>\n",
       "    <tr>\n",
       "      <th>2999999</th>\n",
       "      <td>2019-12-11 14:20:00</td>\n",
       "      <td>2019-12-11</td>\n",
       "      <td>14</td>\n",
       "      <td>50</td>\n",
       "      <td>Wednesday</td>\n",
       "      <td>201912</td>\n",
       "      <td>12</td>\n",
       "      <td>HA</td>\n",
       "      <td>HNL</td>\n",
       "      <td>SEA</td>\n",
       "      <td>0</td>\n",
       "      <td>feature_only</td>\n",
       "      <td>1.0</td>\n",
       "      <td>0.055556</td>\n",
       "      <td>18</td>\n",
       "      <td>3.0</td>\n",
       "      <td>0.187500</td>\n",
       "      <td>16</td>\n",
       "      <td>7.0</td>\n",
       "      <td>0.155556</td>\n",
       "      <td>45</td>\n",
       "      <td>14.0</td>\n",
       "      <td>0.083333</td>\n",
       "      <td>168</td>\n",
       "      <td>8.0</td>\n",
       "      <td>0.071429</td>\n",
       "      <td>112</td>\n",
       "      <td>47.0</td>\n",
       "      <td>0.163194</td>\n",
       "      <td>288</td>\n",
       "      <td>36.0</td>\n",
       "      <td>0.051209</td>\n",
       "      <td>703</td>\n",
       "      <td>25.0</td>\n",
       "      <td>0.055188</td>\n",
       "      <td>453</td>\n",
       "      <td>193.0</td>\n",
       "      <td>0.159372</td>\n",
       "      <td>1211</td>\n",
       "      <td>704.0</td>\n",
       "      <td>0.086849</td>\n",
       "      <td>8106</td>\n",
       "      <td>512.0</td>\n",
       "      <td>0.103833</td>\n",
       "      <td>4931</td>\n",
       "      <td>2246.0</td>\n",
       "      <td>0.164470</td>\n",
       "      <td>13656</td>\n",
       "    </tr>\n",
       "  </tbody>\n",
       "</table>\n",
       "<p>3000000 rows × 48 columns</p>\n",
       "</div>"
      ],
      "text/plain": [
       "                   datetime    FL_DATE hour  week_of_year   day_name  \\\n",
       "0       2019-01-02 16:50:00 2019-01-02   16             1  Wednesday   \n",
       "1       2019-01-05 20:30:00 2019-01-05   20             1   Saturday   \n",
       "2       2019-01-05 21:45:00 2019-01-05   21             1   Saturday   \n",
       "3       2019-01-06 10:00:00 2019-01-06   10             1     Sunday   \n",
       "4       2019-01-07 07:15:00 2019-01-07   07             2     Monday   \n",
       "...                     ...        ...  ...           ...        ...   \n",
       "2999995 2019-12-11 12:05:00 2019-12-11   12            50  Wednesday   \n",
       "2999996 2019-12-11 13:22:00 2019-12-11   13            50  Wednesday   \n",
       "2999997 2019-12-11 13:35:00 2019-12-11   13            50  Wednesday   \n",
       "2999998 2019-12-11 14:10:00 2019-12-11   14            50  Wednesday   \n",
       "2999999 2019-12-11 14:20:00 2019-12-11   14            50  Wednesday   \n",
       "\n",
       "        month_key  month_of_year AIRLINE_CODE ORIGIN DEST  delay_ind  \\\n",
       "0          201901              1           NK    PBI  ACY          0   \n",
       "1          201901              1           NK    FLL  ACY          0   \n",
       "2          201901              1           NK    MYR  ACY          0   \n",
       "3          201901              1           NK    RSW  ACY          0   \n",
       "4          201901              1           NK    FLL  ACY          0   \n",
       "...           ...            ...          ...    ...  ...        ...   \n",
       "2999995    201912             12           DL    ATL  SEA          0   \n",
       "2999996    201912             12           DL    LAS  SEA          0   \n",
       "2999997    201912             12           AS    SAN  SEA          0   \n",
       "2999998    201912             12           AS    SJC  SEA          1   \n",
       "2999999    201912             12           HA    HNL  SEA          0   \n",
       "\n",
       "        train_test_split  feature_AIRLINE_CODE_1d_delays  \\\n",
       "0           feature_only                            10.0   \n",
       "1           feature_only                             9.0   \n",
       "2           feature_only                             7.0   \n",
       "3           feature_only                             5.0   \n",
       "4           feature_only                            12.0   \n",
       "...                  ...                             ...   \n",
       "2999995     feature_only                            28.0   \n",
       "2999996     feature_only                            28.0   \n",
       "2999997     feature_only                            11.0   \n",
       "2999998     feature_only                             8.0   \n",
       "2999999     feature_only                             1.0   \n",
       "\n",
       "         feature_AIRLINE_CODE_1d_avg_delays  \\\n",
       "0                                  0.175439   \n",
       "1                                  0.191489   \n",
       "2                                  0.145833   \n",
       "3                                  0.102041   \n",
       "4                                  0.272727   \n",
       "...                                     ...   \n",
       "2999995                            0.102941   \n",
       "2999996                            0.104869   \n",
       "2999997                            0.150685   \n",
       "2999998                            0.115942   \n",
       "2999999                            0.055556   \n",
       "\n",
       "         feature_AIRLINE_CODE_1d_cnt_delays  feature_ORIGIN_1d_delays  \\\n",
       "0                                        57                       2.0   \n",
       "1                                        47                       5.0   \n",
       "2                                        48                       0.0   \n",
       "3                                        49                       2.0   \n",
       "4                                        44                       9.0   \n",
       "...                                     ...                       ...   \n",
       "2999995                                 272                      13.0   \n",
       "2999996                                 267                       8.0   \n",
       "2999997                                  73                       0.0   \n",
       "2999998                                  69                       2.0   \n",
       "2999999                                  18                       3.0   \n",
       "\n",
       "         feature_ORIGIN_1d_avg_delays  feature_ORIGIN_1d_cnt_delays  \\\n",
       "0                            0.250000                             8   \n",
       "1                            0.217391                            23   \n",
       "2                            0.000000                             2   \n",
       "3                            0.125000                            16   \n",
       "4                            0.321429                            28   \n",
       "...                               ...                           ...   \n",
       "2999995                      0.130000                           100   \n",
       "2999996                      0.200000                            40   \n",
       "2999997                      0.000000                            16   \n",
       "2999998                      0.095238                            21   \n",
       "2999999                      0.187500                            16   \n",
       "\n",
       "         feature_DEST_1d_delays  feature_DEST_1d_avg_delays  \\\n",
       "0                           NaN                         NaN   \n",
       "1                           NaN                         NaN   \n",
       "2                           NaN                         NaN   \n",
       "3                           0.0                    0.000000   \n",
       "4                           0.0                    0.000000   \n",
       "...                         ...                         ...   \n",
       "2999995                     8.0                    0.160000   \n",
       "2999996                     8.0                    0.160000   \n",
       "2999997                     8.0                    0.166667   \n",
       "2999998                     7.0                    0.159091   \n",
       "2999999                     7.0                    0.155556   \n",
       "\n",
       "         feature_DEST_1d_cnt_delays  feature_AIRLINE_CODE_7d_delays  \\\n",
       "0                                 0                            13.0   \n",
       "1                                 0                            32.0   \n",
       "2                                 0                            32.0   \n",
       "3                                 2                            35.0   \n",
       "4                                 1                            47.0   \n",
       "...                             ...                             ...   \n",
       "2999995                          50                           207.0   \n",
       "2999996                          50                           207.0   \n",
       "2999997                          48                            88.0   \n",
       "2999998                          44                            88.0   \n",
       "2999999                          45                            14.0   \n",
       "\n",
       "         feature_AIRLINE_CODE_7d_avg_delays  \\\n",
       "0                                  0.178082   \n",
       "1                                  0.135021   \n",
       "2                                  0.132780   \n",
       "3                                  0.132075   \n",
       "4                                  0.152104   \n",
       "...                                     ...   \n",
       "2999995                            0.111290   \n",
       "2999996                            0.111470   \n",
       "2999997                            0.171540   \n",
       "2999998                            0.172211   \n",
       "2999999                            0.083333   \n",
       "\n",
       "         feature_AIRLINE_CODE_7d_cnt_delays  feature_ORIGIN_7d_delays  \\\n",
       "0                                        73                       2.0   \n",
       "1                                       237                      27.0   \n",
       "2                                       241                       1.0   \n",
       "3                                       265                      15.0   \n",
       "4                                       309                      42.0   \n",
       "...                                     ...                       ...   \n",
       "2999995                                1860                      69.0   \n",
       "2999996                                1857                      59.0   \n",
       "2999997                                 513                      26.0   \n",
       "2999998                                 511                      23.0   \n",
       "2999999                                 168                       8.0   \n",
       "\n",
       "         feature_ORIGIN_7d_avg_delays  feature_ORIGIN_7d_cnt_delays  \\\n",
       "0                            0.181818                            11   \n",
       "1                            0.194245                           139   \n",
       "2                            0.100000                            10   \n",
       "3                            0.185185                            81   \n",
       "4                            0.224599                           187   \n",
       "...                               ...                           ...   \n",
       "2999995                      0.094391                           731   \n",
       "2999996                      0.187302                           315   \n",
       "2999997                      0.151163                           172   \n",
       "2999998                      0.203540                           113   \n",
       "2999999                      0.071429                           112   \n",
       "\n",
       "         feature_DEST_7d_delays  feature_DEST_7d_avg_delays  \\\n",
       "0                           NaN                         NaN   \n",
       "1                           0.0                    0.000000   \n",
       "2                           0.0                    0.000000   \n",
       "3                           0.0                    0.000000   \n",
       "4                           0.0                    0.000000   \n",
       "...                         ...                         ...   \n",
       "2999995                    47.0                    0.161512   \n",
       "2999996                    47.0                    0.161512   \n",
       "2999997                    47.0                    0.162630   \n",
       "2999998                    47.0                    0.164336   \n",
       "2999999                    47.0                    0.163194   \n",
       "\n",
       "         feature_DEST_7d_cnt_delays  feature_AIRLINE_CODE_30d_delays  \\\n",
       "0                                 0                             13.0   \n",
       "1                                 1                             32.0   \n",
       "2                                 1                             32.0   \n",
       "3                                 3                             35.0   \n",
       "4                                 4                             47.0   \n",
       "...                             ...                              ...   \n",
       "2999995                         291                           1129.0   \n",
       "2999996                         291                           1129.0   \n",
       "2999997                         289                            350.0   \n",
       "2999998                         286                            350.0   \n",
       "2999999                         288                             36.0   \n",
       "\n",
       "         feature_AIRLINE_CODE_30d_avg_delays  \\\n",
       "0                                   0.178082   \n",
       "1                                   0.135021   \n",
       "2                                   0.132780   \n",
       "3                                   0.132075   \n",
       "4                                   0.152104   \n",
       "...                                      ...   \n",
       "2999995                             0.136188   \n",
       "2999996                             0.136270   \n",
       "2999997                             0.161887   \n",
       "2999998                             0.161887   \n",
       "2999999                             0.051209   \n",
       "\n",
       "         feature_AIRLINE_CODE_30d_cnt_delays  feature_ORIGIN_30d_delays  \\\n",
       "0                                         73                        2.0   \n",
       "1                                        237                       27.0   \n",
       "2                                        241                        1.0   \n",
       "3                                        265                       15.0   \n",
       "4                                        309                       42.0   \n",
       "...                                      ...                        ...   \n",
       "2999995                                 8290                      390.0   \n",
       "2999996                                 8285                      276.0   \n",
       "2999997                                 2162                      135.0   \n",
       "2999998                                 2162                       73.0   \n",
       "2999999                                  703                       25.0   \n",
       "\n",
       "         feature_ORIGIN_30d_avg_delays  feature_ORIGIN_30d_cnt_delays  \\\n",
       "0                             0.181818                             11   \n",
       "1                             0.194245                            139   \n",
       "2                             0.100000                             10   \n",
       "3                             0.185185                             81   \n",
       "4                             0.224599                            187   \n",
       "...                                ...                            ...   \n",
       "2999995                       0.124521                           3132   \n",
       "2999996                       0.198418                           1391   \n",
       "2999997                       0.175553                            769   \n",
       "2999998                       0.145418                            502   \n",
       "2999999                       0.055188                            453   \n",
       "\n",
       "         feature_DEST_30d_delays  feature_DEST_30d_avg_delays  \\\n",
       "0                            NaN                          NaN   \n",
       "1                            0.0                     0.000000   \n",
       "2                            0.0                     0.000000   \n",
       "3                            0.0                     0.000000   \n",
       "4                            0.0                     0.000000   \n",
       "...                          ...                          ...   \n",
       "2999995                    193.0                     0.159901   \n",
       "2999996                    193.0                     0.159504   \n",
       "2999997                    193.0                     0.159504   \n",
       "2999998                    193.0                     0.159636   \n",
       "2999999                    193.0                     0.159372   \n",
       "\n",
       "         feature_DEST_30d_cnt_delays  feature_AIRLINE_CODE_365d_delays  \\\n",
       "0                                  0                              13.0   \n",
       "1                                  1                              32.0   \n",
       "2                                  1                              32.0   \n",
       "3                                  3                              35.0   \n",
       "4                                  4                              47.0   \n",
       "...                              ...                               ...   \n",
       "2999995                         1207                           13976.0   \n",
       "2999996                         1210                           13977.0   \n",
       "2999997                         1210                            3927.0   \n",
       "2999998                         1209                            3927.0   \n",
       "2999999                         1211                             704.0   \n",
       "\n",
       "         feature_AIRLINE_CODE_365d_avg_delays  \\\n",
       "0                                    0.178082   \n",
       "1                                    0.135021   \n",
       "2                                    0.132780   \n",
       "3                                    0.132075   \n",
       "4                                    0.152104   \n",
       "...                                       ...   \n",
       "2999995                              0.145483   \n",
       "2999996                              0.145463   \n",
       "2999997                              0.154224   \n",
       "2999998                              0.154212   \n",
       "2999999                              0.086849   \n",
       "\n",
       "         feature_AIRLINE_CODE_365d_cnt_delays  feature_ORIGIN_365d_delays  \\\n",
       "0                                          73                         2.0   \n",
       "1                                         237                        27.0   \n",
       "2                                         241                         1.0   \n",
       "3                                         265                        15.0   \n",
       "4                                         309                        42.0   \n",
       "...                                       ...                         ...   \n",
       "2999995                                 96066                      6366.0   \n",
       "2999996                                 96086                      3145.0   \n",
       "2999997                                 25463                      1489.0   \n",
       "2999998                                 25465                       862.0   \n",
       "2999999                                  8106                       512.0   \n",
       "\n",
       "         feature_ORIGIN_365d_avg_delays  feature_ORIGIN_365d_cnt_delays  \\\n",
       "0                              0.181818                              11   \n",
       "1                              0.194245                             139   \n",
       "2                              0.100000                              10   \n",
       "3                              0.185185                              81   \n",
       "4                              0.224599                             187   \n",
       "...                                 ...                             ...   \n",
       "2999995                        0.167478                           38011   \n",
       "2999996                        0.196415                           16012   \n",
       "2999997                        0.165592                            8992   \n",
       "2999998                        0.142644                            6043   \n",
       "2999999                        0.103833                            4931   \n",
       "\n",
       "         feature_DEST_365d_delays  feature_DEST_365d_avg_delays  \\\n",
       "0                             NaN                           NaN   \n",
       "1                             0.0                      0.000000   \n",
       "2                             0.0                      0.000000   \n",
       "3                             0.0                      0.000000   \n",
       "4                             0.0                      0.000000   \n",
       "...                           ...                           ...   \n",
       "2999995                    2246.0                      0.164542   \n",
       "2999996                    2246.0                      0.164494   \n",
       "2999997                    2246.0                      0.164494   \n",
       "2999998                    2246.0                      0.164494   \n",
       "2999999                    2246.0                      0.164470   \n",
       "\n",
       "         feature_DEST_365d_cnt_delays  \n",
       "0                                   0  \n",
       "1                                   1  \n",
       "2                                   1  \n",
       "3                                   3  \n",
       "4                                   4  \n",
       "...                               ...  \n",
       "2999995                         13650  \n",
       "2999996                         13654  \n",
       "2999997                         13654  \n",
       "2999998                         13654  \n",
       "2999999                         13656  \n",
       "\n",
       "[3000000 rows x 48 columns]"
      ]
     },
     "execution_count": 72,
     "metadata": {},
     "output_type": "execute_result"
    }
   ],
   "source": [
    "# Let's inspect the data\n",
    "\n",
    "df"
   ]
  },
  {
   "cell_type": "code",
   "execution_count": 73,
   "id": "28e70492-0089-4564-9503-d70fd5afdbee",
   "metadata": {
    "scrolled": true
   },
   "outputs": [
    {
     "data": {
      "text/html": [
       "<div>\n",
       "<style scoped>\n",
       "    .dataframe tbody tr th:only-of-type {\n",
       "        vertical-align: middle;\n",
       "    }\n",
       "\n",
       "    .dataframe tbody tr th {\n",
       "        vertical-align: top;\n",
       "    }\n",
       "\n",
       "    .dataframe thead th {\n",
       "        text-align: right;\n",
       "    }\n",
       "</style>\n",
       "<table border=\"1\" class=\"dataframe\">\n",
       "  <thead>\n",
       "    <tr style=\"text-align: right;\">\n",
       "      <th></th>\n",
       "      <th>month_key</th>\n",
       "      <th>num_flights</th>\n",
       "      <th>delayed_flights</th>\n",
       "      <th>pct_delayed_flights</th>\n",
       "    </tr>\n",
       "  </thead>\n",
       "  <tbody>\n",
       "    <tr>\n",
       "      <th>0</th>\n",
       "      <td>201901</td>\n",
       "      <td>59412</td>\n",
       "      <td>10044.0</td>\n",
       "      <td>0.169057</td>\n",
       "    </tr>\n",
       "    <tr>\n",
       "      <th>1</th>\n",
       "      <td>201902</td>\n",
       "      <td>54565</td>\n",
       "      <td>11461.0</td>\n",
       "      <td>0.210043</td>\n",
       "    </tr>\n",
       "    <tr>\n",
       "      <th>2</th>\n",
       "      <td>201903</td>\n",
       "      <td>64894</td>\n",
       "      <td>10913.0</td>\n",
       "      <td>0.168167</td>\n",
       "    </tr>\n",
       "    <tr>\n",
       "      <th>3</th>\n",
       "      <td>201904</td>\n",
       "      <td>62080</td>\n",
       "      <td>11052.0</td>\n",
       "      <td>0.178028</td>\n",
       "    </tr>\n",
       "    <tr>\n",
       "      <th>4</th>\n",
       "      <td>201905</td>\n",
       "      <td>64966</td>\n",
       "      <td>12536.0</td>\n",
       "      <td>0.192962</td>\n",
       "    </tr>\n",
       "    <tr>\n",
       "      <th>5</th>\n",
       "      <td>201906</td>\n",
       "      <td>64777</td>\n",
       "      <td>15312.0</td>\n",
       "      <td>0.236380</td>\n",
       "    </tr>\n",
       "    <tr>\n",
       "      <th>6</th>\n",
       "      <td>201907</td>\n",
       "      <td>67213</td>\n",
       "      <td>13835.0</td>\n",
       "      <td>0.205838</td>\n",
       "    </tr>\n",
       "    <tr>\n",
       "      <th>7</th>\n",
       "      <td>201908</td>\n",
       "      <td>67469</td>\n",
       "      <td>13415.0</td>\n",
       "      <td>0.198832</td>\n",
       "    </tr>\n",
       "    <tr>\n",
       "      <th>8</th>\n",
       "      <td>201909</td>\n",
       "      <td>61987</td>\n",
       "      <td>8215.0</td>\n",
       "      <td>0.132528</td>\n",
       "    </tr>\n",
       "    <tr>\n",
       "      <th>9</th>\n",
       "      <td>201910</td>\n",
       "      <td>64869</td>\n",
       "      <td>10297.0</td>\n",
       "      <td>0.158735</td>\n",
       "    </tr>\n",
       "    <tr>\n",
       "      <th>10</th>\n",
       "      <td>201911</td>\n",
       "      <td>61662</td>\n",
       "      <td>8783.0</td>\n",
       "      <td>0.142438</td>\n",
       "    </tr>\n",
       "    <tr>\n",
       "      <th>11</th>\n",
       "      <td>201912</td>\n",
       "      <td>63779</td>\n",
       "      <td>13054.0</td>\n",
       "      <td>0.204676</td>\n",
       "    </tr>\n",
       "    <tr>\n",
       "      <th>12</th>\n",
       "      <td>202001</td>\n",
       "      <td>62160</td>\n",
       "      <td>8359.0</td>\n",
       "      <td>0.134476</td>\n",
       "    </tr>\n",
       "    <tr>\n",
       "      <th>13</th>\n",
       "      <td>202002</td>\n",
       "      <td>58479</td>\n",
       "      <td>8392.0</td>\n",
       "      <td>0.143505</td>\n",
       "    </tr>\n",
       "    <tr>\n",
       "      <th>14</th>\n",
       "      <td>202003</td>\n",
       "      <td>66305</td>\n",
       "      <td>5180.0</td>\n",
       "      <td>0.078124</td>\n",
       "    </tr>\n",
       "    <tr>\n",
       "      <th>15</th>\n",
       "      <td>202004</td>\n",
       "      <td>32074</td>\n",
       "      <td>842.0</td>\n",
       "      <td>0.026252</td>\n",
       "    </tr>\n",
       "    <tr>\n",
       "      <th>16</th>\n",
       "      <td>202005</td>\n",
       "      <td>18645</td>\n",
       "      <td>892.0</td>\n",
       "      <td>0.047841</td>\n",
       "    </tr>\n",
       "    <tr>\n",
       "      <th>17</th>\n",
       "      <td>202006</td>\n",
       "      <td>23147</td>\n",
       "      <td>1452.0</td>\n",
       "      <td>0.062730</td>\n",
       "    </tr>\n",
       "    <tr>\n",
       "      <th>18</th>\n",
       "      <td>202007</td>\n",
       "      <td>36088</td>\n",
       "      <td>2606.0</td>\n",
       "      <td>0.072212</td>\n",
       "    </tr>\n",
       "    <tr>\n",
       "      <th>19</th>\n",
       "      <td>202008</td>\n",
       "      <td>38528</td>\n",
       "      <td>2621.0</td>\n",
       "      <td>0.068028</td>\n",
       "    </tr>\n",
       "    <tr>\n",
       "      <th>20</th>\n",
       "      <td>202009</td>\n",
       "      <td>32792</td>\n",
       "      <td>1923.0</td>\n",
       "      <td>0.058642</td>\n",
       "    </tr>\n",
       "    <tr>\n",
       "      <th>21</th>\n",
       "      <td>202010</td>\n",
       "      <td>35935</td>\n",
       "      <td>2526.0</td>\n",
       "      <td>0.070294</td>\n",
       "    </tr>\n",
       "    <tr>\n",
       "      <th>22</th>\n",
       "      <td>202011</td>\n",
       "      <td>37313</td>\n",
       "      <td>2309.0</td>\n",
       "      <td>0.061882</td>\n",
       "    </tr>\n",
       "    <tr>\n",
       "      <th>23</th>\n",
       "      <td>202012</td>\n",
       "      <td>37884</td>\n",
       "      <td>3872.0</td>\n",
       "      <td>0.102207</td>\n",
       "    </tr>\n",
       "    <tr>\n",
       "      <th>24</th>\n",
       "      <td>202101</td>\n",
       "      <td>36914</td>\n",
       "      <td>3156.0</td>\n",
       "      <td>0.085496</td>\n",
       "    </tr>\n",
       "    <tr>\n",
       "      <th>25</th>\n",
       "      <td>202102</td>\n",
       "      <td>33742</td>\n",
       "      <td>3812.0</td>\n",
       "      <td>0.112975</td>\n",
       "    </tr>\n",
       "    <tr>\n",
       "      <th>26</th>\n",
       "      <td>202103</td>\n",
       "      <td>45143</td>\n",
       "      <td>4554.0</td>\n",
       "      <td>0.100879</td>\n",
       "    </tr>\n",
       "    <tr>\n",
       "      <th>27</th>\n",
       "      <td>202104</td>\n",
       "      <td>45735</td>\n",
       "      <td>4898.0</td>\n",
       "      <td>0.107095</td>\n",
       "    </tr>\n",
       "    <tr>\n",
       "      <th>28</th>\n",
       "      <td>202105</td>\n",
       "      <td>50421</td>\n",
       "      <td>7045.0</td>\n",
       "      <td>0.139724</td>\n",
       "    </tr>\n",
       "    <tr>\n",
       "      <th>29</th>\n",
       "      <td>202106</td>\n",
       "      <td>55393</td>\n",
       "      <td>13209.0</td>\n",
       "      <td>0.238460</td>\n",
       "    </tr>\n",
       "    <tr>\n",
       "      <th>30</th>\n",
       "      <td>202107</td>\n",
       "      <td>59653</td>\n",
       "      <td>14977.0</td>\n",
       "      <td>0.251069</td>\n",
       "    </tr>\n",
       "    <tr>\n",
       "      <th>31</th>\n",
       "      <td>202108</td>\n",
       "      <td>59484</td>\n",
       "      <td>13216.0</td>\n",
       "      <td>0.222177</td>\n",
       "    </tr>\n",
       "    <tr>\n",
       "      <th>32</th>\n",
       "      <td>202109</td>\n",
       "      <td>55127</td>\n",
       "      <td>7822.0</td>\n",
       "      <td>0.141891</td>\n",
       "    </tr>\n",
       "    <tr>\n",
       "      <th>33</th>\n",
       "      <td>202110</td>\n",
       "      <td>57396</td>\n",
       "      <td>10787.0</td>\n",
       "      <td>0.187940</td>\n",
       "    </tr>\n",
       "    <tr>\n",
       "      <th>34</th>\n",
       "      <td>202111</td>\n",
       "      <td>55885</td>\n",
       "      <td>8869.0</td>\n",
       "      <td>0.158701</td>\n",
       "    </tr>\n",
       "    <tr>\n",
       "      <th>35</th>\n",
       "      <td>202112</td>\n",
       "      <td>56740</td>\n",
       "      <td>12557.0</td>\n",
       "      <td>0.221308</td>\n",
       "    </tr>\n",
       "    <tr>\n",
       "      <th>36</th>\n",
       "      <td>202201</td>\n",
       "      <td>54895</td>\n",
       "      <td>10075.0</td>\n",
       "      <td>0.183532</td>\n",
       "    </tr>\n",
       "    <tr>\n",
       "      <th>37</th>\n",
       "      <td>202202</td>\n",
       "      <td>50685</td>\n",
       "      <td>9644.0</td>\n",
       "      <td>0.190273</td>\n",
       "    </tr>\n",
       "    <tr>\n",
       "      <th>38</th>\n",
       "      <td>202203</td>\n",
       "      <td>57748</td>\n",
       "      <td>12284.0</td>\n",
       "      <td>0.212717</td>\n",
       "    </tr>\n",
       "    <tr>\n",
       "      <th>39</th>\n",
       "      <td>202204</td>\n",
       "      <td>56739</td>\n",
       "      <td>12653.0</td>\n",
       "      <td>0.223004</td>\n",
       "    </tr>\n",
       "    <tr>\n",
       "      <th>40</th>\n",
       "      <td>202205</td>\n",
       "      <td>59051</td>\n",
       "      <td>12260.0</td>\n",
       "      <td>0.207617</td>\n",
       "    </tr>\n",
       "    <tr>\n",
       "      <th>41</th>\n",
       "      <td>202206</td>\n",
       "      <td>59151</td>\n",
       "      <td>14405.0</td>\n",
       "      <td>0.243529</td>\n",
       "    </tr>\n",
       "    <tr>\n",
       "      <th>42</th>\n",
       "      <td>202207</td>\n",
       "      <td>60744</td>\n",
       "      <td>14330.0</td>\n",
       "      <td>0.235908</td>\n",
       "    </tr>\n",
       "    <tr>\n",
       "      <th>43</th>\n",
       "      <td>202208</td>\n",
       "      <td>60169</td>\n",
       "      <td>13451.0</td>\n",
       "      <td>0.223554</td>\n",
       "    </tr>\n",
       "    <tr>\n",
       "      <th>44</th>\n",
       "      <td>202209</td>\n",
       "      <td>57022</td>\n",
       "      <td>9500.0</td>\n",
       "      <td>0.166602</td>\n",
       "    </tr>\n",
       "    <tr>\n",
       "      <th>45</th>\n",
       "      <td>202210</td>\n",
       "      <td>58590</td>\n",
       "      <td>9618.0</td>\n",
       "      <td>0.164158</td>\n",
       "    </tr>\n",
       "    <tr>\n",
       "      <th>46</th>\n",
       "      <td>202211</td>\n",
       "      <td>56080</td>\n",
       "      <td>10392.0</td>\n",
       "      <td>0.185307</td>\n",
       "    </tr>\n",
       "    <tr>\n",
       "      <th>47</th>\n",
       "      <td>202212</td>\n",
       "      <td>56986</td>\n",
       "      <td>14329.0</td>\n",
       "      <td>0.251448</td>\n",
       "    </tr>\n",
       "    <tr>\n",
       "      <th>48</th>\n",
       "      <td>202301</td>\n",
       "      <td>55321</td>\n",
       "      <td>11457.0</td>\n",
       "      <td>0.207100</td>\n",
       "    </tr>\n",
       "    <tr>\n",
       "      <th>49</th>\n",
       "      <td>202302</td>\n",
       "      <td>51026</td>\n",
       "      <td>9255.0</td>\n",
       "      <td>0.181378</td>\n",
       "    </tr>\n",
       "    <tr>\n",
       "      <th>50</th>\n",
       "      <td>202303</td>\n",
       "      <td>59009</td>\n",
       "      <td>13398.0</td>\n",
       "      <td>0.227050</td>\n",
       "    </tr>\n",
       "    <tr>\n",
       "      <th>51</th>\n",
       "      <td>202304</td>\n",
       "      <td>57289</td>\n",
       "      <td>12798.0</td>\n",
       "      <td>0.223394</td>\n",
       "    </tr>\n",
       "    <tr>\n",
       "      <th>52</th>\n",
       "      <td>202305</td>\n",
       "      <td>59447</td>\n",
       "      <td>10915.0</td>\n",
       "      <td>0.183609</td>\n",
       "    </tr>\n",
       "    <tr>\n",
       "      <th>53</th>\n",
       "      <td>202306</td>\n",
       "      <td>58668</td>\n",
       "      <td>15480.0</td>\n",
       "      <td>0.263858</td>\n",
       "    </tr>\n",
       "    <tr>\n",
       "      <th>54</th>\n",
       "      <td>202307</td>\n",
       "      <td>61270</td>\n",
       "      <td>17367.0</td>\n",
       "      <td>0.283450</td>\n",
       "    </tr>\n",
       "    <tr>\n",
       "      <th>55</th>\n",
       "      <td>202308</td>\n",
       "      <td>61454</td>\n",
       "      <td>13444.0</td>\n",
       "      <td>0.218765</td>\n",
       "    </tr>\n",
       "  </tbody>\n",
       "</table>\n",
       "</div>"
      ],
      "text/plain": [
       "   month_key  num_flights  delayed_flights  pct_delayed_flights\n",
       "0     201901        59412          10044.0             0.169057\n",
       "1     201902        54565          11461.0             0.210043\n",
       "2     201903        64894          10913.0             0.168167\n",
       "3     201904        62080          11052.0             0.178028\n",
       "4     201905        64966          12536.0             0.192962\n",
       "5     201906        64777          15312.0             0.236380\n",
       "6     201907        67213          13835.0             0.205838\n",
       "7     201908        67469          13415.0             0.198832\n",
       "8     201909        61987           8215.0             0.132528\n",
       "9     201910        64869          10297.0             0.158735\n",
       "10    201911        61662           8783.0             0.142438\n",
       "11    201912        63779          13054.0             0.204676\n",
       "12    202001        62160           8359.0             0.134476\n",
       "13    202002        58479           8392.0             0.143505\n",
       "14    202003        66305           5180.0             0.078124\n",
       "15    202004        32074            842.0             0.026252\n",
       "16    202005        18645            892.0             0.047841\n",
       "17    202006        23147           1452.0             0.062730\n",
       "18    202007        36088           2606.0             0.072212\n",
       "19    202008        38528           2621.0             0.068028\n",
       "20    202009        32792           1923.0             0.058642\n",
       "21    202010        35935           2526.0             0.070294\n",
       "22    202011        37313           2309.0             0.061882\n",
       "23    202012        37884           3872.0             0.102207\n",
       "24    202101        36914           3156.0             0.085496\n",
       "25    202102        33742           3812.0             0.112975\n",
       "26    202103        45143           4554.0             0.100879\n",
       "27    202104        45735           4898.0             0.107095\n",
       "28    202105        50421           7045.0             0.139724\n",
       "29    202106        55393          13209.0             0.238460\n",
       "30    202107        59653          14977.0             0.251069\n",
       "31    202108        59484          13216.0             0.222177\n",
       "32    202109        55127           7822.0             0.141891\n",
       "33    202110        57396          10787.0             0.187940\n",
       "34    202111        55885           8869.0             0.158701\n",
       "35    202112        56740          12557.0             0.221308\n",
       "36    202201        54895          10075.0             0.183532\n",
       "37    202202        50685           9644.0             0.190273\n",
       "38    202203        57748          12284.0             0.212717\n",
       "39    202204        56739          12653.0             0.223004\n",
       "40    202205        59051          12260.0             0.207617\n",
       "41    202206        59151          14405.0             0.243529\n",
       "42    202207        60744          14330.0             0.235908\n",
       "43    202208        60169          13451.0             0.223554\n",
       "44    202209        57022           9500.0             0.166602\n",
       "45    202210        58590           9618.0             0.164158\n",
       "46    202211        56080          10392.0             0.185307\n",
       "47    202212        56986          14329.0             0.251448\n",
       "48    202301        55321          11457.0             0.207100\n",
       "49    202302        51026           9255.0             0.181378\n",
       "50    202303        59009          13398.0             0.227050\n",
       "51    202304        57289          12798.0             0.223394\n",
       "52    202305        59447          10915.0             0.183609\n",
       "53    202306        58668          15480.0             0.263858\n",
       "54    202307        61270          17367.0             0.283450\n",
       "55    202308        61454          13444.0             0.218765"
      ]
     },
     "execution_count": 73,
     "metadata": {},
     "output_type": "execute_result"
    }
   ],
   "source": [
    "query = '''\n",
    "SELECT\n",
    "    month_key,\n",
    "    COUNT(*) AS num_flights,\n",
    "    SUM(delay_ind) AS delayed_flights,\n",
    "    SUM(delay_ind)/COUNT(*) AS pct_delayed_flights\n",
    "FROM \n",
    "    flights_w_date\n",
    "GROUP BY \n",
    "    month_key\n",
    "ORDER BY \n",
    "    month_key'''\n",
    "\n",
    "duckdb.sql(query).df()"
   ]
  },
  {
   "cell_type": "markdown",
   "id": "a5d5036c-82b3-4364-99dd-781b767eac81",
   "metadata": {},
   "source": [
    "# Remaining Data Prep\n",
    "\n",
    "We are going to need a _Design Matrix_ that includes columns for all the features we want to include.\n",
    "We will also need the _target variable_ that we are predicting (`delay_ind`)\n",
    "\n",
    "We are also going to use a hybrid of the evaluation method that we talked about in class:\n",
    "\n",
    "* We will take the _training_ data and use Cross-folds validation for determining any hyperparameters. Our training data was chosen based on time\n",
    "* We will keep the \"out of time\" _test_ data to use at the end to see how well believe our model will perform on unseen data\n",
    "\n",
    "Our data is also very large! So, we can afford to do some sampling for efficiency\n",
    "\n",
    "\n",
    "## Question 1: Data Prep\n",
    "\n",
    "**Question 1a:** create 2 dataframes from the above set of full data:\n",
    "\n",
    "* train_df (should be where `train_test_split=='train'`\n",
    "* test_df (should be where `train_test_split=='test'`\n",
    "\n",
    "**Question 1b:** using those data sets, create 4 dataframes, sampled down:\n",
    "\n",
    "* X_train (only columns are features)\n",
    "* y_train (just the target)\n",
    "* X_test (only columns are features)\n",
    "* y_test (just the target)\n",
    "\n",
    "Use a sampling of 50,000 for the training data and 25,000 for the test data\n",
    "\n",
    "**Question 1c:** Make sure to handle nulls and choose whether to do feature scaling!:\n",
    "\n",
    "* You can choose your own method for null handling\n",
    "* You can choose whether or not to do feature scaling\n",
    "* Please justify your choice either way! (Could be based on intuition/hypotheses at this point. Later, we may ask for more grounding)\n",
    "  "
   ]
  },
  {
   "cell_type": "code",
   "execution_count": 75,
   "id": "57024684-b576-493a-bd0f-1f64847a4b1d",
   "metadata": {},
   "outputs": [
    {
     "name": "stdout",
     "output_type": "stream",
     "text": [
      "Training DataFrame shape: (686220, 48)\n",
      "Testing DataFrame shape: (463484, 48)\n"
     ]
    }
   ],
   "source": [
    "# 1a: Creating separate DataFrames for training and testing sets based on 'train_test_split'\n",
    "\n",
    "train_set = df[df['train_test_split'] == 'train'].reset_index(drop=True)\n",
    "test_set = df[df['train_test_split'] == 'test'].reset_index(drop=True)\n",
    "\n",
    "# Display the shapes of the newly created DataFrames\n",
    "train_set_shape = train_set.shape\n",
    "test_set_shape = test_set.shape\n",
    "print(f\"Training DataFrame shape: {train_set_shape}\")\n",
    "print(f\"Testing DataFrame shape: {test_set_shape}\")"
   ]
  },
  {
   "cell_type": "code",
   "execution_count": 76,
   "id": "58a43575-3865-48a9-b378-893500a730b7",
   "metadata": {},
   "outputs": [
    {
     "name": "stdout",
     "output_type": "stream",
     "text": [
      "Features_train shape: (50000, 47), Target_train shape: (50000,)\n",
      "Features_test shape: (25000, 47), Target_test shape: (25000,)\n"
     ]
    }
   ],
   "source": [
    "# 1b: Sampling 50,000 from train_set and 25,000 from test_set\n",
    "\n",
    "features_train = train_set.sample(n=50000, random_state=42).drop(columns=['delay_ind'])\n",
    "target_train = train_set.loc[features_train.index, 'delay_ind']\n",
    "\n",
    "features_test = test_set.sample(n=25000, random_state=42).drop(columns=['delay_ind'])\n",
    "target_test = test_set.loc[features_test.index, 'delay_ind']\n",
    "\n",
    "# Checking the shapes of the sampled DataFrames\n",
    "print(f\"Features_train shape: {features_train.shape}, Target_train shape: {target_train.shape}\")\n",
    "print(f\"Features_test shape: {features_test.shape}, Target_test shape: {target_test.shape}\")"
   ]
  },
  {
   "cell_type": "code",
   "execution_count": 77,
   "id": "3c9b2340-b13a-4e53-b209-32106fcd1116",
   "metadata": {},
   "outputs": [
    {
     "name": "stdout",
     "output_type": "stream",
     "text": [
      "Remaining null values in Features_train: 0\n",
      "Remaining null values in Features_test: 0\n"
     ]
    }
   ],
   "source": [
    "# 1c: Handling missing values (nulls)\n",
    "\n",
    "# Identifying numerical and categorical columns\n",
    "num_columns = features_train.select_dtypes(include=['float64', 'int64']).columns\n",
    "cat_columns = features_train.select_dtypes(include=['object']).columns\n",
    "\n",
    "# Filling missing values in numerical columns with the mean\n",
    "features_train[num_columns] = features_train[num_columns].fillna(features_train[num_columns].mean())\n",
    "\n",
    "# Filling missing values in categorical columns with the mode\n",
    "for column in cat_columns:\n",
    "    features_train[column] = features_train[column].fillna(features_train[column].mode()[0])\n",
    "\n",
    "# Repeat the same for features_test\n",
    "features_test[num_columns] = features_test[num_columns].fillna(features_test[num_columns].mean())\n",
    "\n",
    "for column in cat_columns:\n",
    "    features_test[column] = features_test[column].fillna(features_test[column].mode()[0])\n",
    "\n",
    "# Checking if there are any remaining missing values\n",
    "print(f\"Remaining null values in Features_train: {features_train.isnull().sum().sum()}\")\n",
    "print(f\"Remaining null values in Features_test: {features_test.isnull().sum().sum()}\")"
   ]
  },
  {
   "cell_type": "code",
   "execution_count": 78,
   "id": "4339fcae-5e08-4917-bf93-1797ceb6fe4a",
   "metadata": {},
   "outputs": [
    {
     "name": "stdout",
     "output_type": "stream",
     "text": [
      "Final Features_train shape: (50000, 45)\n",
      "Final Features_test shape: (25000, 45)\n"
     ]
    }
   ],
   "source": [
    "from sklearn.preprocessing import StandardScaler\n",
    "\n",
    "# Initialize the scaler\n",
    "scaler_model = StandardScaler()\n",
    "\n",
    "# Fit the scaler on training numerical features and transform both train and test numerical data\n",
    "features_train_scaled = scaler_model.fit_transform(features_train[num_columns])\n",
    "features_test_scaled = scaler_model.transform(features_test[num_columns])\n",
    "\n",
    "# Convert the scaled data back to DataFrame for consistency\n",
    "features_train_scaled = pd.DataFrame(features_train_scaled, columns=num_columns)\n",
    "features_test_scaled = pd.DataFrame(features_test_scaled, columns=num_columns)\n",
    "\n",
    "# Combine scaled numerical features with categorical features\n",
    "train_set_final = pd.concat([features_train_scaled, features_train[cat_columns].reset_index(drop=True)], axis=1)\n",
    "test_set_final = pd.concat([features_test_scaled, features_test[cat_columns].reset_index(drop=True)], axis=1)\n",
    "\n",
    "# Display the shapes of the final datasets\n",
    "print(f\"Final Features_train shape: {train_set_final.shape}\")\n",
    "print(f\"Final Features_test shape: {test_set_final.shape}\")"
   ]
  },
  {
   "cell_type": "markdown",
   "id": "0da8ecc3-0b4f-4131-8ffd-e9f9fedd7abe",
   "metadata": {},
   "source": [
    "## Question 2: KNN Classifier and Cross-validation process\n",
    "\n",
    "Just like we did in class, we are going to train a K-Nearest-Neighbor Classifier\n",
    "\n",
    "Because we have only created a \"test\" and \"train\" split, we will be using cross-validation on the training data for all of our experiementation.\n",
    "\n",
    "Let's go through how to get this set up:\n",
    "\n",
    "We are going to use the [`cross_validate`](https://scikit-learn.org/stable/modules/generated/sklearn.model_selection.cross_validate.html) method from scikit-learn.\n",
    "\n",
    "We also want to generate multiple scores:\n",
    "\n",
    "* precision\n",
    "* recall\n",
    "* f1_score\n",
    "* AUROC\n",
    "\n",
    "Each of these have a function in sklern.metrics\n",
    "\n",
    "To piece them together, we will use:\n",
    "\n",
    "[`make_scorer`](https://scikit-learn.org/stable/modules/generated/sklearn.metrics.make_scorer.html)\n",
    "\n",
    "Here are the basic steps:\n",
    "\n",
    "1. Import KNeighborsClassifier, cross_validate, make_scorer, and each of the metrics.\n",
    "2. Create a dictionary called `scoring` where each key is the name of a metric and each value is the output of a `make_scorer` call:\n",
    "    * e.g., `scoring = {'metric_name': make_scorer(score_function, average='binary'}`\n",
    "3. Instantiate the model. Use `n_neighbors=1 and weights='distance'` You can optionally use `n_jobs` to speed performance\n",
    "4. Call `cross_validate` with the model, the training data/target, and scoring dictionary. Use 5-folds\n",
    "5. Print out all results"
   ]
  },
  {
   "cell_type": "code",
   "execution_count": 80,
   "id": "6f98121c-b258-427c-9034-c1ae202e0ad1",
   "metadata": {},
   "outputs": [
    {
     "name": "stdout",
     "output_type": "stream",
     "text": [
      "Cross-validation results:\n",
      "Precision: Mean = 0.2692, Std = 0.0088\n",
      "Recall: Mean = 0.2686, Std = 0.0125\n",
      "F1: Mean = 0.2689, Std = 0.0105\n",
      "Roc_auc: Mean = 0.5379, Std = 0.0061\n"
     ]
    }
   ],
   "source": [
    "# One-Hot Encode categorical variables in the training and test datasets\n",
    "cat_columns = train_set_final.select_dtypes(include=['object']).columns\n",
    "train_encoded = pd.get_dummies(train_set_final, columns=cat_columns, drop_first=True)\n",
    "test_encoded = pd.get_dummies(test_set_final, columns=cat_columns, drop_first=True)\n",
    "\n",
    "# Align the train and test dataframes\n",
    "train_encoded, test_encoded = train_encoded.align(test_encoded, join='left', axis=1, fill_value=0)\n",
    "\n",
    "from sklearn.neighbors import KNeighborsClassifier\n",
    "from sklearn.model_selection import cross_validate\n",
    "from sklearn.metrics import make_scorer, precision_score, recall_score, f1_score, roc_auc_score\n",
    "\n",
    "# Create a custom scorer for ROC AUC\n",
    "def custom_auc_roc(true_labels, predicted_scores):\n",
    "    return roc_auc_score(true_labels, predicted_scores)\n",
    "\n",
    "# Define the scoring dictionary\n",
    "scoring_metrics = {\n",
    "    'precision': make_scorer(precision_score, average='binary', response_method='predict'),\n",
    "    'recall': make_scorer(recall_score, average='binary', response_method='predict'),\n",
    "    'f1': make_scorer(f1_score, average='binary', response_method='predict'),\n",
    "    'roc_auc': make_scorer(custom_auc_roc)  \n",
    "}\n",
    "\n",
    "# Instantiate the KNN model with distance-based weighting\n",
    "knn_model = KNeighborsClassifier(n_neighbors=1, weights='distance', n_jobs=-1)\n",
    "\n",
    "# Perform cross-validation using the encoded features and target values\n",
    "cv_result = cross_validate(knn_model, train_encoded, target_train, scoring=scoring_metrics, cv=5, return_train_score=False)\n",
    "\n",
    "# Print the results\n",
    "print(\"Cross-validation results:\")\n",
    "for metric_name in scoring_metrics.keys():\n",
    "    print(f\"{metric_name.capitalize()}: Mean = {cv_result[f'test_{metric_name}'].mean():.4f}, \"\n",
    "          f\"Std = {cv_result[f'test_{metric_name}'].std():.4f}\")\n"
   ]
  },
  {
   "cell_type": "markdown",
   "id": "ef2157f1-517d-498d-b4cf-3504b80b838e",
   "metadata": {},
   "source": [
    "## Question 3\n",
    "\n",
    "OK. If your results are like mine, these are still some unimpressive results, with an auroc barely above the \"random guessing\" value of 0.5.  This is a tough prediction task with the data we have, but maybe we can eek out a little more performance.  Next week, we will have a few more tools (modeling) techniques in our toolbox that may be better suited to this problem.\n",
    "\n",
    "First, we know k-nearest neighbor can be sensitive to noisy features and that the curse of dimensionality may also make having too many features problematic. Let's try some feature selection!\n",
    "\n",
    "Let's use two additional scikit-learn components:\n",
    "\n",
    "[`f_classif`](https://scikit-learn.org/1.5/modules/generated/sklearn.feature_selection.f_classif.html)\n",
    "and\n",
    "[`SelectKBest`](https://scikit-learn.org/dev/modules/generated/sklearn.feature_selection.SelectKBest.html)\n",
    "\n",
    "The f-test comes from regression, but is one way to get some measure of feature importance.\n",
    "\n",
    "**Question 3a** Using those two functions, choose the top 5 features and see if the results improve.\n",
    "\n",
    "**Question 3b** What are the most predictive features? Do they make intuitive sense? \n"
   ]
  },
  {
   "cell_type": "code",
   "execution_count": 82,
   "id": "8cd573fa-f217-40ae-a9c9-46fe6100d44c",
   "metadata": {},
   "outputs": [
    {
     "name": "stdout",
     "output_type": "stream",
     "text": [
      "Top 5 Selected Features:\n",
      "Index(['feature_AIRLINE_CODE_1d_delays', 'feature_AIRLINE_CODE_1d_avg_delays',\n",
      "       'feature_AIRLINE_CODE_7d_avg_delays',\n",
      "       'feature_AIRLINE_CODE_30d_avg_delays',\n",
      "       'feature_AIRLINE_CODE_365d_avg_delays'],\n",
      "      dtype='object')\n"
     ]
    }
   ],
   "source": [
    "# Question 3a:\n",
    "\n",
    "from sklearn.feature_selection import SelectKBest, f_classif\n",
    "\n",
    "# Select the top 5 features using the f-test\n",
    "feature_selector = SelectKBest(score_func=f_classif, k=5)\n",
    "train_selected_features = feature_selector.fit_transform(train_encoded, target_train)\n",
    "test_selected_features = feature_selector.transform(test_encoded)\n",
    "\n",
    "# Get the mask of selected features\n",
    "selected_mask = feature_selector.get_support()\n",
    "selected_feature_names = train_encoded.columns[selected_mask]\n",
    "\n",
    "print(\"Top 5 Selected Features:\")\n",
    "print(selected_feature_names)"
   ]
  },
  {
   "cell_type": "code",
   "execution_count": 83,
   "id": "cab187d6-5c2c-4aac-bb52-f630ca8132e5",
   "metadata": {},
   "outputs": [
    {
     "name": "stdout",
     "output_type": "stream",
     "text": [
      "Cross-validation results with selected features:\n",
      "Precision: Mean = 0.2876, Std = 0.0086\n",
      "Recall: Mean = 0.2843, Std = 0.0103\n",
      "F1: Mean = 0.2859, Std = 0.0091\n",
      "Roc_auc: Mean = 0.5491, Std = 0.0055\n"
     ]
    }
   ],
   "source": [
    "# Question 3b:\n",
    "\n",
    "# Fit a KNN model on the selected features\n",
    "knn_model_selected = KNeighborsClassifier(n_neighbors=1, weights='distance', n_jobs=-1)\n",
    "\n",
    "# Perform cross-validation on the selected features\n",
    "cv_results_selected_features = cross_validate(knn_model_selected, train_selected_features, target_train, scoring=scoring_metrics, cv=5, return_train_score=False)\n",
    "\n",
    "# Print the results for selected features\n",
    "print(\"Cross-validation results with selected features:\")\n",
    "for metric_name in scoring_metrics.keys():\n",
    "    print(f\"{metric_name.capitalize()}: Mean = {cv_results_selected_features[f'test_{metric_name}'].mean():.4f}, \"\n",
    "          f\"Std = {cv_results_selected_features[f'test_{metric_name}'].std():.4f}\")"
   ]
  },
  {
   "cell_type": "markdown",
   "id": "fc82987c-3a45-4c56-bcb9-f6e635ec58d9",
   "metadata": {},
   "source": [
    "# Analysis\n",
    "\n",
    "The selected features offer key insights into an airline’s performance in relation to flight delays across various timeframes. Features such as 1-day delays and 1-day average delays provide an understanding of immediate operational issues, reflecting short-term disruptions in the airline’s performance. In contrast, the 7-day average delays indicate emerging short-term trends, capturing how performance evolves over a slightly longer period. Additionally, the 30-day and 365-day average delays highlight patterns in the airline's performance over longer timeframes, offering a view of sustained issues and historical trends.\n",
    "\n",
    "Together, these features suggest that both recent and historical delay data are critical for predicting future delays. The combination of short-term indicators and longer-term averages captures both immediate operational challenges and the broader, sustained patterns that may be influencing the airline's overall performance. This makes them particularly valuable in understanding and forecasting potential delays in the future."
   ]
  },
  {
   "cell_type": "markdown",
   "id": "71185b92-d3e4-4c74-bc65-d7974cdd01a4",
   "metadata": {},
   "source": [
    "## Question 4: Grid Search\n",
    "\n",
    "OK, we have gotten perhaps marginally better results. Still not impressive!\n",
    "\n",
    "Let's get a bit more systematic!\n",
    "\n",
    "We will do another grid search in order to do the best we can (for now!)\n",
    "\n",
    "Please loop over the following points in a grid:\n",
    "\n",
    "* n_neighbors: from 1 to 10\n",
    "* weights: 'uniform' and 'distance'\n",
    "* number of top features: from 1 to 10\n",
    "\n",
    "Create a dataframe of all your results with the choice of parameters, mean values of precision, recall, f1, and auroc. Sort the table from best to worst, according to auroc.\n",
    "\n",
    "This may take a while to run! You may want to print out what grid combo it is on.\n"
   ]
  },
  {
   "cell_type": "code",
   "execution_count": 86,
   "id": "2ca3fa0f-fd02-4fef-b200-787278d4ed1f",
   "metadata": {
    "scrolled": true
   },
   "outputs": [
    {
     "name": "stderr",
     "output_type": "stream",
     "text": [
      "/opt/anaconda3/lib/python3.12/site-packages/sklearn/metrics/_scorer.py:548: FutureWarning: The `needs_threshold` and `needs_proba` parameter are deprecated in version 1.4 and will be removed in 1.6. You can either let `response_method` be `None` or set it to `predict` to preserve the same behaviour.\n",
      "  warnings.warn(\n"
     ]
    },
    {
     "name": "stdout",
     "output_type": "stream",
     "text": [
      "Evaluating: n_neighbors=1, weights=uniform, k_best=1\n",
      "Evaluating: n_neighbors=1, weights=uniform, k_best=2\n",
      "Evaluating: n_neighbors=1, weights=uniform, k_best=3\n",
      "Evaluating: n_neighbors=1, weights=uniform, k_best=4\n",
      "Evaluating: n_neighbors=1, weights=uniform, k_best=5\n"
     ]
    },
    {
     "name": "stderr",
     "output_type": "stream",
     "text": [
      "/opt/anaconda3/lib/python3.12/site-packages/sklearn/feature_selection/_univariate_selection.py:776: UserWarning: k=6 is greater than n_features=5. All the features will be returned.\n",
      "  warnings.warn(\n"
     ]
    },
    {
     "name": "stdout",
     "output_type": "stream",
     "text": [
      "Evaluating: n_neighbors=1, weights=uniform, k_best=6\n"
     ]
    },
    {
     "name": "stderr",
     "output_type": "stream",
     "text": [
      "/opt/anaconda3/lib/python3.12/site-packages/sklearn/feature_selection/_univariate_selection.py:776: UserWarning: k=7 is greater than n_features=5. All the features will be returned.\n",
      "  warnings.warn(\n"
     ]
    },
    {
     "name": "stdout",
     "output_type": "stream",
     "text": [
      "Evaluating: n_neighbors=1, weights=uniform, k_best=7\n"
     ]
    },
    {
     "name": "stderr",
     "output_type": "stream",
     "text": [
      "/opt/anaconda3/lib/python3.12/site-packages/sklearn/feature_selection/_univariate_selection.py:776: UserWarning: k=8 is greater than n_features=5. All the features will be returned.\n",
      "  warnings.warn(\n"
     ]
    },
    {
     "name": "stdout",
     "output_type": "stream",
     "text": [
      "Evaluating: n_neighbors=1, weights=uniform, k_best=8\n"
     ]
    },
    {
     "name": "stderr",
     "output_type": "stream",
     "text": [
      "/opt/anaconda3/lib/python3.12/site-packages/sklearn/feature_selection/_univariate_selection.py:776: UserWarning: k=9 is greater than n_features=5. All the features will be returned.\n",
      "  warnings.warn(\n"
     ]
    },
    {
     "name": "stdout",
     "output_type": "stream",
     "text": [
      "Evaluating: n_neighbors=1, weights=uniform, k_best=9\n"
     ]
    },
    {
     "name": "stderr",
     "output_type": "stream",
     "text": [
      "/opt/anaconda3/lib/python3.12/site-packages/sklearn/feature_selection/_univariate_selection.py:776: UserWarning: k=10 is greater than n_features=5. All the features will be returned.\n",
      "  warnings.warn(\n"
     ]
    },
    {
     "name": "stdout",
     "output_type": "stream",
     "text": [
      "Evaluating: n_neighbors=1, weights=uniform, k_best=10\n",
      "Evaluating: n_neighbors=1, weights=distance, k_best=1\n",
      "Evaluating: n_neighbors=1, weights=distance, k_best=2\n",
      "Evaluating: n_neighbors=1, weights=distance, k_best=3\n",
      "Evaluating: n_neighbors=1, weights=distance, k_best=4\n",
      "Evaluating: n_neighbors=1, weights=distance, k_best=5\n"
     ]
    },
    {
     "name": "stderr",
     "output_type": "stream",
     "text": [
      "/opt/anaconda3/lib/python3.12/site-packages/sklearn/feature_selection/_univariate_selection.py:776: UserWarning: k=6 is greater than n_features=5. All the features will be returned.\n",
      "  warnings.warn(\n",
      "/opt/anaconda3/lib/python3.12/site-packages/sklearn/feature_selection/_univariate_selection.py:776: UserWarning: k=7 is greater than n_features=5. All the features will be returned.\n",
      "  warnings.warn(\n"
     ]
    },
    {
     "name": "stdout",
     "output_type": "stream",
     "text": [
      "Evaluating: n_neighbors=1, weights=distance, k_best=6\n",
      "Evaluating: n_neighbors=1, weights=distance, k_best=7\n"
     ]
    },
    {
     "name": "stderr",
     "output_type": "stream",
     "text": [
      "/opt/anaconda3/lib/python3.12/site-packages/sklearn/feature_selection/_univariate_selection.py:776: UserWarning: k=8 is greater than n_features=5. All the features will be returned.\n",
      "  warnings.warn(\n",
      "/opt/anaconda3/lib/python3.12/site-packages/sklearn/feature_selection/_univariate_selection.py:776: UserWarning: k=9 is greater than n_features=5. All the features will be returned.\n",
      "  warnings.warn(\n"
     ]
    },
    {
     "name": "stdout",
     "output_type": "stream",
     "text": [
      "Evaluating: n_neighbors=1, weights=distance, k_best=8\n",
      "Evaluating: n_neighbors=1, weights=distance, k_best=9\n"
     ]
    },
    {
     "name": "stderr",
     "output_type": "stream",
     "text": [
      "/opt/anaconda3/lib/python3.12/site-packages/sklearn/feature_selection/_univariate_selection.py:776: UserWarning: k=10 is greater than n_features=5. All the features will be returned.\n",
      "  warnings.warn(\n"
     ]
    },
    {
     "name": "stdout",
     "output_type": "stream",
     "text": [
      "Evaluating: n_neighbors=1, weights=distance, k_best=10\n",
      "Evaluating: n_neighbors=2, weights=uniform, k_best=1\n",
      "Evaluating: n_neighbors=2, weights=uniform, k_best=2\n",
      "Evaluating: n_neighbors=2, weights=uniform, k_best=3\n",
      "Evaluating: n_neighbors=2, weights=uniform, k_best=4\n",
      "Evaluating: n_neighbors=2, weights=uniform, k_best=5\n"
     ]
    },
    {
     "name": "stderr",
     "output_type": "stream",
     "text": [
      "/opt/anaconda3/lib/python3.12/site-packages/sklearn/feature_selection/_univariate_selection.py:776: UserWarning: k=6 is greater than n_features=5. All the features will be returned.\n",
      "  warnings.warn(\n"
     ]
    },
    {
     "name": "stdout",
     "output_type": "stream",
     "text": [
      "Evaluating: n_neighbors=2, weights=uniform, k_best=6\n"
     ]
    },
    {
     "name": "stderr",
     "output_type": "stream",
     "text": [
      "/opt/anaconda3/lib/python3.12/site-packages/sklearn/feature_selection/_univariate_selection.py:776: UserWarning: k=7 is greater than n_features=5. All the features will be returned.\n",
      "  warnings.warn(\n"
     ]
    },
    {
     "name": "stdout",
     "output_type": "stream",
     "text": [
      "Evaluating: n_neighbors=2, weights=uniform, k_best=7\n"
     ]
    },
    {
     "name": "stderr",
     "output_type": "stream",
     "text": [
      "/opt/anaconda3/lib/python3.12/site-packages/sklearn/feature_selection/_univariate_selection.py:776: UserWarning: k=8 is greater than n_features=5. All the features will be returned.\n",
      "  warnings.warn(\n"
     ]
    },
    {
     "name": "stdout",
     "output_type": "stream",
     "text": [
      "Evaluating: n_neighbors=2, weights=uniform, k_best=8\n"
     ]
    },
    {
     "name": "stderr",
     "output_type": "stream",
     "text": [
      "/opt/anaconda3/lib/python3.12/site-packages/sklearn/feature_selection/_univariate_selection.py:776: UserWarning: k=9 is greater than n_features=5. All the features will be returned.\n",
      "  warnings.warn(\n"
     ]
    },
    {
     "name": "stdout",
     "output_type": "stream",
     "text": [
      "Evaluating: n_neighbors=2, weights=uniform, k_best=9\n"
     ]
    },
    {
     "name": "stderr",
     "output_type": "stream",
     "text": [
      "/opt/anaconda3/lib/python3.12/site-packages/sklearn/feature_selection/_univariate_selection.py:776: UserWarning: k=10 is greater than n_features=5. All the features will be returned.\n",
      "  warnings.warn(\n"
     ]
    },
    {
     "name": "stdout",
     "output_type": "stream",
     "text": [
      "Evaluating: n_neighbors=2, weights=uniform, k_best=10\n",
      "Evaluating: n_neighbors=2, weights=distance, k_best=1\n",
      "Evaluating: n_neighbors=2, weights=distance, k_best=2\n",
      "Evaluating: n_neighbors=2, weights=distance, k_best=3\n",
      "Evaluating: n_neighbors=2, weights=distance, k_best=4\n",
      "Evaluating: n_neighbors=2, weights=distance, k_best=5\n"
     ]
    },
    {
     "name": "stderr",
     "output_type": "stream",
     "text": [
      "/opt/anaconda3/lib/python3.12/site-packages/sklearn/feature_selection/_univariate_selection.py:776: UserWarning: k=6 is greater than n_features=5. All the features will be returned.\n",
      "  warnings.warn(\n",
      "/opt/anaconda3/lib/python3.12/site-packages/sklearn/feature_selection/_univariate_selection.py:776: UserWarning: k=7 is greater than n_features=5. All the features will be returned.\n",
      "  warnings.warn(\n"
     ]
    },
    {
     "name": "stdout",
     "output_type": "stream",
     "text": [
      "Evaluating: n_neighbors=2, weights=distance, k_best=6\n",
      "Evaluating: n_neighbors=2, weights=distance, k_best=7\n"
     ]
    },
    {
     "name": "stderr",
     "output_type": "stream",
     "text": [
      "/opt/anaconda3/lib/python3.12/site-packages/sklearn/feature_selection/_univariate_selection.py:776: UserWarning: k=8 is greater than n_features=5. All the features will be returned.\n",
      "  warnings.warn(\n",
      "/opt/anaconda3/lib/python3.12/site-packages/sklearn/feature_selection/_univariate_selection.py:776: UserWarning: k=9 is greater than n_features=5. All the features will be returned.\n",
      "  warnings.warn(\n"
     ]
    },
    {
     "name": "stdout",
     "output_type": "stream",
     "text": [
      "Evaluating: n_neighbors=2, weights=distance, k_best=8\n",
      "Evaluating: n_neighbors=2, weights=distance, k_best=9\n"
     ]
    },
    {
     "name": "stderr",
     "output_type": "stream",
     "text": [
      "/opt/anaconda3/lib/python3.12/site-packages/sklearn/feature_selection/_univariate_selection.py:776: UserWarning: k=10 is greater than n_features=5. All the features will be returned.\n",
      "  warnings.warn(\n"
     ]
    },
    {
     "name": "stdout",
     "output_type": "stream",
     "text": [
      "Evaluating: n_neighbors=2, weights=distance, k_best=10\n",
      "Evaluating: n_neighbors=3, weights=uniform, k_best=1\n",
      "Evaluating: n_neighbors=3, weights=uniform, k_best=2\n",
      "Evaluating: n_neighbors=3, weights=uniform, k_best=3\n",
      "Evaluating: n_neighbors=3, weights=uniform, k_best=4\n",
      "Evaluating: n_neighbors=3, weights=uniform, k_best=5\n"
     ]
    },
    {
     "name": "stderr",
     "output_type": "stream",
     "text": [
      "/opt/anaconda3/lib/python3.12/site-packages/sklearn/feature_selection/_univariate_selection.py:776: UserWarning: k=6 is greater than n_features=5. All the features will be returned.\n",
      "  warnings.warn(\n"
     ]
    },
    {
     "name": "stdout",
     "output_type": "stream",
     "text": [
      "Evaluating: n_neighbors=3, weights=uniform, k_best=6\n"
     ]
    },
    {
     "name": "stderr",
     "output_type": "stream",
     "text": [
      "/opt/anaconda3/lib/python3.12/site-packages/sklearn/feature_selection/_univariate_selection.py:776: UserWarning: k=7 is greater than n_features=5. All the features will be returned.\n",
      "  warnings.warn(\n"
     ]
    },
    {
     "name": "stdout",
     "output_type": "stream",
     "text": [
      "Evaluating: n_neighbors=3, weights=uniform, k_best=7\n"
     ]
    },
    {
     "name": "stderr",
     "output_type": "stream",
     "text": [
      "/opt/anaconda3/lib/python3.12/site-packages/sklearn/feature_selection/_univariate_selection.py:776: UserWarning: k=8 is greater than n_features=5. All the features will be returned.\n",
      "  warnings.warn(\n"
     ]
    },
    {
     "name": "stdout",
     "output_type": "stream",
     "text": [
      "Evaluating: n_neighbors=3, weights=uniform, k_best=8\n"
     ]
    },
    {
     "name": "stderr",
     "output_type": "stream",
     "text": [
      "/opt/anaconda3/lib/python3.12/site-packages/sklearn/feature_selection/_univariate_selection.py:776: UserWarning: k=9 is greater than n_features=5. All the features will be returned.\n",
      "  warnings.warn(\n"
     ]
    },
    {
     "name": "stdout",
     "output_type": "stream",
     "text": [
      "Evaluating: n_neighbors=3, weights=uniform, k_best=9\n"
     ]
    },
    {
     "name": "stderr",
     "output_type": "stream",
     "text": [
      "/opt/anaconda3/lib/python3.12/site-packages/sklearn/feature_selection/_univariate_selection.py:776: UserWarning: k=10 is greater than n_features=5. All the features will be returned.\n",
      "  warnings.warn(\n"
     ]
    },
    {
     "name": "stdout",
     "output_type": "stream",
     "text": [
      "Evaluating: n_neighbors=3, weights=uniform, k_best=10\n",
      "Evaluating: n_neighbors=3, weights=distance, k_best=1\n",
      "Evaluating: n_neighbors=3, weights=distance, k_best=2\n",
      "Evaluating: n_neighbors=3, weights=distance, k_best=3\n",
      "Evaluating: n_neighbors=3, weights=distance, k_best=4\n",
      "Evaluating: n_neighbors=3, weights=distance, k_best=5\n"
     ]
    },
    {
     "name": "stderr",
     "output_type": "stream",
     "text": [
      "/opt/anaconda3/lib/python3.12/site-packages/sklearn/feature_selection/_univariate_selection.py:776: UserWarning: k=6 is greater than n_features=5. All the features will be returned.\n",
      "  warnings.warn(\n",
      "/opt/anaconda3/lib/python3.12/site-packages/sklearn/feature_selection/_univariate_selection.py:776: UserWarning: k=7 is greater than n_features=5. All the features will be returned.\n",
      "  warnings.warn(\n"
     ]
    },
    {
     "name": "stdout",
     "output_type": "stream",
     "text": [
      "Evaluating: n_neighbors=3, weights=distance, k_best=6\n",
      "Evaluating: n_neighbors=3, weights=distance, k_best=7\n"
     ]
    },
    {
     "name": "stderr",
     "output_type": "stream",
     "text": [
      "/opt/anaconda3/lib/python3.12/site-packages/sklearn/feature_selection/_univariate_selection.py:776: UserWarning: k=8 is greater than n_features=5. All the features will be returned.\n",
      "  warnings.warn(\n",
      "/opt/anaconda3/lib/python3.12/site-packages/sklearn/feature_selection/_univariate_selection.py:776: UserWarning: k=9 is greater than n_features=5. All the features will be returned.\n",
      "  warnings.warn(\n"
     ]
    },
    {
     "name": "stdout",
     "output_type": "stream",
     "text": [
      "Evaluating: n_neighbors=3, weights=distance, k_best=8\n",
      "Evaluating: n_neighbors=3, weights=distance, k_best=9\n"
     ]
    },
    {
     "name": "stderr",
     "output_type": "stream",
     "text": [
      "/opt/anaconda3/lib/python3.12/site-packages/sklearn/feature_selection/_univariate_selection.py:776: UserWarning: k=10 is greater than n_features=5. All the features will be returned.\n",
      "  warnings.warn(\n"
     ]
    },
    {
     "name": "stdout",
     "output_type": "stream",
     "text": [
      "Evaluating: n_neighbors=3, weights=distance, k_best=10\n",
      "Evaluating: n_neighbors=4, weights=uniform, k_best=1\n",
      "Evaluating: n_neighbors=4, weights=uniform, k_best=2\n",
      "Evaluating: n_neighbors=4, weights=uniform, k_best=3\n",
      "Evaluating: n_neighbors=4, weights=uniform, k_best=4\n",
      "Evaluating: n_neighbors=4, weights=uniform, k_best=5\n"
     ]
    },
    {
     "name": "stderr",
     "output_type": "stream",
     "text": [
      "/opt/anaconda3/lib/python3.12/site-packages/sklearn/feature_selection/_univariate_selection.py:776: UserWarning: k=6 is greater than n_features=5. All the features will be returned.\n",
      "  warnings.warn(\n"
     ]
    },
    {
     "name": "stdout",
     "output_type": "stream",
     "text": [
      "Evaluating: n_neighbors=4, weights=uniform, k_best=6\n"
     ]
    },
    {
     "name": "stderr",
     "output_type": "stream",
     "text": [
      "/opt/anaconda3/lib/python3.12/site-packages/sklearn/feature_selection/_univariate_selection.py:776: UserWarning: k=7 is greater than n_features=5. All the features will be returned.\n",
      "  warnings.warn(\n"
     ]
    },
    {
     "name": "stdout",
     "output_type": "stream",
     "text": [
      "Evaluating: n_neighbors=4, weights=uniform, k_best=7\n"
     ]
    },
    {
     "name": "stderr",
     "output_type": "stream",
     "text": [
      "/opt/anaconda3/lib/python3.12/site-packages/sklearn/feature_selection/_univariate_selection.py:776: UserWarning: k=8 is greater than n_features=5. All the features will be returned.\n",
      "  warnings.warn(\n"
     ]
    },
    {
     "name": "stdout",
     "output_type": "stream",
     "text": [
      "Evaluating: n_neighbors=4, weights=uniform, k_best=8\n"
     ]
    },
    {
     "name": "stderr",
     "output_type": "stream",
     "text": [
      "/opt/anaconda3/lib/python3.12/site-packages/sklearn/feature_selection/_univariate_selection.py:776: UserWarning: k=9 is greater than n_features=5. All the features will be returned.\n",
      "  warnings.warn(\n"
     ]
    },
    {
     "name": "stdout",
     "output_type": "stream",
     "text": [
      "Evaluating: n_neighbors=4, weights=uniform, k_best=9\n"
     ]
    },
    {
     "name": "stderr",
     "output_type": "stream",
     "text": [
      "/opt/anaconda3/lib/python3.12/site-packages/sklearn/feature_selection/_univariate_selection.py:776: UserWarning: k=10 is greater than n_features=5. All the features will be returned.\n",
      "  warnings.warn(\n"
     ]
    },
    {
     "name": "stdout",
     "output_type": "stream",
     "text": [
      "Evaluating: n_neighbors=4, weights=uniform, k_best=10\n",
      "Evaluating: n_neighbors=4, weights=distance, k_best=1\n",
      "Evaluating: n_neighbors=4, weights=distance, k_best=2\n",
      "Evaluating: n_neighbors=4, weights=distance, k_best=3\n",
      "Evaluating: n_neighbors=4, weights=distance, k_best=4\n",
      "Evaluating: n_neighbors=4, weights=distance, k_best=5\n"
     ]
    },
    {
     "name": "stderr",
     "output_type": "stream",
     "text": [
      "/opt/anaconda3/lib/python3.12/site-packages/sklearn/feature_selection/_univariate_selection.py:776: UserWarning: k=6 is greater than n_features=5. All the features will be returned.\n",
      "  warnings.warn(\n",
      "/opt/anaconda3/lib/python3.12/site-packages/sklearn/feature_selection/_univariate_selection.py:776: UserWarning: k=7 is greater than n_features=5. All the features will be returned.\n",
      "  warnings.warn(\n"
     ]
    },
    {
     "name": "stdout",
     "output_type": "stream",
     "text": [
      "Evaluating: n_neighbors=4, weights=distance, k_best=6\n",
      "Evaluating: n_neighbors=4, weights=distance, k_best=7\n"
     ]
    },
    {
     "name": "stderr",
     "output_type": "stream",
     "text": [
      "/opt/anaconda3/lib/python3.12/site-packages/sklearn/feature_selection/_univariate_selection.py:776: UserWarning: k=8 is greater than n_features=5. All the features will be returned.\n",
      "  warnings.warn(\n",
      "/opt/anaconda3/lib/python3.12/site-packages/sklearn/feature_selection/_univariate_selection.py:776: UserWarning: k=9 is greater than n_features=5. All the features will be returned.\n",
      "  warnings.warn(\n"
     ]
    },
    {
     "name": "stdout",
     "output_type": "stream",
     "text": [
      "Evaluating: n_neighbors=4, weights=distance, k_best=8\n",
      "Evaluating: n_neighbors=4, weights=distance, k_best=9\n"
     ]
    },
    {
     "name": "stderr",
     "output_type": "stream",
     "text": [
      "/opt/anaconda3/lib/python3.12/site-packages/sklearn/feature_selection/_univariate_selection.py:776: UserWarning: k=10 is greater than n_features=5. All the features will be returned.\n",
      "  warnings.warn(\n"
     ]
    },
    {
     "name": "stdout",
     "output_type": "stream",
     "text": [
      "Evaluating: n_neighbors=4, weights=distance, k_best=10\n",
      "Evaluating: n_neighbors=5, weights=uniform, k_best=1\n",
      "Evaluating: n_neighbors=5, weights=uniform, k_best=2\n",
      "Evaluating: n_neighbors=5, weights=uniform, k_best=3\n",
      "Evaluating: n_neighbors=5, weights=uniform, k_best=4\n",
      "Evaluating: n_neighbors=5, weights=uniform, k_best=5\n"
     ]
    },
    {
     "name": "stderr",
     "output_type": "stream",
     "text": [
      "/opt/anaconda3/lib/python3.12/site-packages/sklearn/feature_selection/_univariate_selection.py:776: UserWarning: k=6 is greater than n_features=5. All the features will be returned.\n",
      "  warnings.warn(\n"
     ]
    },
    {
     "name": "stdout",
     "output_type": "stream",
     "text": [
      "Evaluating: n_neighbors=5, weights=uniform, k_best=6\n"
     ]
    },
    {
     "name": "stderr",
     "output_type": "stream",
     "text": [
      "/opt/anaconda3/lib/python3.12/site-packages/sklearn/feature_selection/_univariate_selection.py:776: UserWarning: k=7 is greater than n_features=5. All the features will be returned.\n",
      "  warnings.warn(\n"
     ]
    },
    {
     "name": "stdout",
     "output_type": "stream",
     "text": [
      "Evaluating: n_neighbors=5, weights=uniform, k_best=7\n"
     ]
    },
    {
     "name": "stderr",
     "output_type": "stream",
     "text": [
      "/opt/anaconda3/lib/python3.12/site-packages/sklearn/feature_selection/_univariate_selection.py:776: UserWarning: k=8 is greater than n_features=5. All the features will be returned.\n",
      "  warnings.warn(\n"
     ]
    },
    {
     "name": "stdout",
     "output_type": "stream",
     "text": [
      "Evaluating: n_neighbors=5, weights=uniform, k_best=8\n"
     ]
    },
    {
     "name": "stderr",
     "output_type": "stream",
     "text": [
      "/opt/anaconda3/lib/python3.12/site-packages/sklearn/feature_selection/_univariate_selection.py:776: UserWarning: k=9 is greater than n_features=5. All the features will be returned.\n",
      "  warnings.warn(\n"
     ]
    },
    {
     "name": "stdout",
     "output_type": "stream",
     "text": [
      "Evaluating: n_neighbors=5, weights=uniform, k_best=9\n"
     ]
    },
    {
     "name": "stderr",
     "output_type": "stream",
     "text": [
      "/opt/anaconda3/lib/python3.12/site-packages/sklearn/feature_selection/_univariate_selection.py:776: UserWarning: k=10 is greater than n_features=5. All the features will be returned.\n",
      "  warnings.warn(\n"
     ]
    },
    {
     "name": "stdout",
     "output_type": "stream",
     "text": [
      "Evaluating: n_neighbors=5, weights=uniform, k_best=10\n",
      "Evaluating: n_neighbors=5, weights=distance, k_best=1\n",
      "Evaluating: n_neighbors=5, weights=distance, k_best=2\n",
      "Evaluating: n_neighbors=5, weights=distance, k_best=3\n",
      "Evaluating: n_neighbors=5, weights=distance, k_best=4\n",
      "Evaluating: n_neighbors=5, weights=distance, k_best=5\n"
     ]
    },
    {
     "name": "stderr",
     "output_type": "stream",
     "text": [
      "/opt/anaconda3/lib/python3.12/site-packages/sklearn/feature_selection/_univariate_selection.py:776: UserWarning: k=6 is greater than n_features=5. All the features will be returned.\n",
      "  warnings.warn(\n"
     ]
    },
    {
     "name": "stdout",
     "output_type": "stream",
     "text": [
      "Evaluating: n_neighbors=5, weights=distance, k_best=6\n"
     ]
    },
    {
     "name": "stderr",
     "output_type": "stream",
     "text": [
      "/opt/anaconda3/lib/python3.12/site-packages/sklearn/feature_selection/_univariate_selection.py:776: UserWarning: k=7 is greater than n_features=5. All the features will be returned.\n",
      "  warnings.warn(\n"
     ]
    },
    {
     "name": "stdout",
     "output_type": "stream",
     "text": [
      "Evaluating: n_neighbors=5, weights=distance, k_best=7\n",
      "Evaluating: n_neighbors=5, weights=distance, k_best=8\n"
     ]
    },
    {
     "name": "stderr",
     "output_type": "stream",
     "text": [
      "/opt/anaconda3/lib/python3.12/site-packages/sklearn/feature_selection/_univariate_selection.py:776: UserWarning: k=8 is greater than n_features=5. All the features will be returned.\n",
      "  warnings.warn(\n",
      "/opt/anaconda3/lib/python3.12/site-packages/sklearn/feature_selection/_univariate_selection.py:776: UserWarning: k=9 is greater than n_features=5. All the features will be returned.\n",
      "  warnings.warn(\n"
     ]
    },
    {
     "name": "stdout",
     "output_type": "stream",
     "text": [
      "Evaluating: n_neighbors=5, weights=distance, k_best=9\n"
     ]
    },
    {
     "name": "stderr",
     "output_type": "stream",
     "text": [
      "/opt/anaconda3/lib/python3.12/site-packages/sklearn/feature_selection/_univariate_selection.py:776: UserWarning: k=10 is greater than n_features=5. All the features will be returned.\n",
      "  warnings.warn(\n"
     ]
    },
    {
     "name": "stdout",
     "output_type": "stream",
     "text": [
      "Evaluating: n_neighbors=5, weights=distance, k_best=10\n",
      "Evaluating: n_neighbors=6, weights=uniform, k_best=1\n",
      "Evaluating: n_neighbors=6, weights=uniform, k_best=2\n",
      "Evaluating: n_neighbors=6, weights=uniform, k_best=3\n",
      "Evaluating: n_neighbors=6, weights=uniform, k_best=4\n",
      "Evaluating: n_neighbors=6, weights=uniform, k_best=5\n"
     ]
    },
    {
     "name": "stderr",
     "output_type": "stream",
     "text": [
      "/opt/anaconda3/lib/python3.12/site-packages/sklearn/feature_selection/_univariate_selection.py:776: UserWarning: k=6 is greater than n_features=5. All the features will be returned.\n",
      "  warnings.warn(\n"
     ]
    },
    {
     "name": "stdout",
     "output_type": "stream",
     "text": [
      "Evaluating: n_neighbors=6, weights=uniform, k_best=6\n"
     ]
    },
    {
     "name": "stderr",
     "output_type": "stream",
     "text": [
      "/opt/anaconda3/lib/python3.12/site-packages/sklearn/feature_selection/_univariate_selection.py:776: UserWarning: k=7 is greater than n_features=5. All the features will be returned.\n",
      "  warnings.warn(\n"
     ]
    },
    {
     "name": "stdout",
     "output_type": "stream",
     "text": [
      "Evaluating: n_neighbors=6, weights=uniform, k_best=7\n"
     ]
    },
    {
     "name": "stderr",
     "output_type": "stream",
     "text": [
      "/opt/anaconda3/lib/python3.12/site-packages/sklearn/feature_selection/_univariate_selection.py:776: UserWarning: k=8 is greater than n_features=5. All the features will be returned.\n",
      "  warnings.warn(\n"
     ]
    },
    {
     "name": "stdout",
     "output_type": "stream",
     "text": [
      "Evaluating: n_neighbors=6, weights=uniform, k_best=8\n"
     ]
    },
    {
     "name": "stderr",
     "output_type": "stream",
     "text": [
      "/opt/anaconda3/lib/python3.12/site-packages/sklearn/feature_selection/_univariate_selection.py:776: UserWarning: k=9 is greater than n_features=5. All the features will be returned.\n",
      "  warnings.warn(\n"
     ]
    },
    {
     "name": "stdout",
     "output_type": "stream",
     "text": [
      "Evaluating: n_neighbors=6, weights=uniform, k_best=9\n"
     ]
    },
    {
     "name": "stderr",
     "output_type": "stream",
     "text": [
      "/opt/anaconda3/lib/python3.12/site-packages/sklearn/feature_selection/_univariate_selection.py:776: UserWarning: k=10 is greater than n_features=5. All the features will be returned.\n",
      "  warnings.warn(\n"
     ]
    },
    {
     "name": "stdout",
     "output_type": "stream",
     "text": [
      "Evaluating: n_neighbors=6, weights=uniform, k_best=10\n",
      "Evaluating: n_neighbors=6, weights=distance, k_best=1\n",
      "Evaluating: n_neighbors=6, weights=distance, k_best=2\n",
      "Evaluating: n_neighbors=6, weights=distance, k_best=3\n",
      "Evaluating: n_neighbors=6, weights=distance, k_best=4\n",
      "Evaluating: n_neighbors=6, weights=distance, k_best=5\n"
     ]
    },
    {
     "name": "stderr",
     "output_type": "stream",
     "text": [
      "/opt/anaconda3/lib/python3.12/site-packages/sklearn/feature_selection/_univariate_selection.py:776: UserWarning: k=6 is greater than n_features=5. All the features will be returned.\n",
      "  warnings.warn(\n"
     ]
    },
    {
     "name": "stdout",
     "output_type": "stream",
     "text": [
      "Evaluating: n_neighbors=6, weights=distance, k_best=6\n"
     ]
    },
    {
     "name": "stderr",
     "output_type": "stream",
     "text": [
      "/opt/anaconda3/lib/python3.12/site-packages/sklearn/feature_selection/_univariate_selection.py:776: UserWarning: k=7 is greater than n_features=5. All the features will be returned.\n",
      "  warnings.warn(\n"
     ]
    },
    {
     "name": "stdout",
     "output_type": "stream",
     "text": [
      "Evaluating: n_neighbors=6, weights=distance, k_best=7\n"
     ]
    },
    {
     "name": "stderr",
     "output_type": "stream",
     "text": [
      "/opt/anaconda3/lib/python3.12/site-packages/sklearn/feature_selection/_univariate_selection.py:776: UserWarning: k=8 is greater than n_features=5. All the features will be returned.\n",
      "  warnings.warn(\n"
     ]
    },
    {
     "name": "stdout",
     "output_type": "stream",
     "text": [
      "Evaluating: n_neighbors=6, weights=distance, k_best=8\n"
     ]
    },
    {
     "name": "stderr",
     "output_type": "stream",
     "text": [
      "/opt/anaconda3/lib/python3.12/site-packages/sklearn/feature_selection/_univariate_selection.py:776: UserWarning: k=9 is greater than n_features=5. All the features will be returned.\n",
      "  warnings.warn(\n"
     ]
    },
    {
     "name": "stdout",
     "output_type": "stream",
     "text": [
      "Evaluating: n_neighbors=6, weights=distance, k_best=9\n"
     ]
    },
    {
     "name": "stderr",
     "output_type": "stream",
     "text": [
      "/opt/anaconda3/lib/python3.12/site-packages/sklearn/feature_selection/_univariate_selection.py:776: UserWarning: k=10 is greater than n_features=5. All the features will be returned.\n",
      "  warnings.warn(\n"
     ]
    },
    {
     "name": "stdout",
     "output_type": "stream",
     "text": [
      "Evaluating: n_neighbors=6, weights=distance, k_best=10\n",
      "Evaluating: n_neighbors=7, weights=uniform, k_best=1\n",
      "Evaluating: n_neighbors=7, weights=uniform, k_best=2\n",
      "Evaluating: n_neighbors=7, weights=uniform, k_best=3\n",
      "Evaluating: n_neighbors=7, weights=uniform, k_best=4\n",
      "Evaluating: n_neighbors=7, weights=uniform, k_best=5\n"
     ]
    },
    {
     "name": "stderr",
     "output_type": "stream",
     "text": [
      "/opt/anaconda3/lib/python3.12/site-packages/sklearn/feature_selection/_univariate_selection.py:776: UserWarning: k=6 is greater than n_features=5. All the features will be returned.\n",
      "  warnings.warn(\n"
     ]
    },
    {
     "name": "stdout",
     "output_type": "stream",
     "text": [
      "Evaluating: n_neighbors=7, weights=uniform, k_best=6\n"
     ]
    },
    {
     "name": "stderr",
     "output_type": "stream",
     "text": [
      "/opt/anaconda3/lib/python3.12/site-packages/sklearn/feature_selection/_univariate_selection.py:776: UserWarning: k=7 is greater than n_features=5. All the features will be returned.\n",
      "  warnings.warn(\n"
     ]
    },
    {
     "name": "stdout",
     "output_type": "stream",
     "text": [
      "Evaluating: n_neighbors=7, weights=uniform, k_best=7\n"
     ]
    },
    {
     "name": "stderr",
     "output_type": "stream",
     "text": [
      "/opt/anaconda3/lib/python3.12/site-packages/sklearn/feature_selection/_univariate_selection.py:776: UserWarning: k=8 is greater than n_features=5. All the features will be returned.\n",
      "  warnings.warn(\n"
     ]
    },
    {
     "name": "stdout",
     "output_type": "stream",
     "text": [
      "Evaluating: n_neighbors=7, weights=uniform, k_best=8\n"
     ]
    },
    {
     "name": "stderr",
     "output_type": "stream",
     "text": [
      "/opt/anaconda3/lib/python3.12/site-packages/sklearn/feature_selection/_univariate_selection.py:776: UserWarning: k=9 is greater than n_features=5. All the features will be returned.\n",
      "  warnings.warn(\n"
     ]
    },
    {
     "name": "stdout",
     "output_type": "stream",
     "text": [
      "Evaluating: n_neighbors=7, weights=uniform, k_best=9\n"
     ]
    },
    {
     "name": "stderr",
     "output_type": "stream",
     "text": [
      "/opt/anaconda3/lib/python3.12/site-packages/sklearn/feature_selection/_univariate_selection.py:776: UserWarning: k=10 is greater than n_features=5. All the features will be returned.\n",
      "  warnings.warn(\n"
     ]
    },
    {
     "name": "stdout",
     "output_type": "stream",
     "text": [
      "Evaluating: n_neighbors=7, weights=uniform, k_best=10\n",
      "Evaluating: n_neighbors=7, weights=distance, k_best=1\n",
      "Evaluating: n_neighbors=7, weights=distance, k_best=2\n",
      "Evaluating: n_neighbors=7, weights=distance, k_best=3\n",
      "Evaluating: n_neighbors=7, weights=distance, k_best=4\n",
      "Evaluating: n_neighbors=7, weights=distance, k_best=5\n"
     ]
    },
    {
     "name": "stderr",
     "output_type": "stream",
     "text": [
      "/opt/anaconda3/lib/python3.12/site-packages/sklearn/feature_selection/_univariate_selection.py:776: UserWarning: k=6 is greater than n_features=5. All the features will be returned.\n",
      "  warnings.warn(\n"
     ]
    },
    {
     "name": "stdout",
     "output_type": "stream",
     "text": [
      "Evaluating: n_neighbors=7, weights=distance, k_best=6\n"
     ]
    },
    {
     "name": "stderr",
     "output_type": "stream",
     "text": [
      "/opt/anaconda3/lib/python3.12/site-packages/sklearn/feature_selection/_univariate_selection.py:776: UserWarning: k=7 is greater than n_features=5. All the features will be returned.\n",
      "  warnings.warn(\n"
     ]
    },
    {
     "name": "stdout",
     "output_type": "stream",
     "text": [
      "Evaluating: n_neighbors=7, weights=distance, k_best=7\n"
     ]
    },
    {
     "name": "stderr",
     "output_type": "stream",
     "text": [
      "/opt/anaconda3/lib/python3.12/site-packages/sklearn/feature_selection/_univariate_selection.py:776: UserWarning: k=8 is greater than n_features=5. All the features will be returned.\n",
      "  warnings.warn(\n"
     ]
    },
    {
     "name": "stdout",
     "output_type": "stream",
     "text": [
      "Evaluating: n_neighbors=7, weights=distance, k_best=8\n"
     ]
    },
    {
     "name": "stderr",
     "output_type": "stream",
     "text": [
      "/opt/anaconda3/lib/python3.12/site-packages/sklearn/feature_selection/_univariate_selection.py:776: UserWarning: k=9 is greater than n_features=5. All the features will be returned.\n",
      "  warnings.warn(\n"
     ]
    },
    {
     "name": "stdout",
     "output_type": "stream",
     "text": [
      "Evaluating: n_neighbors=7, weights=distance, k_best=9\n"
     ]
    },
    {
     "name": "stderr",
     "output_type": "stream",
     "text": [
      "/opt/anaconda3/lib/python3.12/site-packages/sklearn/feature_selection/_univariate_selection.py:776: UserWarning: k=10 is greater than n_features=5. All the features will be returned.\n",
      "  warnings.warn(\n"
     ]
    },
    {
     "name": "stdout",
     "output_type": "stream",
     "text": [
      "Evaluating: n_neighbors=7, weights=distance, k_best=10\n",
      "Evaluating: n_neighbors=8, weights=uniform, k_best=1\n",
      "Evaluating: n_neighbors=8, weights=uniform, k_best=2\n",
      "Evaluating: n_neighbors=8, weights=uniform, k_best=3\n",
      "Evaluating: n_neighbors=8, weights=uniform, k_best=4\n",
      "Evaluating: n_neighbors=8, weights=uniform, k_best=5\n"
     ]
    },
    {
     "name": "stderr",
     "output_type": "stream",
     "text": [
      "/opt/anaconda3/lib/python3.12/site-packages/sklearn/feature_selection/_univariate_selection.py:776: UserWarning: k=6 is greater than n_features=5. All the features will be returned.\n",
      "  warnings.warn(\n"
     ]
    },
    {
     "name": "stdout",
     "output_type": "stream",
     "text": [
      "Evaluating: n_neighbors=8, weights=uniform, k_best=6\n"
     ]
    },
    {
     "name": "stderr",
     "output_type": "stream",
     "text": [
      "/opt/anaconda3/lib/python3.12/site-packages/sklearn/feature_selection/_univariate_selection.py:776: UserWarning: k=7 is greater than n_features=5. All the features will be returned.\n",
      "  warnings.warn(\n"
     ]
    },
    {
     "name": "stdout",
     "output_type": "stream",
     "text": [
      "Evaluating: n_neighbors=8, weights=uniform, k_best=7\n"
     ]
    },
    {
     "name": "stderr",
     "output_type": "stream",
     "text": [
      "/opt/anaconda3/lib/python3.12/site-packages/sklearn/feature_selection/_univariate_selection.py:776: UserWarning: k=8 is greater than n_features=5. All the features will be returned.\n",
      "  warnings.warn(\n"
     ]
    },
    {
     "name": "stdout",
     "output_type": "stream",
     "text": [
      "Evaluating: n_neighbors=8, weights=uniform, k_best=8\n"
     ]
    },
    {
     "name": "stderr",
     "output_type": "stream",
     "text": [
      "/opt/anaconda3/lib/python3.12/site-packages/sklearn/feature_selection/_univariate_selection.py:776: UserWarning: k=9 is greater than n_features=5. All the features will be returned.\n",
      "  warnings.warn(\n"
     ]
    },
    {
     "name": "stdout",
     "output_type": "stream",
     "text": [
      "Evaluating: n_neighbors=8, weights=uniform, k_best=9\n"
     ]
    },
    {
     "name": "stderr",
     "output_type": "stream",
     "text": [
      "/opt/anaconda3/lib/python3.12/site-packages/sklearn/feature_selection/_univariate_selection.py:776: UserWarning: k=10 is greater than n_features=5. All the features will be returned.\n",
      "  warnings.warn(\n"
     ]
    },
    {
     "name": "stdout",
     "output_type": "stream",
     "text": [
      "Evaluating: n_neighbors=8, weights=uniform, k_best=10\n",
      "Evaluating: n_neighbors=8, weights=distance, k_best=1\n",
      "Evaluating: n_neighbors=8, weights=distance, k_best=2\n",
      "Evaluating: n_neighbors=8, weights=distance, k_best=3\n",
      "Evaluating: n_neighbors=8, weights=distance, k_best=4\n",
      "Evaluating: n_neighbors=8, weights=distance, k_best=5\n"
     ]
    },
    {
     "name": "stderr",
     "output_type": "stream",
     "text": [
      "/opt/anaconda3/lib/python3.12/site-packages/sklearn/feature_selection/_univariate_selection.py:776: UserWarning: k=6 is greater than n_features=5. All the features will be returned.\n",
      "  warnings.warn(\n"
     ]
    },
    {
     "name": "stdout",
     "output_type": "stream",
     "text": [
      "Evaluating: n_neighbors=8, weights=distance, k_best=6\n"
     ]
    },
    {
     "name": "stderr",
     "output_type": "stream",
     "text": [
      "/opt/anaconda3/lib/python3.12/site-packages/sklearn/feature_selection/_univariate_selection.py:776: UserWarning: k=7 is greater than n_features=5. All the features will be returned.\n",
      "  warnings.warn(\n"
     ]
    },
    {
     "name": "stdout",
     "output_type": "stream",
     "text": [
      "Evaluating: n_neighbors=8, weights=distance, k_best=7\n"
     ]
    },
    {
     "name": "stderr",
     "output_type": "stream",
     "text": [
      "/opt/anaconda3/lib/python3.12/site-packages/sklearn/feature_selection/_univariate_selection.py:776: UserWarning: k=8 is greater than n_features=5. All the features will be returned.\n",
      "  warnings.warn(\n"
     ]
    },
    {
     "name": "stdout",
     "output_type": "stream",
     "text": [
      "Evaluating: n_neighbors=8, weights=distance, k_best=8\n"
     ]
    },
    {
     "name": "stderr",
     "output_type": "stream",
     "text": [
      "/opt/anaconda3/lib/python3.12/site-packages/sklearn/feature_selection/_univariate_selection.py:776: UserWarning: k=9 is greater than n_features=5. All the features will be returned.\n",
      "  warnings.warn(\n"
     ]
    },
    {
     "name": "stdout",
     "output_type": "stream",
     "text": [
      "Evaluating: n_neighbors=8, weights=distance, k_best=9\n"
     ]
    },
    {
     "name": "stderr",
     "output_type": "stream",
     "text": [
      "/opt/anaconda3/lib/python3.12/site-packages/sklearn/feature_selection/_univariate_selection.py:776: UserWarning: k=10 is greater than n_features=5. All the features will be returned.\n",
      "  warnings.warn(\n"
     ]
    },
    {
     "name": "stdout",
     "output_type": "stream",
     "text": [
      "Evaluating: n_neighbors=8, weights=distance, k_best=10\n",
      "Evaluating: n_neighbors=9, weights=uniform, k_best=1\n",
      "Evaluating: n_neighbors=9, weights=uniform, k_best=2\n",
      "Evaluating: n_neighbors=9, weights=uniform, k_best=3\n",
      "Evaluating: n_neighbors=9, weights=uniform, k_best=4\n",
      "Evaluating: n_neighbors=9, weights=uniform, k_best=5\n"
     ]
    },
    {
     "name": "stderr",
     "output_type": "stream",
     "text": [
      "/opt/anaconda3/lib/python3.12/site-packages/sklearn/feature_selection/_univariate_selection.py:776: UserWarning: k=6 is greater than n_features=5. All the features will be returned.\n",
      "  warnings.warn(\n"
     ]
    },
    {
     "name": "stdout",
     "output_type": "stream",
     "text": [
      "Evaluating: n_neighbors=9, weights=uniform, k_best=6\n"
     ]
    },
    {
     "name": "stderr",
     "output_type": "stream",
     "text": [
      "/opt/anaconda3/lib/python3.12/site-packages/sklearn/feature_selection/_univariate_selection.py:776: UserWarning: k=7 is greater than n_features=5. All the features will be returned.\n",
      "  warnings.warn(\n"
     ]
    },
    {
     "name": "stdout",
     "output_type": "stream",
     "text": [
      "Evaluating: n_neighbors=9, weights=uniform, k_best=7\n"
     ]
    },
    {
     "name": "stderr",
     "output_type": "stream",
     "text": [
      "/opt/anaconda3/lib/python3.12/site-packages/sklearn/feature_selection/_univariate_selection.py:776: UserWarning: k=8 is greater than n_features=5. All the features will be returned.\n",
      "  warnings.warn(\n"
     ]
    },
    {
     "name": "stdout",
     "output_type": "stream",
     "text": [
      "Evaluating: n_neighbors=9, weights=uniform, k_best=8\n"
     ]
    },
    {
     "name": "stderr",
     "output_type": "stream",
     "text": [
      "/opt/anaconda3/lib/python3.12/site-packages/sklearn/feature_selection/_univariate_selection.py:776: UserWarning: k=9 is greater than n_features=5. All the features will be returned.\n",
      "  warnings.warn(\n"
     ]
    },
    {
     "name": "stdout",
     "output_type": "stream",
     "text": [
      "Evaluating: n_neighbors=9, weights=uniform, k_best=9\n"
     ]
    },
    {
     "name": "stderr",
     "output_type": "stream",
     "text": [
      "/opt/anaconda3/lib/python3.12/site-packages/sklearn/feature_selection/_univariate_selection.py:776: UserWarning: k=10 is greater than n_features=5. All the features will be returned.\n",
      "  warnings.warn(\n"
     ]
    },
    {
     "name": "stdout",
     "output_type": "stream",
     "text": [
      "Evaluating: n_neighbors=9, weights=uniform, k_best=10\n",
      "Evaluating: n_neighbors=9, weights=distance, k_best=1\n",
      "Evaluating: n_neighbors=9, weights=distance, k_best=2\n",
      "Evaluating: n_neighbors=9, weights=distance, k_best=3\n",
      "Evaluating: n_neighbors=9, weights=distance, k_best=4\n",
      "Evaluating: n_neighbors=9, weights=distance, k_best=5\n"
     ]
    },
    {
     "name": "stderr",
     "output_type": "stream",
     "text": [
      "/opt/anaconda3/lib/python3.12/site-packages/sklearn/feature_selection/_univariate_selection.py:776: UserWarning: k=6 is greater than n_features=5. All the features will be returned.\n",
      "  warnings.warn(\n"
     ]
    },
    {
     "name": "stdout",
     "output_type": "stream",
     "text": [
      "Evaluating: n_neighbors=9, weights=distance, k_best=6\n"
     ]
    },
    {
     "name": "stderr",
     "output_type": "stream",
     "text": [
      "/opt/anaconda3/lib/python3.12/site-packages/sklearn/feature_selection/_univariate_selection.py:776: UserWarning: k=7 is greater than n_features=5. All the features will be returned.\n",
      "  warnings.warn(\n"
     ]
    },
    {
     "name": "stdout",
     "output_type": "stream",
     "text": [
      "Evaluating: n_neighbors=9, weights=distance, k_best=7\n"
     ]
    },
    {
     "name": "stderr",
     "output_type": "stream",
     "text": [
      "/opt/anaconda3/lib/python3.12/site-packages/sklearn/feature_selection/_univariate_selection.py:776: UserWarning: k=8 is greater than n_features=5. All the features will be returned.\n",
      "  warnings.warn(\n"
     ]
    },
    {
     "name": "stdout",
     "output_type": "stream",
     "text": [
      "Evaluating: n_neighbors=9, weights=distance, k_best=8\n"
     ]
    },
    {
     "name": "stderr",
     "output_type": "stream",
     "text": [
      "/opt/anaconda3/lib/python3.12/site-packages/sklearn/feature_selection/_univariate_selection.py:776: UserWarning: k=9 is greater than n_features=5. All the features will be returned.\n",
      "  warnings.warn(\n"
     ]
    },
    {
     "name": "stdout",
     "output_type": "stream",
     "text": [
      "Evaluating: n_neighbors=9, weights=distance, k_best=9\n"
     ]
    },
    {
     "name": "stderr",
     "output_type": "stream",
     "text": [
      "/opt/anaconda3/lib/python3.12/site-packages/sklearn/feature_selection/_univariate_selection.py:776: UserWarning: k=10 is greater than n_features=5. All the features will be returned.\n",
      "  warnings.warn(\n"
     ]
    },
    {
     "name": "stdout",
     "output_type": "stream",
     "text": [
      "Evaluating: n_neighbors=9, weights=distance, k_best=10\n",
      "Evaluating: n_neighbors=10, weights=uniform, k_best=1\n",
      "Evaluating: n_neighbors=10, weights=uniform, k_best=2\n",
      "Evaluating: n_neighbors=10, weights=uniform, k_best=3\n",
      "Evaluating: n_neighbors=10, weights=uniform, k_best=4\n",
      "Evaluating: n_neighbors=10, weights=uniform, k_best=5\n"
     ]
    },
    {
     "name": "stderr",
     "output_type": "stream",
     "text": [
      "/opt/anaconda3/lib/python3.12/site-packages/sklearn/feature_selection/_univariate_selection.py:776: UserWarning: k=6 is greater than n_features=5. All the features will be returned.\n",
      "  warnings.warn(\n"
     ]
    },
    {
     "name": "stdout",
     "output_type": "stream",
     "text": [
      "Evaluating: n_neighbors=10, weights=uniform, k_best=6\n"
     ]
    },
    {
     "name": "stderr",
     "output_type": "stream",
     "text": [
      "/opt/anaconda3/lib/python3.12/site-packages/sklearn/feature_selection/_univariate_selection.py:776: UserWarning: k=7 is greater than n_features=5. All the features will be returned.\n",
      "  warnings.warn(\n"
     ]
    },
    {
     "name": "stdout",
     "output_type": "stream",
     "text": [
      "Evaluating: n_neighbors=10, weights=uniform, k_best=7\n"
     ]
    },
    {
     "name": "stderr",
     "output_type": "stream",
     "text": [
      "/opt/anaconda3/lib/python3.12/site-packages/sklearn/feature_selection/_univariate_selection.py:776: UserWarning: k=8 is greater than n_features=5. All the features will be returned.\n",
      "  warnings.warn(\n"
     ]
    },
    {
     "name": "stdout",
     "output_type": "stream",
     "text": [
      "Evaluating: n_neighbors=10, weights=uniform, k_best=8\n"
     ]
    },
    {
     "name": "stderr",
     "output_type": "stream",
     "text": [
      "/opt/anaconda3/lib/python3.12/site-packages/sklearn/feature_selection/_univariate_selection.py:776: UserWarning: k=9 is greater than n_features=5. All the features will be returned.\n",
      "  warnings.warn(\n"
     ]
    },
    {
     "name": "stdout",
     "output_type": "stream",
     "text": [
      "Evaluating: n_neighbors=10, weights=uniform, k_best=9\n"
     ]
    },
    {
     "name": "stderr",
     "output_type": "stream",
     "text": [
      "/opt/anaconda3/lib/python3.12/site-packages/sklearn/feature_selection/_univariate_selection.py:776: UserWarning: k=10 is greater than n_features=5. All the features will be returned.\n",
      "  warnings.warn(\n"
     ]
    },
    {
     "name": "stdout",
     "output_type": "stream",
     "text": [
      "Evaluating: n_neighbors=10, weights=uniform, k_best=10\n",
      "Evaluating: n_neighbors=10, weights=distance, k_best=1\n",
      "Evaluating: n_neighbors=10, weights=distance, k_best=2\n",
      "Evaluating: n_neighbors=10, weights=distance, k_best=3\n",
      "Evaluating: n_neighbors=10, weights=distance, k_best=4\n",
      "Evaluating: n_neighbors=10, weights=distance, k_best=5\n"
     ]
    },
    {
     "name": "stderr",
     "output_type": "stream",
     "text": [
      "/opt/anaconda3/lib/python3.12/site-packages/sklearn/feature_selection/_univariate_selection.py:776: UserWarning: k=6 is greater than n_features=5. All the features will be returned.\n",
      "  warnings.warn(\n"
     ]
    },
    {
     "name": "stdout",
     "output_type": "stream",
     "text": [
      "Evaluating: n_neighbors=10, weights=distance, k_best=6\n"
     ]
    },
    {
     "name": "stderr",
     "output_type": "stream",
     "text": [
      "/opt/anaconda3/lib/python3.12/site-packages/sklearn/feature_selection/_univariate_selection.py:776: UserWarning: k=7 is greater than n_features=5. All the features will be returned.\n",
      "  warnings.warn(\n"
     ]
    },
    {
     "name": "stdout",
     "output_type": "stream",
     "text": [
      "Evaluating: n_neighbors=10, weights=distance, k_best=7\n"
     ]
    },
    {
     "name": "stderr",
     "output_type": "stream",
     "text": [
      "/opt/anaconda3/lib/python3.12/site-packages/sklearn/feature_selection/_univariate_selection.py:776: UserWarning: k=8 is greater than n_features=5. All the features will be returned.\n",
      "  warnings.warn(\n"
     ]
    },
    {
     "name": "stdout",
     "output_type": "stream",
     "text": [
      "Evaluating: n_neighbors=10, weights=distance, k_best=8\n"
     ]
    },
    {
     "name": "stderr",
     "output_type": "stream",
     "text": [
      "/opt/anaconda3/lib/python3.12/site-packages/sklearn/feature_selection/_univariate_selection.py:776: UserWarning: k=9 is greater than n_features=5. All the features will be returned.\n",
      "  warnings.warn(\n"
     ]
    },
    {
     "name": "stdout",
     "output_type": "stream",
     "text": [
      "Evaluating: n_neighbors=10, weights=distance, k_best=9\n"
     ]
    },
    {
     "name": "stderr",
     "output_type": "stream",
     "text": [
      "/opt/anaconda3/lib/python3.12/site-packages/sklearn/feature_selection/_univariate_selection.py:776: UserWarning: k=10 is greater than n_features=5. All the features will be returned.\n",
      "  warnings.warn(\n"
     ]
    },
    {
     "name": "stdout",
     "output_type": "stream",
     "text": [
      "Evaluating: n_neighbors=10, weights=distance, k_best=10\n",
      "     n_neighbors   weights  k_best  precision_mean  precision_std  \\\n",
      "32             2  distance       3        0.317480       0.006241   \n",
      "33             2  distance       4        0.315335       0.007567   \n",
      "34             2  distance       5        0.313647       0.009160   \n",
      "35             2  distance       6        0.313647       0.009160   \n",
      "36             2  distance       7        0.313647       0.009160   \n",
      "37             2  distance       8        0.313647       0.009160   \n",
      "38             2  distance       9        0.313647       0.009160   \n",
      "39             2  distance      10        0.313647       0.009160   \n",
      "79             4  distance      10        0.338496       0.004489   \n",
      "78             4  distance       9        0.338496       0.004489   \n",
      "77             4  distance       8        0.338496       0.004489   \n",
      "76             4  distance       7        0.338496       0.004489   \n",
      "75             4  distance       6        0.338496       0.004489   \n",
      "74             4  distance       5        0.338496       0.004489   \n",
      "55             3  distance       6        0.328014       0.009251   \n",
      "54             3  distance       5        0.328014       0.009251   \n",
      "56             3  distance       7        0.328014       0.009251   \n",
      "57             3  distance       8        0.328014       0.009251   \n",
      "58             3  distance       9        0.328014       0.009251   \n",
      "59             3  distance      10        0.328014       0.009251   \n",
      "13             1  distance       4        0.291486       0.008283   \n",
      "3              1   uniform       4        0.291486       0.008283   \n",
      "12             1  distance       3        0.294339       0.007481   \n",
      "2              1   uniform       3        0.294339       0.007481   \n",
      "73             4  distance       4        0.335208       0.005404   \n",
      "49             3   uniform      10        0.344321       0.009633   \n",
      "48             3   uniform       9        0.344321       0.009633   \n",
      "47             3   uniform       8        0.344321       0.009633   \n",
      "46             3   uniform       7        0.344321       0.009633   \n",
      "44             3   uniform       5        0.344321       0.009633   \n",
      "45             3   uniform       6        0.344321       0.009633   \n",
      "96             5  distance       7        0.342723       0.004612   \n",
      "99             5  distance      10        0.342723       0.004612   \n",
      "94             5  distance       5        0.342723       0.004612   \n",
      "95             5  distance       6        0.342723       0.004612   \n",
      "98             5  distance       9        0.342723       0.004612   \n",
      "97             5  distance       8        0.342723       0.004612   \n",
      "53             3  distance       4        0.322013       0.010233   \n",
      "52             3  distance       3        0.323029       0.010898   \n",
      "7              1   uniform       8        0.287625       0.008576   \n",
      "6              1   uniform       7        0.287625       0.008576   \n",
      "5              1   uniform       6        0.287625       0.008576   \n",
      "4              1   uniform       5        0.287625       0.008576   \n",
      "18             1  distance       9        0.287625       0.008576   \n",
      "14             1  distance       5        0.287625       0.008576   \n",
      "15             1  distance       6        0.287625       0.008576   \n",
      "16             1  distance       7        0.287625       0.008576   \n",
      "17             1  distance       8        0.287625       0.008576   \n",
      "8              1   uniform       9        0.287625       0.008576   \n",
      "9              1   uniform      10        0.287625       0.008576   \n",
      "19             1  distance      10        0.287625       0.008576   \n",
      "119            6  distance      10        0.348746       0.007156   \n",
      "114            6  distance       5        0.348746       0.007156   \n",
      "115            6  distance       6        0.348746       0.007156   \n",
      "116            6  distance       7        0.348746       0.007156   \n",
      "117            6  distance       8        0.348746       0.007156   \n",
      "118            6  distance       9        0.348746       0.007156   \n",
      "72             4  distance       3        0.331176       0.008532   \n",
      "93             5  distance       4        0.340092       0.008261   \n",
      "42             3   uniform       3        0.334871       0.015272   \n",
      "43             3   uniform       4        0.333398       0.005784   \n",
      "113            6  distance       4        0.344462       0.008716   \n",
      "139            7  distance      10        0.350706       0.007021   \n",
      "138            7  distance       9        0.350706       0.007021   \n",
      "137            7  distance       8        0.350706       0.007021   \n",
      "135            7  distance       6        0.350706       0.007021   \n",
      "136            7  distance       7        0.350706       0.007021   \n",
      "134            7  distance       5        0.350706       0.007021   \n",
      "86             5   uniform       7        0.370747       0.005647   \n",
      "85             5   uniform       6        0.370747       0.005647   \n",
      "87             5   uniform       8        0.370747       0.005647   \n",
      "88             5   uniform       9        0.370747       0.005647   \n",
      "84             5   uniform       5        0.370747       0.005647   \n",
      "89             5   uniform      10        0.370747       0.005647   \n",
      "92             5  distance       3        0.336860       0.007592   \n",
      "159            8  distance      10        0.353689       0.008095   \n",
      "154            8  distance       5        0.353689       0.008095   \n",
      "155            8  distance       6        0.353689       0.008095   \n",
      "156            8  distance       7        0.353689       0.008095   \n",
      "157            8  distance       8        0.353689       0.008095   \n",
      "158            8  distance       9        0.353689       0.008095   \n",
      "112            6  distance       3        0.344123       0.007869   \n",
      "31             2  distance       2        0.291703       0.007166   \n",
      "176            9  distance       7        0.355101       0.008090   \n",
      "174            9  distance       5        0.355101       0.008090   \n",
      "175            9  distance       6        0.355101       0.008090   \n",
      "179            9  distance      10        0.355101       0.008090   \n",
      "178            9  distance       9        0.355101       0.008090   \n",
      "177            9  distance       8        0.355101       0.008090   \n",
      "132            7  distance       3        0.348693       0.010824   \n",
      "83             5   uniform       4        0.366590       0.012457   \n",
      "199           10  distance      10        0.359192       0.007119   \n",
      "198           10  distance       9        0.359192       0.007119   \n",
      "197           10  distance       8        0.359192       0.007119   \n",
      "196           10  distance       7        0.359192       0.007119   \n",
      "195           10  distance       6        0.359192       0.007119   \n",
      "194           10  distance       5        0.359192       0.007119   \n",
      "133            7  distance       4        0.343545       0.009100   \n",
      "152            8  distance       3        0.354151       0.008096   \n",
      "172            9  distance       3        0.360412       0.009831   \n",
      "153            8  distance       4        0.348758       0.005952   \n",
      "71             4  distance       2        0.314505       0.007955   \n",
      "51             3  distance       2        0.303645       0.010838   \n",
      "82             5   uniform       3        0.360996       0.010503   \n",
      "1              1   uniform       2        0.272561       0.006525   \n",
      "11             1  distance       2        0.272561       0.006525   \n",
      "124            7   uniform       5        0.400199       0.016640   \n",
      "129            7   uniform      10        0.400199       0.016640   \n",
      "128            7   uniform       9        0.400199       0.016640   \n",
      "127            7   uniform       8        0.400199       0.016640   \n",
      "126            7   uniform       7        0.400199       0.016640   \n",
      "125            7   uniform       6        0.400199       0.016640   \n",
      "192           10  distance       3        0.361313       0.012592   \n",
      "173            9  distance       4        0.349350       0.011240   \n",
      "41             3   uniform       2        0.314394       0.012974   \n",
      "193           10  distance       4        0.352706       0.012253   \n",
      "91             5  distance       2        0.319317       0.012313   \n",
      "111            6  distance       2        0.324452       0.009087   \n",
      "122            7   uniform       3        0.389589       0.023805   \n",
      "123            7   uniform       4        0.386854       0.010715   \n",
      "131            7  distance       2        0.328109       0.009767   \n",
      "81             5   uniform       2        0.347217       0.016426   \n",
      "167            9   uniform       8        0.424542       0.023085   \n",
      "166            9   uniform       7        0.424542       0.023085   \n",
      "165            9   uniform       6        0.424542       0.023085   \n",
      "164            9   uniform       5        0.424542       0.023085   \n",
      "168            9   uniform       9        0.424542       0.023085   \n",
      "169            9   uniform      10        0.424542       0.023085   \n",
      "162            9   uniform       3        0.416120       0.014516   \n",
      "151            8  distance       2        0.331207       0.011043   \n",
      "171            9  distance       2        0.334211       0.007676   \n",
      "121            7   uniform       2        0.377590       0.020345   \n",
      "64             4   uniform       5        0.407634       0.009307   \n",
      "69             4   uniform      10        0.407634       0.009307   \n",
      "68             4   uniform       9        0.407634       0.009307   \n",
      "67             4   uniform       8        0.407634       0.009307   \n",
      "66             4   uniform       7        0.407634       0.009307   \n",
      "65             4   uniform       6        0.407634       0.009307   \n",
      "163            9   uniform       4        0.405785       0.009289   \n",
      "191           10  distance       2        0.334998       0.009941   \n",
      "108            6   uniform       9        0.430047       0.013603   \n",
      "107            6   uniform       8        0.430047       0.013603   \n",
      "106            6   uniform       7        0.430047       0.013603   \n",
      "105            6   uniform       6        0.430047       0.013603   \n",
      "104            6   uniform       5        0.430047       0.013603   \n",
      "109            6   uniform      10        0.430047       0.013603   \n",
      "50             3  distance       1        0.284346       0.009862   \n",
      "0              1   uniform       1        0.253357       0.008753   \n",
      "10             1  distance       1        0.253357       0.008753   \n",
      "90             5  distance       1        0.306546       0.016524   \n",
      "70             4  distance       1        0.323167       0.016438   \n",
      "63             4   uniform       4        0.388833       0.018622   \n",
      "40             3   uniform       1        0.283008       0.014026   \n",
      "24             2   uniform       5        0.363543       0.013495   \n",
      "25             2   uniform       6        0.363543       0.013495   \n",
      "26             2   uniform       7        0.363543       0.013495   \n",
      "27             2   uniform       8        0.363543       0.013495   \n",
      "28             2   uniform       9        0.363543       0.013495   \n",
      "29             2   uniform      10        0.363543       0.013495   \n",
      "149            8   uniform      10        0.445096       0.013665   \n",
      "148            8   uniform       9        0.445096       0.013665   \n",
      "144            8   uniform       5        0.445096       0.013665   \n",
      "147            8   uniform       8        0.445096       0.013665   \n",
      "146            8   uniform       7        0.445096       0.013665   \n",
      "145            8   uniform       6        0.445096       0.013665   \n",
      "103            6   uniform       4        0.412342       0.009696   \n",
      "110            6  distance       1        0.329747       0.016784   \n",
      "62             4   uniform       3        0.383400       0.009470   \n",
      "102            6   uniform       3        0.413617       0.010901   \n",
      "130            7  distance       1        0.317153       0.016921   \n",
      "161            9   uniform       2        0.381801       0.012419   \n",
      "189           10   uniform      10        0.470137       0.020433   \n",
      "188           10   uniform       9        0.470137       0.020433   \n",
      "187           10   uniform       8        0.470137       0.020433   \n",
      "186           10   uniform       7        0.470137       0.020433   \n",
      "185           10   uniform       6        0.470137       0.020433   \n",
      "184           10   uniform       5        0.470137       0.020433   \n",
      "170            9  distance       1        0.328171       0.017943   \n",
      "142            8   uniform       3        0.436696       0.018809   \n",
      "150            8  distance       1        0.333041       0.019936   \n",
      "22             2   uniform       3        0.358331       0.014711   \n",
      "30             2  distance       1        0.311073       0.017893   \n",
      "23             2   uniform       4        0.350559       0.012277   \n",
      "80             5   uniform       1        0.305513       0.019504   \n",
      "190           10  distance       1        0.331091       0.014973   \n",
      "143            8   uniform       4        0.416682       0.009694   \n",
      "182           10   uniform       3        0.442220       0.024147   \n",
      "101            6   uniform       2        0.398404       0.023192   \n",
      "61             4   uniform       2        0.369235       0.012431   \n",
      "183           10   uniform       4        0.434049       0.010379   \n",
      "21             2   uniform       2        0.334893       0.024432   \n",
      "141            8   uniform       2        0.416345       0.015303   \n",
      "120            7   uniform       1        0.313882       0.012935   \n",
      "181           10   uniform       2        0.423136       0.028685   \n",
      "160            9   uniform       1        0.338711       0.018085   \n",
      "60             4   uniform       1        0.319230       0.023655   \n",
      "100            6   uniform       1        0.329190       0.019607   \n",
      "20             2   uniform       1        0.294072       0.025615   \n",
      "140            8   uniform       1        0.338156       0.017041   \n",
      "180           10   uniform       1        0.346419       0.026084   \n",
      "\n",
      "     recall_mean  recall_std   f1_mean    f1_std  roc_auc_mean  roc_auc_std  \n",
      "32      0.254783    0.005060  0.282648  0.004219      0.554940     0.002495  \n",
      "33      0.257366    0.008001  0.283402  0.007706      0.554816     0.004184  \n",
      "34      0.257653    0.010907  0.282877  0.010072      0.554314     0.005332  \n",
      "35      0.257653    0.010907  0.282877  0.010072      0.554314     0.005332  \n",
      "36      0.257653    0.010907  0.282877  0.010072      0.554314     0.005332  \n",
      "37      0.257653    0.010907  0.282877  0.010072      0.554314     0.005332  \n",
      "38      0.257653    0.010907  0.282877  0.010072      0.554314     0.005332  \n",
      "39      0.257653    0.010907  0.282877  0.010072      0.554314     0.005332  \n",
      "79      0.221596    0.008211  0.267769  0.006636      0.553545     0.002622  \n",
      "78      0.221596    0.008211  0.267769  0.006636      0.553545     0.002622  \n",
      "77      0.221596    0.008211  0.267769  0.006636      0.553545     0.002622  \n",
      "76      0.221596    0.008211  0.267769  0.006636      0.553545     0.002622  \n",
      "75      0.221596    0.008211  0.267769  0.006636      0.553545     0.002622  \n",
      "74      0.221596    0.008211  0.267769  0.006636      0.553545     0.002622  \n",
      "55      0.230969    0.006979  0.271051  0.007673      0.552921     0.004089  \n",
      "54      0.230969    0.006979  0.271051  0.007673      0.552921     0.004089  \n",
      "56      0.230969    0.006979  0.271051  0.007673      0.552921     0.004089  \n",
      "57      0.230969    0.006979  0.271051  0.007673      0.552921     0.004089  \n",
      "58      0.230969    0.006979  0.271051  0.007673      0.552921     0.004089  \n",
      "59      0.230969    0.006979  0.271051  0.007673      0.552921     0.004089  \n",
      "13      0.286631    0.009058  0.289036  0.008654      0.551216     0.005311  \n",
      "3       0.286631    0.009058  0.289036  0.008654      0.551216     0.005311  \n",
      "12      0.279935    0.002698  0.286929  0.004713      0.551180     0.003606  \n",
      "2       0.279935    0.002698  0.286929  0.004713      0.551180     0.003606  \n",
      "73      0.214997    0.009675  0.261884  0.008337      0.551144     0.003333  \n",
      "49      0.205911    0.006470  0.257694  0.007527      0.551115     0.003707  \n",
      "48      0.205911    0.006470  0.257694  0.007527      0.551115     0.003707  \n",
      "47      0.205911    0.006470  0.257694  0.007527      0.551115     0.003707  \n",
      "46      0.205911    0.006470  0.257694  0.007527      0.551115     0.003707  \n",
      "44      0.205911    0.006470  0.257694  0.007527      0.551115     0.003707  \n",
      "45      0.205911    0.006470  0.257694  0.007527      0.551115     0.003707  \n",
      "96      0.202659    0.003288  0.254678  0.002854      0.549931     0.001311  \n",
      "99      0.202659    0.003288  0.254678  0.002854      0.549931     0.001311  \n",
      "94      0.202659    0.003288  0.254678  0.002854      0.549931     0.001311  \n",
      "95      0.202659    0.003288  0.254678  0.002854      0.549931     0.001311  \n",
      "98      0.202659    0.003288  0.254678  0.002854      0.549931     0.001311  \n",
      "97      0.202659    0.003288  0.254678  0.002854      0.549931     0.001311  \n",
      "53      0.223318    0.009006  0.263718  0.009562      0.549513     0.004840  \n",
      "52      0.220927    0.008080  0.262365  0.008876      0.549241     0.004596  \n",
      "7       0.284336    0.010268  0.285947  0.009124      0.549069     0.005540  \n",
      "6       0.284336    0.010268  0.285947  0.009124      0.549069     0.005540  \n",
      "5       0.284336    0.010268  0.285947  0.009124      0.549069     0.005540  \n",
      "4       0.284336    0.010268  0.285947  0.009124      0.549069     0.005540  \n",
      "18      0.284336    0.010268  0.285947  0.009124      0.549069     0.005540  \n",
      "14      0.284336    0.010268  0.285947  0.009124      0.549069     0.005540  \n",
      "15      0.284336    0.010268  0.285947  0.009124      0.549069     0.005540  \n",
      "16      0.284336    0.010268  0.285947  0.009124      0.549069     0.005540  \n",
      "17      0.284336    0.010268  0.285947  0.009124      0.549069     0.005540  \n",
      "8       0.284336    0.010268  0.285947  0.009124      0.549069     0.005540  \n",
      "9       0.284336    0.010268  0.285947  0.009124      0.549069     0.005540  \n",
      "19      0.284336    0.010268  0.285947  0.009124      0.549069     0.005540  \n",
      "119     0.192809    0.006331  0.248245  0.005608      0.548774     0.002254  \n",
      "114     0.192809    0.006331  0.248245  0.005608      0.548774     0.002254  \n",
      "115     0.192809    0.006331  0.248245  0.005608      0.548774     0.002254  \n",
      "116     0.192809    0.006331  0.248245  0.005608      0.548774     0.002254  \n",
      "117     0.192809    0.006331  0.248245  0.005608      0.548774     0.002254  \n",
      "118     0.192809    0.006331  0.248245  0.005608      0.548774     0.002254  \n",
      "72      0.208494    0.008772  0.255815  0.008263      0.548575     0.003646  \n",
      "93      0.193478    0.006119  0.246588  0.006224      0.547085     0.002826  \n",
      "42      0.198164    0.007234  0.248982  0.009925      0.547014     0.005269  \n",
      "43      0.197591    0.006893  0.248108  0.007008      0.546588     0.002983  \n",
      "113     0.184583    0.004690  0.240267  0.003746      0.545787     0.001751  \n",
      "139     0.179420    0.006915  0.237318  0.006832      0.545784     0.002583  \n",
      "138     0.179420    0.006915  0.237318  0.006832      0.545784     0.002583  \n",
      "137     0.179420    0.006915  0.237318  0.006832      0.545784     0.002583  \n",
      "135     0.179420    0.006915  0.237318  0.006832      0.545784     0.002583  \n",
      "136     0.179420    0.006915  0.237318  0.006832      0.545784     0.002583  \n",
      "134     0.179420    0.006915  0.237318  0.006832      0.545784     0.002583  \n",
      "86      0.164020    0.004610  0.227353  0.003894      0.545178     0.001036  \n",
      "85      0.164020    0.004610  0.227353  0.003894      0.545178     0.001036  \n",
      "87      0.164020    0.004610  0.227353  0.003894      0.545178     0.001036  \n",
      "88      0.164020    0.004610  0.227353  0.003894      0.545178     0.001036  \n",
      "84      0.164020    0.004610  0.227353  0.003894      0.545178     0.001036  \n",
      "89      0.164020    0.004610  0.227353  0.003894      0.545178     0.001036  \n",
      "92      0.187070    0.005253  0.240511  0.005454      0.544830     0.002466  \n",
      "159     0.171195    0.007581  0.230642  0.007929      0.544238     0.002970  \n",
      "154     0.171195    0.007581  0.230642  0.007929      0.544238     0.002970  \n",
      "155     0.171195    0.007581  0.230642  0.007929      0.544238     0.002970  \n",
      "156     0.171195    0.007581  0.230642  0.007929      0.544238     0.002970  \n",
      "157     0.171195    0.007581  0.230642  0.007929      0.544238     0.002970  \n",
      "158     0.171195    0.007581  0.230642  0.007929      0.544238     0.002970  \n",
      "112     0.177698    0.007449  0.234253  0.006701      0.544038     0.002399  \n",
      "31      0.236420    0.013106  0.261093  0.010690      0.542383     0.004938  \n",
      "176     0.163065    0.005830  0.223410  0.005751      0.542349     0.002049  \n",
      "174     0.163065    0.005830  0.223410  0.005751      0.542349     0.002049  \n",
      "175     0.163065    0.005830  0.223410  0.005751      0.542349     0.002049  \n",
      "179     0.163065    0.005830  0.223410  0.005751      0.542349     0.002049  \n",
      "178     0.163065    0.005830  0.223410  0.005751      0.542349     0.002049  \n",
      "177     0.163065    0.005830  0.223410  0.005751      0.542349     0.002049  \n",
      "132     0.167178    0.008218  0.225930  0.009053      0.542306     0.003636  \n",
      "83      0.155509    0.004568  0.218301  0.005318      0.542174     0.002450  \n",
      "199     0.158188    0.006859  0.219550  0.006992      0.541768     0.002284  \n",
      "198     0.158188    0.006859  0.219550  0.006992      0.541768     0.002284  \n",
      "197     0.158188    0.006859  0.219550  0.006992      0.541768     0.002284  \n",
      "196     0.158188    0.006859  0.219550  0.006992      0.541768     0.002284  \n",
      "195     0.158188    0.006859  0.219550  0.006992      0.541768     0.002284  \n",
      "194     0.158188    0.006859  0.219550  0.006992      0.541768     0.002284  \n",
      "133     0.168517    0.006784  0.226031  0.006983      0.541660     0.002756  \n",
      "152     0.159813    0.007965  0.220156  0.008446      0.541380     0.003000  \n",
      "172     0.154458    0.007820  0.216160  0.008678      0.540991     0.003158  \n",
      "153     0.161822    0.007674  0.220965  0.007561      0.540956     0.002396  \n",
      "71      0.193382    0.005756  0.239454  0.005817      0.540943     0.002818  \n",
      "51      0.204667    0.005772  0.244477  0.006961      0.540226     0.004042  \n",
      "82      0.149674    0.006608  0.211567  0.008011      0.539813     0.003086  \n",
      "1       0.269607    0.012395  0.271008  0.008984      0.539707     0.004753  \n",
      "11      0.269607    0.012395  0.271008  0.008984      0.539707     0.004753  \n",
      "124     0.130069    0.005806  0.196265  0.007894      0.539228     0.003149  \n",
      "129     0.130069    0.005806  0.196265  0.007894      0.539228     0.003149  \n",
      "128     0.130069    0.005806  0.196265  0.007894      0.539228     0.003149  \n",
      "127     0.130069    0.005806  0.196265  0.007894      0.539228     0.003149  \n",
      "126     0.130069    0.005806  0.196265  0.007894      0.539228     0.003149  \n",
      "125     0.130069    0.005806  0.196265  0.007894      0.539228     0.003149  \n",
      "192     0.146520    0.008122  0.208414  0.009649      0.539019     0.003637  \n",
      "173     0.151971    0.005241  0.211729  0.006046      0.538521     0.002591  \n",
      "41      0.180184    0.008237  0.229054  0.009824      0.538137     0.004811  \n",
      "193     0.146998    0.006811  0.207445  0.008232      0.537817     0.003243  \n",
      "91      0.172724    0.005970  0.224124  0.007178      0.537632     0.003661  \n",
      "111     0.161535    0.006705  0.215636  0.007404      0.536298     0.003047  \n",
      "122     0.122610    0.006917  0.186511  0.010667      0.535890     0.004549  \n",
      "123     0.122896    0.005190  0.186494  0.006787      0.535692     0.002399  \n",
      "131     0.151014    0.006324  0.206784  0.007238      0.534616     0.002927  \n",
      "81      0.137242    0.008118  0.196659  0.010432      0.534495     0.004280  \n",
      "167     0.107020    0.007228  0.170884  0.010644      0.534316     0.003889  \n",
      "166     0.107020    0.007228  0.170884  0.010644      0.534316     0.003889  \n",
      "165     0.107020    0.007228  0.170884  0.010644      0.534316     0.003889  \n",
      "164     0.107020    0.007228  0.170884  0.010644      0.534316     0.003889  \n",
      "168     0.107020    0.007228  0.170884  0.010644      0.534316     0.003889  \n",
      "169     0.107020    0.007228  0.170884  0.010644      0.534316     0.003889  \n",
      "162     0.105968    0.003109  0.168902  0.004863      0.533310     0.001995  \n",
      "151     0.142311    0.005741  0.199034  0.006959      0.533147     0.002874  \n",
      "171     0.134755    0.004409  0.192026  0.005023      0.531873     0.001841  \n",
      "121     0.111324    0.005515  0.171916  0.008335      0.531372     0.003407  \n",
      "64      0.101186    0.007754  0.162021  0.010379      0.531172     0.002934  \n",
      "69      0.101186    0.007754  0.162021  0.010379      0.531172     0.002934  \n",
      "68      0.101186    0.007754  0.162021  0.010379      0.531172     0.002934  \n",
      "67      0.101186    0.007754  0.162021  0.010379      0.531172     0.002934  \n",
      "66      0.101186    0.007754  0.162021  0.010379      0.531172     0.002934  \n",
      "65      0.101186    0.007754  0.162021  0.010379      0.531172     0.002934  \n",
      "163     0.101282    0.003036  0.162069  0.004041      0.531017     0.001267  \n",
      "191     0.128348    0.003423  0.185539  0.004032      0.530452     0.001757  \n",
      "108     0.089136    0.005408  0.147575  0.007553      0.528927     0.002058  \n",
      "107     0.089136    0.005408  0.147575  0.007553      0.528927     0.002058  \n",
      "106     0.089136    0.005408  0.147575  0.007553      0.528927     0.002058  \n",
      "105     0.089136    0.005408  0.147575  0.007553      0.528927     0.002058  \n",
      "104     0.089136    0.005408  0.147575  0.007553      0.528927     0.002058  \n",
      "109     0.089136    0.005408  0.147575  0.007553      0.528927     0.002058  \n",
      "50      0.166508    0.004352  0.210003  0.005791      0.527809     0.003299  \n",
      "0       0.250003    0.016478  0.251497  0.011726      0.527629     0.005871  \n",
      "10      0.250003    0.016478  0.251497  0.011726      0.527629     0.005871  \n",
      "90      0.137147    0.007106  0.189360  0.008274      0.527442     0.003859  \n",
      "70      0.121749    0.007530  0.176760  0.009460      0.527114     0.003798  \n",
      "63      0.092484    0.009954  0.149272  0.013932      0.527061     0.004161  \n",
      "40      0.159909    0.006279  0.204331  0.008585      0.526343     0.004668  \n",
      "24      0.096118    0.006007  0.152001  0.008525      0.525831     0.002791  \n",
      "25      0.096118    0.006007  0.152001  0.008525      0.525831     0.002791  \n",
      "26      0.096118    0.006007  0.152001  0.008525      0.525831     0.002791  \n",
      "27      0.096118    0.006007  0.152001  0.008525      0.525831     0.002791  \n",
      "28      0.096118    0.006007  0.152001  0.008525      0.525831     0.002791  \n",
      "29      0.096118    0.006007  0.152001  0.008525      0.525831     0.002791  \n",
      "149     0.077085    0.004944  0.131339  0.007310      0.525823     0.001917  \n",
      "148     0.077085    0.004944  0.131339  0.007310      0.525823     0.001917  \n",
      "144     0.077085    0.004944  0.131339  0.007310      0.525823     0.001917  \n",
      "147     0.077085    0.004944  0.131339  0.007310      0.525823     0.001917  \n",
      "146     0.077085    0.004944  0.131339  0.007310      0.525823     0.001917  \n",
      "145     0.077085    0.004944  0.131339  0.007310      0.525823     0.001917  \n",
      "103     0.082537    0.002078  0.137503  0.002533      0.525691     0.000467  \n",
      "110     0.110750    0.008625  0.165717  0.011235      0.525623     0.003934  \n",
      "62      0.088752    0.003482  0.144090  0.004607      0.525486     0.001221  \n",
      "102     0.081293    0.002584  0.135875  0.004125      0.525410     0.001441  \n",
      "130     0.117254    0.008775  0.171098  0.010998      0.525234     0.004107  \n",
      "161     0.088179    0.004322  0.143237  0.006282      0.525212     0.002008  \n",
      "189     0.071634    0.005848  0.124245  0.009129      0.525133     0.002586  \n",
      "188     0.071634    0.005848  0.124245  0.009129      0.525133     0.002586  \n",
      "187     0.071634    0.005848  0.124245  0.009129      0.525133     0.002586  \n",
      "186     0.071634    0.005848  0.124245  0.009129      0.525133     0.002586  \n",
      "185     0.071634    0.005848  0.124245  0.009129      0.525133     0.002586  \n",
      "184     0.071634    0.005848  0.124245  0.009129      0.525133     0.002586  \n",
      "170     0.106829    0.009860  0.161018  0.012522      0.524497     0.004086  \n",
      "142     0.074025    0.003278  0.126579  0.005442      0.524381     0.001943  \n",
      "150     0.103291    0.007855  0.157613  0.010910      0.524296     0.004038  \n",
      "22      0.092004    0.002596  0.146379  0.003989      0.524178     0.001835  \n",
      "30      0.114385    0.012269  0.167044  0.014836      0.523736     0.004831  \n",
      "23      0.092675    0.006039  0.146541  0.008375      0.523654     0.002553  \n",
      "80      0.117158    0.006296  0.169247  0.008419      0.523251     0.003964  \n",
      "190     0.099465    0.006961  0.152898  0.009322      0.523167     0.003094  \n",
      "143     0.071347    0.002836  0.121806  0.004252      0.522460     0.001141  \n",
      "182     0.067426    0.003768  0.116977  0.006182      0.522447     0.002077  \n",
      "101     0.073738    0.004103  0.124436  0.006914      0.522139     0.002624  \n",
      "61      0.079667    0.004882  0.131009  0.007082      0.521841     0.002079  \n",
      "183     0.064652    0.003916  0.112460  0.005731      0.521149     0.001003  \n",
      "21      0.084163    0.006300  0.134493  0.009845      0.519967     0.003835  \n",
      "141     0.063121    0.002849  0.109571  0.004193      0.519827     0.001006  \n",
      "120     0.086936    0.005916  0.136107  0.008136      0.518357     0.002534  \n",
      "181     0.054227    0.004787  0.096118  0.008202      0.517352     0.002613  \n",
      "160     0.067521    0.002959  0.112525  0.004201      0.516261     0.001548  \n",
      "60      0.070008    0.004755  0.114708  0.006996      0.515140     0.002745  \n",
      "100     0.055662    0.004884  0.095157  0.007592      0.512822     0.002097  \n",
      "20      0.069244    0.008232  0.111931  0.011891      0.512608     0.003698  \n",
      "140     0.043325    0.001376  0.076782  0.002224      0.510409     0.000942  \n",
      "180     0.038542    0.001722  0.069327  0.002910      0.509586     0.001222  \n"
     ]
    }
   ],
   "source": [
    "from sklearn.model_selection import GridSearchCV\n",
    "from sklearn.metrics import make_scorer, precision_score, recall_score, f1_score, roc_auc_score\n",
    "\n",
    "# Define the scoring metrics\n",
    "scoring_metrics = {\n",
    "    'precision': make_scorer(precision_score, average='binary', needs_proba=False),\n",
    "    'recall': make_scorer(recall_score, average='binary', needs_proba=False),\n",
    "    'f1': make_scorer(f1_score, average='binary', needs_proba=False),\n",
    "    'roc_auc': make_scorer(roc_auc_score)\n",
    "}\n",
    "\n",
    "# Create a list to store results\n",
    "grid_results = []\n",
    "\n",
    "# Define the parameter grid for KNN\n",
    "param_grid = {\n",
    "    'n_neighbors': range(1, 11),\n",
    "    'weights': ['uniform', 'distance'],\n",
    "    'k_best': range(1, 11)\n",
    "}\n",
    "\n",
    "# Loop through each combination of parameters\n",
    "for n_neighbors in param_grid['n_neighbors']:\n",
    "    for weight in param_grid['weights']:\n",
    "        for k in param_grid['k_best']:\n",
    "            # Feature selection with the top k features\n",
    "            feature_selector = SelectKBest(score_func=f_classif, k=k)\n",
    "            X_train_top_features = feature_selector.fit_transform(train_selected_features, target_train)\n",
    "            \n",
    "            # Initialize the KNN classifier\n",
    "            knn_model = KNeighborsClassifier(n_neighbors=n_neighbors, weights=weight, n_jobs=-1)\n",
    "            \n",
    "            # Perform cross-validation\n",
    "            cv_results = cross_validate(knn_model, X_train_top_features, target_train, scoring=scoring_metrics, cv=5, return_train_score=False)\n",
    "            \n",
    "            # Print current parameter combination being evaluated\n",
    "            print(f\"Evaluating: n_neighbors={n_neighbors}, weights={weight}, k_best={k}\")\n",
    "            \n",
    "            # Store results\n",
    "            grid_results.append({\n",
    "                'n_neighbors': n_neighbors,\n",
    "                'weights': weight,\n",
    "                'k_best': k,\n",
    "                'precision_mean': cv_results['test_precision'].mean(),\n",
    "                'precision_std': cv_results['test_precision'].std(),\n",
    "                'recall_mean': cv_results['test_recall'].mean(),\n",
    "                'recall_std': cv_results['test_recall'].std(),\n",
    "                'f1_mean': cv_results['test_f1'].mean(),\n",
    "                'f1_std': cv_results['test_f1'].std(),\n",
    "                'roc_auc_mean': cv_results['test_roc_auc'].mean(),\n",
    "                'roc_auc_std': cv_results['test_roc_auc'].std()\n",
    "            })\n",
    "\n",
    "# Convert results to a DataFrame\n",
    "results_df = pd.DataFrame(grid_results)\n",
    "\n",
    "# Sort results by AUROC\n",
    "sorted_results_df = results_df.sort_values(by='roc_auc_mean', ascending=False)\n",
    "\n",
    "# Display the sorted results\n",
    "print(sorted_results_df)"
   ]
  },
  {
   "cell_type": "markdown",
   "id": "ba7eb557-2743-4aa4-9a53-6019329738ed",
   "metadata": {},
   "source": [
    "## Summary\n",
    "\n",
    "OK, so we have gotten marginally better, but in the process we have tried out a few new tools/steps.\n",
    "\n",
    "We will build on this kind of framework in the next assignment and introduce the concept of a pipeline to make for less boilerplate.\n",
    "\n",
    "And, hopefully, with better feature engineering, classification algorithms better suited to the problem and possibly some external data, we will be able to improve the results even more!\n"
   ]
  }
 ],
 "metadata": {
  "kernelspec": {
   "display_name": "Python 3 (ipykernel)",
   "language": "python",
   "name": "python3"
  },
  "language_info": {
   "codemirror_mode": {
    "name": "ipython",
    "version": 3
   },
   "file_extension": ".py",
   "mimetype": "text/x-python",
   "name": "python",
   "nbconvert_exporter": "python",
   "pygments_lexer": "ipython3",
   "version": "3.12.4"
  }
 },
 "nbformat": 4,
 "nbformat_minor": 5
}
