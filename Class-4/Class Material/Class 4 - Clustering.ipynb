{
 "cells": [
  {
   "cell_type": "code",
   "execution_count": null,
   "id": "b6889a90-14c8-43c0-8305-4cef5465f0c3",
   "metadata": {},
   "outputs": [],
   "source": [
    "import duckdb\n",
    "import os\n",
    "import pandas as pd\n",
    "import urllib.request \n",
    "from zipfile import ZipFile \n",
    "from sklearn.preprocessing import MinMaxScaler\n",
    "from sklearn.metrics.pairwise import cosine_similarity, euclidean_distances\n",
    "from sklearn.cluster import KMeans\n",
    "\n",
    "\n",
    "from matplotlib import pyplot as plt\n",
    "\n",
    "pd.set_option('display.max_rows', 500)\n",
    "pd.set_option('display.max_columns', 500)"
   ]
  },
  {
   "cell_type": "code",
   "execution_count": null,
   "id": "00a43475-a52b-4503-8b0e-038ce9cba4e8",
   "metadata": {},
   "outputs": [],
   "source": [
    "path_to_export = \"/Users/paul_gwu/code/data/MovieLensExport/\" ## please replace with your own path!\n",
    "duckdb.sql(f'''IMPORT DATABASE '{path_to_export}' ''') # parquet is a fast and efficient format\n",
    "#Let's check that the data all loaded!\n",
    "duckdb.sql('SHOW TABLES')"
   ]
  },
  {
   "cell_type": "code",
   "execution_count": null,
   "id": "c607123e-9ddf-4fa6-9dcc-18d889562b63",
   "metadata": {},
   "outputs": [],
   "source": [
    "duckdb.sql('SELECT COUNT(DISTINCT movieId), COUNT(DISTINCT UserId) FROM ratings_fact WHERE rating >= 5')"
   ]
  },
  {
   "cell_type": "code",
   "execution_count": null,
   "id": "4c5cec2c-ec61-4771-a51e-02e5aa33750b",
   "metadata": {},
   "outputs": [],
   "source": [
    "query = '''\n",
    "\n",
    "CREATE OR REPLACE TABLE driver_table AS \n",
    "(\n",
    "    SELECT \n",
    "        movieId\n",
    "        , COUNT(*) AS number_reviews\n",
    "        , AVG(rating) AS average_review\n",
    "    FROM\n",
    "        ratings_fact r\n",
    "    GROUP BY\n",
    "        movieId\n",
    "    HAVING number_reviews >=25\n",
    ")\n",
    "\n",
    "'''\n",
    "\n",
    "duckdb.sql(query)\n",
    "duckdb.sql('SELECT * FROM driver_table').df()\n",
    "    "
   ]
  },
  {
   "cell_type": "code",
   "execution_count": null,
   "id": "b1140752-d161-4848-865d-7c0470c7d485",
   "metadata": {
    "scrolled": true
   },
   "outputs": [],
   "source": [
    "query = '''\n",
    "CREATE OR REPLACE TABLE driver2 AS (\n",
    "    WITH genre_rating AS (\n",
    "    \n",
    "        SELECT \n",
    "              movieId\n",
    "            , title\n",
    "            , genres\n",
    "            , g.genre\n",
    "        FROM\n",
    "            movies d\n",
    "        LEFT JOIN\n",
    "            genre_dim g\n",
    "        USING (movieId)\n",
    "\n",
    "        \n",
    "    )\n",
    "    , genre_features AS (\n",
    "        PIVOT genre_rating\n",
    "        ON  genre \n",
    "        USING \n",
    "         COUNT(genre) AS genre_feature\n",
    "    )\n",
    "    \n",
    "    SELECT\n",
    "        *\n",
    "        FROM \n",
    "            driver_table d\n",
    "        LEFT JOIN\n",
    "            genre_features gf\n",
    "        USING (movieId)\n",
    ")\n",
    "'''\n",
    "duckdb.sql(query)\n",
    "duckdb.sql(\"SELECT * FROM driver2 LIMIT 10\").df()"
   ]
  },
  {
   "cell_type": "code",
   "execution_count": null,
   "id": "2754337c-13be-41b5-aea4-89ac1c058d3c",
   "metadata": {},
   "outputs": [],
   "source": [
    "df = duckdb.sql(\"SELECT * FROM driver2 \").df()\n",
    "features = [i for i in df.columns if 'genre_feature' in i]\n",
    "X = df[features]\n",
    "\n",
    "kmeans = KMeans(n_clusters=20, random_state=0, n_init=\"auto\").fit(X)\n"
   ]
  },
  {
   "cell_type": "code",
   "execution_count": null,
   "id": "694228f6-9b02-44a9-b779-fb86427dc222",
   "metadata": {},
   "outputs": [],
   "source": [
    "df[kmeans.labels_==0]"
   ]
  },
  {
   "cell_type": "code",
   "execution_count": null,
   "id": "b73ca7c8-0089-4e48-abbc-2ddd37f3decd",
   "metadata": {},
   "outputs": [],
   "source": []
  }
 ],
 "metadata": {
  "kernelspec": {
   "display_name": "Python [conda env:class_1] *",
   "language": "python",
   "name": "conda-env-class_1-py"
  },
  "language_info": {
   "codemirror_mode": {
    "name": "ipython",
    "version": 3
   },
   "file_extension": ".py",
   "mimetype": "text/x-python",
   "name": "python",
   "nbconvert_exporter": "python",
   "pygments_lexer": "ipython3",
   "version": "3.11.9"
  }
 },
 "nbformat": 4,
 "nbformat_minor": 5
}
